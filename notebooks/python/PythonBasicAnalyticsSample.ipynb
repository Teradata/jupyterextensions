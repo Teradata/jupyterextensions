{
 "cells": [
  {
   "cell_type": "markdown",
   "metadata": {},
   "source": [
    "<h2>Basic Analytic Functions Operations</h2>\n",
    "<p>\n",
    "This Python Notebook provides some basic workflow operations for the Teradata analytic functions library. It will use the plots, species, and surveys datasets created\n",
    "when running the PythonBasicAnalytics-Setup SQL notebook.</p>\n",
    "\n",
    "<i>NOTE: You must have a connection to Teradata Vantage that has the Teradata analytic functions installed.</i>\n",
    "    \n"
   ]
  },
  {
   "cell_type": "markdown",
   "metadata": {},
   "source": [
    "<h3>Get the list of Teradata analytic functions</h3>"
   ]
  },
  {
   "cell_type": "code",
   "execution_count": null,
   "metadata": {},
   "outputs": [],
   "source": [
    "help(\"teradataml\")"
   ]
  },
  {
   "cell_type": "markdown",
   "metadata": {},
   "source": [
    "<h3>Import statements</h3>"
   ]
  },
  {
   "cell_type": "code",
   "execution_count": null,
   "metadata": {},
   "outputs": [],
   "source": [
    "from teradataml.context.context import create_context, remove_context, get_context\n",
    "from teradataml.dataframe.dataframe import DataFrame\n",
    "from teradataml.dataframe.copy_to import copy_to_sql\n",
    "from teradataml.options.display import display\n",
    "import numpy as np"
   ]
  },
  {
   "cell_type": "markdown",
   "metadata": {},
   "source": [
    " "
   ]
  },
  {
   "cell_type": "markdown",
   "metadata": {},
   "source": [
    "<h3>Create a connection</h3>"
   ]
  },
  {
   "cell_type": "code",
   "execution_count": null,
   "metadata": {},
   "outputs": [],
   "source": [
    "# Replace your cluster details for user, passwd and host\n",
    "user = \"xxxxx\"\n",
    "passwd = \"xxxxx\"\n",
    "host = \"xxxxx\"\n",
    "eng = create_context(host = host, username = user, password = passwd)\n",
    "conn = eng.connect()\n",
    "print(eng)\n",
    "print(conn)"
   ]
  },
  {
   "cell_type": "markdown",
   "metadata": {},
   "source": [
    " "
   ]
  },
  {
   "cell_type": "markdown",
   "metadata": {},
   "source": [
    "<h3>Create Teradata DataFrames</h3>\n",
    "\n",
    "<i>Insert the tables' data using the Teradata SQL notebooks provided (PythonBasicAnalytics-Cleanup.ipynb and PythonBasicAnalytics-Setup.ipynb) before executing the next cell.</i>"
   ]
  },
  {
   "cell_type": "code",
   "execution_count": null,
   "metadata": {},
   "outputs": [],
   "source": [
    "plots_data = DataFrame('plots')\n",
    "species_data = DataFrame('species')\n",
    "surveys_data = DataFrame('surveys')"
   ]
  },
  {
   "cell_type": "code",
   "execution_count": null,
   "metadata": {},
   "outputs": [],
   "source": [
    "plots_data.head(5)"
   ]
  },
  {
   "cell_type": "code",
   "execution_count": null,
   "metadata": {},
   "outputs": [],
   "source": [
    "species_data.head(5)"
   ]
  },
  {
   "cell_type": "code",
   "execution_count": null,
   "metadata": {},
   "outputs": [],
   "source": [
    "surveys_data.head(5)"
   ]
  },
  {
   "cell_type": "code",
   "execution_count": null,
   "metadata": {},
   "outputs": [],
   "source": [
    "# Function to verify whether the number of rows of a TeradataML dataframe equals 'value'\n",
    "def assertLength(df, value):\n",
    "    try:\n",
    "        assert(df.shape[0] == value)\n",
    "    except AssertionError:\n",
    "        raise"
   ]
  },
  {
   "cell_type": "markdown",
   "metadata": {},
   "source": [
    " "
   ]
  },
  {
   "cell_type": "markdown",
   "metadata": {},
   "source": [
    "## Verifying the correctness of initial data setup"
   ]
  },
  {
   "cell_type": "code",
   "execution_count": null,
   "metadata": {},
   "outputs": [],
   "source": [
    "assertLength(plots_data, 24)\n",
    "assertLength(species_data, 54)\n",
    "assertLength(surveys_data, 1236)"
   ]
  },
  {
   "cell_type": "code",
   "execution_count": null,
   "metadata": {},
   "outputs": [],
   "source": [
    "sorted_surveys_data = surveys_data.sort('record_id')\n",
    "sorted_surveys_data.head(10)"
   ]
  },
  {
   "cell_type": "code",
   "execution_count": null,
   "metadata": {},
   "outputs": [],
   "source": [
    "# Asserting some values of the survey data\n",
    "pandas_data = sorted_surveys_data.to_pandas()\n",
    "\n",
    "assert(pandas_data.index.name == \"record_id\")\n",
    "assert(list(pandas_data.index)[0:10] == [1, 2, 3, 4, 5, 6, 7, 8, 9, 10] )\n",
    "assert(list(pandas_data['plot_id'][0:10]) == [2, 3, 2, 7, 3, 1, 2, 1, 1, 6] )\n",
    "assert(list(pandas_data['year'][0:10]) == [1977]*10 )\n",
    "assert(list(pandas_data['month'][0:2]) == [7]*2 )\n",
    "assert(list(pandas_data['day'][0:10]) == [16]*10 )\n",
    "assert(list(pandas_data['species_id'][0:10]) == ['NL  ','NL  ','DM  ','DM  ','DM  ','PF  ','PE  ','DM  ','DM  ','PF  '])\n",
    "assert(list(pandas_data['hindfoot_length'][0:6]) == [32.0, 33.0, 37.0, 36.0, 35.0, 14.0])"
   ]
  },
  {
   "cell_type": "markdown",
   "metadata": {},
   "source": [
    " "
   ]
  },
  {
   "cell_type": "markdown",
   "metadata": {},
   "source": [
    "## Subsetting, sorting, transformation, joining of Teradata DataFrames"
   ]
  },
  {
   "cell_type": "code",
   "execution_count": null,
   "metadata": {},
   "outputs": [],
   "source": [
    "# extract the survey observations for the first three months of 1990 with filter\n",
    "surveys1990_winter = surveys_data[(surveys_data.year == 1990) & ((surveys_data.month == 1) | \n",
    "                                                                 (surveys_data.month == 2) | \n",
    "                                                                 (surveys_data.month == 3))]\n",
    "\n",
    "surveys1990_winter"
   ]
  },
  {
   "cell_type": "code",
   "execution_count": null,
   "metadata": {},
   "outputs": [],
   "source": [
    "assertLength(surveys1990_winter, 16)"
   ]
  },
  {
   "cell_type": "code",
   "execution_count": null,
   "metadata": {},
   "outputs": [],
   "source": [
    "# Remove redundant 'year' column - as all the rows have same value '1990'\n",
    "surveys1990_winter = surveys1990_winter.drop(['year'], axis = 1)\n",
    "surveys1990_winter.head()"
   ]
  },
  {
   "cell_type": "code",
   "execution_count": null,
   "metadata": {},
   "outputs": [],
   "source": [
    "assert('year' not in surveys1990_winter.columns) # Verifying whether 'year' is in list of columns"
   ]
  },
  {
   "cell_type": "code",
   "execution_count": null,
   "metadata": {},
   "outputs": [],
   "source": [
    "# sort the 1990 winter surveys data by descending order of species name, \n",
    "# then by ascending order of weight. \n",
    "sorted_survey1990 = surveys1990_winter.sort(columns=['species_id', 'weight'], ascending=[False, True])\n",
    "sorted_survey1990"
   ]
  },
  {
   "cell_type": "code",
   "execution_count": null,
   "metadata": {},
   "outputs": [],
   "source": [
    "# Count the number of individuals by species observed in the winter of 1990. \n",
    "# First define a grouping of our surveys1990_winter teradataml DataFrame with group_by, \n",
    "# then call count() to count the rows under each species.\n",
    "\n",
    "count_1990w = surveys1990_winter.groupby('species_id').count().select(['species_id', 'count_record_id'])\n",
    "count_1990w = count_1990w.assign(count1 = count_1990w.count_record_id)\n",
    "count_1990w = count_1990w.drop(['count_record_id'], axis=1)\n",
    "count_1990w"
   ]
  },
  {
   "cell_type": "code",
   "execution_count": null,
   "metadata": {},
   "outputs": [],
   "source": [
    "assertLength(count_1990w, 8)"
   ]
  },
  {
   "cell_type": "code",
   "execution_count": null,
   "metadata": {},
   "outputs": [],
   "source": [
    "# Sum of all count1 column values will give total samples (tot_cnt)\n",
    "total_count = count_1990w.select('count1').sum()\n",
    "tot_cnt = total_count.to_pandas()['sum_count1'][0]\n",
    "tot_cnt"
   ]
  },
  {
   "cell_type": "code",
   "execution_count": null,
   "metadata": {},
   "outputs": [],
   "source": [
    "surveys1990_winter.shape"
   ]
  },
  {
   "cell_type": "code",
   "execution_count": null,
   "metadata": {},
   "outputs": [],
   "source": [
    "# we use the previously obtained count variable to derive the PROPORTION of individuals represented by\n",
    "# each species, and assign the result to a new 'prop' column.\n",
    "count_1990w1 = count_1990w.assign(prop = count_1990w.count1 / float(tot_cnt))\n",
    "count_1990w1"
   ]
  },
  {
   "cell_type": "code",
   "execution_count": null,
   "metadata": {},
   "outputs": [],
   "source": [
    "count_1990w1.shape"
   ]
  },
  {
   "cell_type": "code",
   "execution_count": null,
   "metadata": {},
   "outputs": [],
   "source": [
    "count_1990w1.dtypes # Type of data in every column"
   ]
  },
  {
   "cell_type": "code",
   "execution_count": null,
   "metadata": {},
   "outputs": [],
   "source": [
    "# 0.9999999999999998\n",
    "assert(round(count_1990w1.select('prop').sum().to_pandas()['sum_prop'][0]) == 1)"
   ]
  },
  {
   "cell_type": "code",
   "execution_count": null,
   "metadata": {},
   "outputs": [],
   "source": [
    "# Inner join of DataFrames to get all species data along with count1 and prop.\n",
    "counts_1990w_join_inner = count_1990w1.join(species_data, on = 'species_id', how = \"inner\", lsuffix = 't1', rsuffix = 't2')\n",
    "counts_1990w_join_inner = counts_1990w_join_inner.assign(species_id = counts_1990w_join_inner.t1_species_id)\n",
    "counts_1990w_join_inner = counts_1990w_join_inner.drop(['t1_species_id', 't2_species_id'], axis = 1)\n",
    "counts_1990w_join_inner"
   ]
  },
  {
   "cell_type": "code",
   "execution_count": null,
   "metadata": {},
   "outputs": [],
   "source": [
    "counts_1990w_join_inner.shape"
   ]
  },
  {
   "cell_type": "code",
   "execution_count": null,
   "metadata": {},
   "outputs": [],
   "source": [
    "counts_1990w_join_inner.to_pandas()"
   ]
  },
  {
   "cell_type": "code",
   "execution_count": null,
   "metadata": {},
   "outputs": [],
   "source": [
    "# Asserting the columns in counts_1990w_join_inner\n",
    "expected_columns = list(set(species_data.columns + count_1990w1.columns))\n",
    "assert(len(counts_1990w_join_inner.columns) == len(expected_columns))\n",
    "assert(all(col in expected_columns for col in counts_1990w_join_inner.columns))"
   ]
  },
  {
   "cell_type": "code",
   "execution_count": null,
   "metadata": {},
   "outputs": [],
   "source": [
    "display.max_rows = 20"
   ]
  },
  {
   "cell_type": "code",
   "execution_count": null,
   "metadata": {},
   "outputs": [],
   "source": [
    "print(count_1990w1.shape)\n",
    "print(count_1990w1.columns)"
   ]
  },
  {
   "cell_type": "code",
   "execution_count": null,
   "metadata": {},
   "outputs": [],
   "source": [
    "print(species_data.shape)\n",
    "print(species_data.columns)"
   ]
  },
  {
   "cell_type": "code",
   "execution_count": null,
   "metadata": {},
   "outputs": [],
   "source": [
    "list(set(species_data.columns + count_1990w1.columns))"
   ]
  },
  {
   "cell_type": "code",
   "execution_count": null,
   "metadata": {},
   "outputs": [],
   "source": [
    "# Left join of DataFrames to get all species data along with count1 and prop.\n",
    "counts_1990w_join_left = count_1990w1.join(species_data, on = 'species_id', how = \"left\", lsuffix = 't1', rsuffix = 't2')\n",
    "counts_1990w_join_left = counts_1990w_join_left.assign(species_id = counts_1990w_join_left.t1_species_id)\n",
    "counts_1990w_join_left = counts_1990w_join_left.drop(['t1_species_id', 't2_species_id'], axis = 1)\n",
    "print(counts_1990w_join_left.shape)\n",
    "counts_1990w_join_left # Observe one species with \" \" species_id - which is not present in counts_1990w_join_inner"
   ]
  },
  {
   "cell_type": "code",
   "execution_count": null,
   "metadata": {},
   "outputs": [],
   "source": [
    "counts_1990w_join_left.sum().to_pandas() # sum_count1 should be 16 (total samples) and sum_prop should be 1 (adding up all proportions)"
   ]
  },
  {
   "cell_type": "code",
   "execution_count": null,
   "metadata": {},
   "outputs": [],
   "source": [
    "assert(counts_1990w_join_left.sum().to_pandas()['sum_count1'][0] == 16)\n",
    "assert(counts_1990w_join_left.sum().to_pandas()['sum_prop'][0] == 1.0)"
   ]
  },
  {
   "cell_type": "code",
   "execution_count": null,
   "metadata": {},
   "outputs": [],
   "source": [
    "list(counts_1990w_join_left.select('genus').to_pandas()['genus'])"
   ]
  },
  {
   "cell_type": "code",
   "execution_count": null,
   "metadata": {},
   "outputs": [],
   "source": [
    "# Get max value of every column grouped by genus\n",
    "counts_1990w_join_left.groupby('genus').max()"
   ]
  },
  {
   "cell_type": "code",
   "execution_count": null,
   "metadata": {},
   "outputs": [],
   "source": [
    "assertLength(counts_1990w_join_left.groupby('genus').max(), 7)"
   ]
  },
  {
   "cell_type": "code",
   "execution_count": null,
   "metadata": {},
   "outputs": [],
   "source": [
    "# Getting count of samples under each taxa\n",
    "taxa_grouby_sum = counts_1990w_join_left.groupby('taxa').sum().select(['taxa', 'sum_count1'])\n",
    "pd_taxa_groupby_sum = taxa_grouby_sum.to_pandas()\n",
    "pd_taxa_groupby_sum"
   ]
  },
  {
   "cell_type": "markdown",
   "metadata": {},
   "source": [
    "# Calculate the fraction of total counts by taxa (birds or rodents) represented by each species within that taxon."
   ]
  },
  {
   "cell_type": "code",
   "execution_count": null,
   "metadata": {},
   "outputs": [],
   "source": [
    "taxa_groupby_join_counts = counts_1990w_join_left.join(taxa_grouby_sum, how = 'right', on = 'taxa', \n",
    "                                       lsuffix= 'cnt', rsuffix= 'x')\n",
    "taxa_groupby_join_counts"
   ]
  },
  {
   "cell_type": "code",
   "execution_count": null,
   "metadata": {},
   "outputs": [],
   "source": [
    "taxa_groupby_join_counts = taxa_groupby_join_counts.drop(['cnt_taxa'], axis=1) # Dropping repeated column\n",
    "taxa_groupby_join_counts "
   ]
  },
  {
   "cell_type": "code",
   "execution_count": null,
   "metadata": {},
   "outputs": [],
   "source": [
    "taxa_groupby_prop_counts = taxa_groupby_join_counts.assign(\n",
    "                                    prop = taxa_groupby_join_counts.count1 / taxa_groupby_join_counts.sum_count1)\n",
    "# 'prop' column will have zeros as of now as every value lies between 0 and 1\n",
    "taxa_groupby_prop_counts"
   ]
  },
  {
   "cell_type": "code",
   "execution_count": null,
   "metadata": {},
   "outputs": [],
   "source": [
    "# The features of all surveyed individuals of Reithrodontomys montanus (RO).\n",
    "\n",
    "surveys_RO = surveys_data[surveys_data.species_id == 'RO']\n",
    "surveys_RO"
   ]
  },
  {
   "cell_type": "code",
   "execution_count": null,
   "metadata": {},
   "outputs": [],
   "source": [
    "# Find the average weight and hindfoot length of Dipodomys merriami (DM) individuals \n",
    "# observed in each month (irrespective of the year). Make sure to exclude NA values."
   ]
  },
  {
   "cell_type": "code",
   "execution_count": null,
   "metadata": {},
   "outputs": [],
   "source": [
    "surveys_dm = surveys_data[surveys_data.species_id == 'DM']\n",
    "surveys_dm"
   ]
  },
  {
   "cell_type": "code",
   "execution_count": null,
   "metadata": {},
   "outputs": [],
   "source": [
    "surveys_dm.to_pandas().shape"
   ]
  },
  {
   "cell_type": "code",
   "execution_count": null,
   "metadata": {},
   "outputs": [],
   "source": [
    "survey_monthwise = surveys_dm.groupby('month').agg({'weight' : 'mean', 'hindfoot_length' : 'mean'})"
   ]
  },
  {
   "cell_type": "code",
   "execution_count": null,
   "metadata": {},
   "outputs": [],
   "source": [
    "assertLength(survey_monthwise, 12)"
   ]
  },
  {
   "cell_type": "code",
   "execution_count": null,
   "metadata": {},
   "outputs": [],
   "source": [
    "expected_columns = ['month', 'mean_weight', 'mean_hindfoot_length']\n",
    "assert(len(survey_monthwise.columns) == len(expected_columns))\n",
    "assert(all(col in expected_columns for col in survey_monthwise.columns))"
   ]
  },
  {
   "cell_type": "code",
   "execution_count": null,
   "metadata": {},
   "outputs": [],
   "source": [
    "remove_context()"
   ]
  },
  {
   "cell_type": "markdown",
   "metadata": {},
   "source": [
    "<span style=\"font-size:16px;\">For more information on the Teradata analytic functions, refer to the [Teradata Documentation](https://docs.teradata.com/) and search for Teradata Package for Python.</span>"
   ]
  },
  {
   "cell_type": "markdown",
   "metadata": {},
   "source": [
    "Copyright 2019-2022 Teradata. All rights reserved."
   ]
  }
 ],
 "metadata": {
  "kernelspec": {
   "display_name": "Python 3",
   "language": "python",
   "name": "python3"
  },
  "language_info": {
   "codemirror_mode": {
    "name": "ipython",
    "version": 3
   },
   "file_extension": ".py",
   "mimetype": "text/x-python",
   "name": "python",
   "nbconvert_exporter": "python",
   "pygments_lexer": "ipython3",
   "version": "3.8.3"
  }
 },
 "nbformat": 4,
 "nbformat_minor": 4
}
