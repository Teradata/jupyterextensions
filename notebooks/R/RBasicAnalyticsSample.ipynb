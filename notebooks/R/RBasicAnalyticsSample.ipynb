{
 "cells": [
  {
   "cell_type": "markdown",
   "metadata": {},
   "source": [
    "<h2>Basic Analytic Functions Operations</h2>\n",
    "<p>\n",
    "This R Notebook provides some basic workflow operations for the Teradata analytic functions library.</p>\n",
    "\n",
    "<i>NOTE: You must have a connection to Teradata Vantage that has the Teradata analytic functions installed.</i>\n",
    "    \n"
   ]
  },
  {
   "cell_type": "markdown",
   "metadata": {},
   "source": [
    "<h3> Get the list of installed packages </h3>"
   ]
  },
  {
   "cell_type": "code",
   "execution_count": null,
   "metadata": {
    "vscode": {
     "languageId": "r"
    }
   },
   "outputs": [],
   "source": [
    "installed.packages()"
   ]
  },
  {
   "cell_type": "markdown",
   "metadata": {},
   "source": [
    "<h3> Show help for the Teradata tdplyr package </h3>"
   ]
  },
  {
   "cell_type": "code",
   "execution_count": null,
   "metadata": {
    "vscode": {
     "languageId": "r"
    }
   },
   "outputs": [],
   "source": [
    "help(package=tdplyr)"
   ]
  },
  {
   "cell_type": "markdown",
   "metadata": {},
   "source": [
    "<h3> Show help for specific functions in Teradata tdplyr package </h3>"
   ]
  },
  {
   "cell_type": "code",
   "execution_count": null,
   "metadata": {
    "tags": [],
    "vscode": {
     "languageId": "r"
    }
   },
   "outputs": [],
   "source": [
    "help(package=tdplyr,td_create_context)"
   ]
  },
  {
   "cell_type": "markdown",
   "metadata": {},
   "source": [
    "<h3> Include the tdplyr library </h3>"
   ]
  },
  {
   "cell_type": "code",
   "execution_count": null,
   "metadata": {
    "vscode": {
     "languageId": "r"
    }
   },
   "outputs": [],
   "source": [
    "library(tdplyr)"
   ]
  },
  {
   "cell_type": "markdown",
   "metadata": {},
   "source": [
    "<h3> Create a connection using the native driver</h3>"
   ]
  },
  {
   "cell_type": "code",
   "execution_count": null,
   "metadata": {
    "vscode": {
     "languageId": "r"
    }
   },
   "outputs": [],
   "source": [
    "# Replace your cluster details for user, passwd and host\n",
    "user = \"xxxxxx\"\n",
    "passwd = \"xxxxxx\"\n",
    "host = \"xxxxxx\"\n",
    "con <- td_create_context(host = host, uid = user, pwd = passwd, dType = \"native\")\n",
    "con"
   ]
  },
  {
   "cell_type": "markdown",
   "metadata": {},
   "source": [
    "<h3>Creating tables and data frames </h3>"
   ]
  },
  {
   "cell_type": "markdown",
   "metadata": {},
   "source": [
    "<h4> Include dplr and dbplyr libraries </h4>"
   ]
  },
  {
   "cell_type": "code",
   "execution_count": null,
   "metadata": {
    "vscode": {
     "languageId": "r"
    }
   },
   "outputs": [],
   "source": [
    "library(dplyr)\n",
    "library(dbplyr)"
   ]
  },
  {
   "cell_type": "markdown",
   "metadata": {},
   "source": [
    "<h4>Create a table iris_flowers from R built in dataset iris</h4>"
   ]
  },
  {
   "cell_type": "code",
   "execution_count": 8,
   "metadata": {
    "vscode": {
     "languageId": "r"
    }
   },
   "outputs": [],
   "source": [
    "copy_to(con, iris, name=\"iris_flowers\", overwrite=FALSE)"
   ]
  },
  {
   "cell_type": "code",
   "execution_count": 9,
   "metadata": {
    "vscode": {
     "languageId": "r"
    }
   },
   "outputs": [
    {
     "data": {
      "text/html": [
       "'data.frame'"
      ],
      "text/latex": [
       "'data.frame'"
      ],
      "text/markdown": [
       "'data.frame'"
      ],
      "text/plain": [
       "[1] \"data.frame\""
      ]
     },
     "metadata": {},
     "output_type": "display_data"
    }
   ],
   "source": [
    "class(iris)"
   ]
  },
  {
   "cell_type": "markdown",
   "metadata": {},
   "source": [
    "<h4>Create a tibble from a table</h4>"
   ]
  },
  {
   "cell_type": "code",
   "execution_count": 10,
   "metadata": {
    "vscode": {
     "languageId": "r"
    }
   },
   "outputs": [],
   "source": [
    "tddf_iris <- tbl(con, \"iris_flowers\")"
   ]
  },
  {
   "cell_type": "code",
   "execution_count": null,
   "metadata": {
    "vscode": {
     "languageId": "r"
    }
   },
   "outputs": [],
   "source": [
    "tddf_iris"
   ]
  },
  {
   "cell_type": "markdown",
   "metadata": {},
   "source": [
    "<h4> Create a data frame from a tibble </h4>"
   ]
  },
  {
   "cell_type": "code",
   "execution_count": null,
   "metadata": {
    "vscode": {
     "languageId": "r"
    }
   },
   "outputs": [],
   "source": [
    "df_iris <- as.data.frame(tddf_iris, n=20)"
   ]
  },
  {
   "cell_type": "code",
   "execution_count": null,
   "metadata": {
    "vscode": {
     "languageId": "r"
    }
   },
   "outputs": [],
   "source": [
    "tddf_iris"
   ]
  },
  {
   "cell_type": "code",
   "execution_count": 14,
   "metadata": {
    "vscode": {
     "languageId": "r"
    }
   },
   "outputs": [
    {
     "data": {
      "text/html": [
       "<table>\n",
       "<caption>A data.frame: 20 × 5</caption>\n",
       "<thead>\n",
       "\t<tr><th scope=col>Sepal.Length</th><th scope=col>Sepal.Width</th><th scope=col>Petal.Length</th><th scope=col>Petal.Width</th><th scope=col>Species</th></tr>\n",
       "\t<tr><th scope=col>&lt;dbl&gt;</th><th scope=col>&lt;dbl&gt;</th><th scope=col>&lt;dbl&gt;</th><th scope=col>&lt;dbl&gt;</th><th scope=col>&lt;chr&gt;</th></tr>\n",
       "</thead>\n",
       "<tbody>\n",
       "\t<tr><td>7.2</td><td>3.0</td><td>5.8</td><td>1.6</td><td>virginica </td></tr>\n",
       "\t<tr><td>6.4</td><td>2.9</td><td>4.3</td><td>1.3</td><td>versicolor</td></tr>\n",
       "\t<tr><td>6.4</td><td>2.7</td><td>5.3</td><td>1.9</td><td>virginica </td></tr>\n",
       "\t<tr><td>7.4</td><td>2.8</td><td>6.1</td><td>1.9</td><td>virginica </td></tr>\n",
       "\t<tr><td>6.2</td><td>2.9</td><td>4.3</td><td>1.3</td><td>versicolor</td></tr>\n",
       "\t<tr><td>6.2</td><td>2.8</td><td>4.8</td><td>1.8</td><td>virginica </td></tr>\n",
       "\t<tr><td>6.2</td><td>3.4</td><td>5.4</td><td>2.3</td><td>virginica </td></tr>\n",
       "\t<tr><td>6.1</td><td>2.9</td><td>4.7</td><td>1.4</td><td>versicolor</td></tr>\n",
       "\t<tr><td>7.3</td><td>2.9</td><td>6.3</td><td>1.8</td><td>virginica </td></tr>\n",
       "\t<tr><td>6.3</td><td>3.3</td><td>4.7</td><td>1.6</td><td>versicolor</td></tr>\n",
       "\t<tr><td>6.3</td><td>2.5</td><td>4.9</td><td>1.5</td><td>versicolor</td></tr>\n",
       "\t<tr><td>6.3</td><td>3.3</td><td>6.0</td><td>2.5</td><td>virginica </td></tr>\n",
       "\t<tr><td>6.3</td><td>2.9</td><td>5.6</td><td>1.8</td><td>virginica </td></tr>\n",
       "\t<tr><td>7.1</td><td>3.0</td><td>5.9</td><td>2.1</td><td>virginica </td></tr>\n",
       "\t<tr><td>5.4</td><td>3.9</td><td>1.7</td><td>0.4</td><td>setosa    </td></tr>\n",
       "\t<tr><td>5.4</td><td>3.7</td><td>1.5</td><td>0.2</td><td>setosa    </td></tr>\n",
       "\t<tr><td>5.4</td><td>3.9</td><td>1.3</td><td>0.4</td><td>setosa    </td></tr>\n",
       "\t<tr><td>5.4</td><td>3.4</td><td>1.7</td><td>0.2</td><td>setosa    </td></tr>\n",
       "\t<tr><td>5.4</td><td>3.4</td><td>1.5</td><td>0.4</td><td>setosa    </td></tr>\n",
       "\t<tr><td>6.3</td><td>2.3</td><td>4.4</td><td>1.3</td><td>versicolor</td></tr>\n",
       "</tbody>\n",
       "</table>\n"
      ],
      "text/latex": [
       "A data.frame: 20 × 5\n",
       "\\begin{tabular}{lllll}\n",
       " Sepal.Length & Sepal.Width & Petal.Length & Petal.Width & Species\\\\\n",
       " <dbl> & <dbl> & <dbl> & <dbl> & <chr>\\\\\n",
       "\\hline\n",
       "\t 7.2 & 3.0 & 5.8 & 1.6 & virginica \\\\\n",
       "\t 6.4 & 2.9 & 4.3 & 1.3 & versicolor\\\\\n",
       "\t 6.4 & 2.7 & 5.3 & 1.9 & virginica \\\\\n",
       "\t 7.4 & 2.8 & 6.1 & 1.9 & virginica \\\\\n",
       "\t 6.2 & 2.9 & 4.3 & 1.3 & versicolor\\\\\n",
       "\t 6.2 & 2.8 & 4.8 & 1.8 & virginica \\\\\n",
       "\t 6.2 & 3.4 & 5.4 & 2.3 & virginica \\\\\n",
       "\t 6.1 & 2.9 & 4.7 & 1.4 & versicolor\\\\\n",
       "\t 7.3 & 2.9 & 6.3 & 1.8 & virginica \\\\\n",
       "\t 6.3 & 3.3 & 4.7 & 1.6 & versicolor\\\\\n",
       "\t 6.3 & 2.5 & 4.9 & 1.5 & versicolor\\\\\n",
       "\t 6.3 & 3.3 & 6.0 & 2.5 & virginica \\\\\n",
       "\t 6.3 & 2.9 & 5.6 & 1.8 & virginica \\\\\n",
       "\t 7.1 & 3.0 & 5.9 & 2.1 & virginica \\\\\n",
       "\t 5.4 & 3.9 & 1.7 & 0.4 & setosa    \\\\\n",
       "\t 5.4 & 3.7 & 1.5 & 0.2 & setosa    \\\\\n",
       "\t 5.4 & 3.9 & 1.3 & 0.4 & setosa    \\\\\n",
       "\t 5.4 & 3.4 & 1.7 & 0.2 & setosa    \\\\\n",
       "\t 5.4 & 3.4 & 1.5 & 0.4 & setosa    \\\\\n",
       "\t 6.3 & 2.3 & 4.4 & 1.3 & versicolor\\\\\n",
       "\\end{tabular}\n"
      ],
      "text/markdown": [
       "\n",
       "A data.frame: 20 × 5\n",
       "\n",
       "| Sepal.Length &lt;dbl&gt; | Sepal.Width &lt;dbl&gt; | Petal.Length &lt;dbl&gt; | Petal.Width &lt;dbl&gt; | Species &lt;chr&gt; |\n",
       "|---|---|---|---|---|\n",
       "| 7.2 | 3.0 | 5.8 | 1.6 | virginica  |\n",
       "| 6.4 | 2.9 | 4.3 | 1.3 | versicolor |\n",
       "| 6.4 | 2.7 | 5.3 | 1.9 | virginica  |\n",
       "| 7.4 | 2.8 | 6.1 | 1.9 | virginica  |\n",
       "| 6.2 | 2.9 | 4.3 | 1.3 | versicolor |\n",
       "| 6.2 | 2.8 | 4.8 | 1.8 | virginica  |\n",
       "| 6.2 | 3.4 | 5.4 | 2.3 | virginica  |\n",
       "| 6.1 | 2.9 | 4.7 | 1.4 | versicolor |\n",
       "| 7.3 | 2.9 | 6.3 | 1.8 | virginica  |\n",
       "| 6.3 | 3.3 | 4.7 | 1.6 | versicolor |\n",
       "| 6.3 | 2.5 | 4.9 | 1.5 | versicolor |\n",
       "| 6.3 | 3.3 | 6.0 | 2.5 | virginica  |\n",
       "| 6.3 | 2.9 | 5.6 | 1.8 | virginica  |\n",
       "| 7.1 | 3.0 | 5.9 | 2.1 | virginica  |\n",
       "| 5.4 | 3.9 | 1.7 | 0.4 | setosa     |\n",
       "| 5.4 | 3.7 | 1.5 | 0.2 | setosa     |\n",
       "| 5.4 | 3.9 | 1.3 | 0.4 | setosa     |\n",
       "| 5.4 | 3.4 | 1.7 | 0.2 | setosa     |\n",
       "| 5.4 | 3.4 | 1.5 | 0.4 | setosa     |\n",
       "| 6.3 | 2.3 | 4.4 | 1.3 | versicolor |\n",
       "\n"
      ],
      "text/plain": [
       "   Sepal.Length Sepal.Width Petal.Length Petal.Width Species   \n",
       "1  7.2          3.0         5.8          1.6         virginica \n",
       "2  6.4          2.9         4.3          1.3         versicolor\n",
       "3  6.4          2.7         5.3          1.9         virginica \n",
       "4  7.4          2.8         6.1          1.9         virginica \n",
       "5  6.2          2.9         4.3          1.3         versicolor\n",
       "6  6.2          2.8         4.8          1.8         virginica \n",
       "7  6.2          3.4         5.4          2.3         virginica \n",
       "8  6.1          2.9         4.7          1.4         versicolor\n",
       "9  7.3          2.9         6.3          1.8         virginica \n",
       "10 6.3          3.3         4.7          1.6         versicolor\n",
       "11 6.3          2.5         4.9          1.5         versicolor\n",
       "12 6.3          3.3         6.0          2.5         virginica \n",
       "13 6.3          2.9         5.6          1.8         virginica \n",
       "14 7.1          3.0         5.9          2.1         virginica \n",
       "15 5.4          3.9         1.7          0.4         setosa    \n",
       "16 5.4          3.7         1.5          0.2         setosa    \n",
       "17 5.4          3.9         1.3          0.4         setosa    \n",
       "18 5.4          3.4         1.7          0.2         setosa    \n",
       "19 5.4          3.4         1.5          0.4         setosa    \n",
       "20 6.3          2.3         4.4          1.3         versicolor"
      ]
     },
     "metadata": {},
     "output_type": "display_data"
    }
   ],
   "source": [
    "df_iris"
   ]
  },
  {
   "cell_type": "markdown",
   "metadata": {},
   "source": [
    "<h4> Include additional libraries DBI and MASS </h4>"
   ]
  },
  {
   "cell_type": "code",
   "execution_count": null,
   "metadata": {
    "vscode": {
     "languageId": "r"
    }
   },
   "outputs": [],
   "source": [
    "library(DBI)\n",
    "library(MASS)"
   ]
  },
  {
   "cell_type": "markdown",
   "metadata": {},
   "source": [
    "<h4> Load the \"MASS\" package and perform preliminary tasks </h4>"
   ]
  },
  {
   "cell_type": "code",
   "execution_count": 16,
   "metadata": {
    "vscode": {
     "languageId": "r"
    }
   },
   "outputs": [],
   "source": [
    "PimaTr <-Pima.tr\n",
    "PimaTr$rowID <-seq.int(nrow(Pima.tr))\n",
    "PimaTr$type <-tolower(PimaTr$type)\n",
    "\n",
    "PimaTe <-Pima.te\n",
    "PimaTe$rowID <-seq.int(nrow(Pima.te))\n",
    "PimaTe$type <-tolower(PimaTe$type) "
   ]
  },
  {
   "cell_type": "markdown",
   "metadata": {},
   "source": [
    "<h4> Create tables in Vantage to hold the data </h4>"
   ]
  },
  {
   "cell_type": "code",
   "execution_count": 17,
   "metadata": {
    "vscode": {
     "languageId": "r"
    }
   },
   "outputs": [],
   "source": [
    "copy_to(con, PimaTr, name=\"Pima_train\", overwrite=FALSE)\n",
    "\n",
    "copy_to(con, PimaTe, name=\"Pima_test\", overwrite=FALSE)"
   ]
  },
  {
   "cell_type": "markdown",
   "metadata": {},
   "source": [
    "<h4> Create R tables from the Vantage tables created in previous step </h4>"
   ]
  },
  {
   "cell_type": "code",
   "execution_count": 18,
   "metadata": {
    "vscode": {
     "languageId": "r"
    }
   },
   "outputs": [],
   "source": [
    "tddf_Pima.tr <- tbl(con, \"Pima_train\")\n",
    "\n",
    "tddf_Pima.te <- tbl(con, \"Pima_test\")"
   ]
  },
  {
   "cell_type": "markdown",
   "metadata": {},
   "source": [
    "<h4> Remove tables created by this example </h4>"
   ]
  },
  {
   "cell_type": "code",
   "execution_count": 19,
   "metadata": {
    "vscode": {
     "languageId": "r"
    }
   },
   "outputs": [],
   "source": [
    "dbRemoveTable(con,\"iris_flowers\")"
   ]
  },
  {
   "cell_type": "code",
   "execution_count": 20,
   "metadata": {
    "vscode": {
     "languageId": "r"
    }
   },
   "outputs": [],
   "source": [
    "dbRemoveTable(con,\"Pima_test\")"
   ]
  },
  {
   "cell_type": "code",
   "execution_count": 21,
   "metadata": {
    "vscode": {
     "languageId": "r"
    }
   },
   "outputs": [],
   "source": [
    "dbRemoveTable(con,\"Pima_train\")"
   ]
  },
  {
   "cell_type": "code",
   "execution_count": 22,
   "metadata": {
    "vscode": {
     "languageId": "r"
    }
   },
   "outputs": [],
   "source": [
    "td_remove_context()"
   ]
  },
  {
   "cell_type": "markdown",
   "metadata": {},
   "source": [
    "<span style=\"font-size:16px;\">For more information on the Teradata analytic functions, refer to the [Teradata Documentation](https://docs.teradata.com/) and search for Teradata R Package.</span>"
   ]
  },
  {
   "cell_type": "markdown",
   "metadata": {},
   "source": [
    "Copyright 2019-2025 Teradata. All rights reserved."
   ]
  }
 ],
 "metadata": {
  "kernelspec": {
   "display_name": "R",
   "language": "R",
   "name": "ir"
  },
  "language_info": {
   "codemirror_mode": "r",
   "file_extension": ".r",
   "mimetype": "text/x-r-source",
   "name": "R",
   "pygments_lexer": "r",
   "version": "4.0.2"
  }
 },
 "nbformat": 4,
 "nbformat_minor": 4
}
