{
 "cells": [
  {
   "cell_type": "markdown",
   "metadata": {},
   "source": [
    "<h2>What's New in Vantage Modules for Jupyter 3.2</h2>"
   ]
  },
  {
   "cell_type": "markdown",
   "metadata": {},
   "source": [
    "<h4>The following new features are provided in this release:</h4>\n",
    "<ul>\n",
    "    <li><b>Navigator Enhancements</b></li>\n",
    "      <ul>\n",
    "        <li>Ability to select sample data from the Navigator.</li>\n",
    "      </ul>  \n",
    "    <li><b>View/Save Image Support</b></li>\n",
    "        <ul>\n",
    "           <li>Ability to view Blob data as image and save to file from the result set or via %savecolumn magic.</li>\n",
    "        </ul>  \n",
    "    <li><b>Charting Enhancements</b></li>\n",
    "        <ul>\n",
    "            <li>Support for multi-series, aggregating, sorting, binning, time unit and random sampling with %chart magic.</li>\n",
    "        </ul>  \n",
    "    <li><b>Data Load Enhancements</b></li>\n",
    "        <ul>\n",
    "           <li>Option to skip first n rows when loading from file.</li>\n",
    "        </ul>  \n",
    "</ul>"
   ]
  },
  {
   "cell_type": "markdown",
   "metadata": {},
   "source": [
    "#### Refer to the GettingStarted and other sample notebooks for more information on the new features."
   ]
  },
  {
   "cell_type": "markdown",
   "metadata": {},
   "source": [
    "<h1>Share your feedback!</h1>"
   ]
  },
  {
   "cell_type": "markdown",
   "metadata": {},
   "source": [
    "Please take a moment to complete this brief [feedback survey](https://teradata.iad1.qualtrics.com/jfe/form/SV_2oFlFLSsEozOFEy/)."
   ]
  },
  {
   "cell_type": "markdown",
   "metadata": {},
   "source": [
    "Copyright 2022 Teradata. All rights reserved."
   ]
  }
 ],
 "metadata": {
  "kernelspec": {
   "display_name": "Teradata SQL",
   "language": "Teradata SQL",
   "name": "teradatasql"
  },
  "language_info": {
   "codemirror_mode": "Teradata SQL",
   "file_extension": ".tdrs",
   "mimetype": "application/vnd.teradata.resultset",
   "name": "Teradata SQL",
   "nbconvert_exporter": "",
   "pygments_lexer": "",
   "version": "16.20"
  },
  "toc-autonumbering": false,
  "toc-showcode": false,
  "toc-showmarkdowntxt": false,
  "toc-showtags": false
 },
 "nbformat": 4,
 "nbformat_minor": 4
}
