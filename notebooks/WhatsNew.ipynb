{
 "cells": [
  {
   "cell_type": "markdown",
   "metadata": {},
   "source": [
    "<h2>What's New in Vantage Modules for Jupyter 3.3</h2>"
   ]
  },
  {
   "cell_type": "markdown",
   "metadata": {},
   "source": [
    "<h4>The following new features are provided in this release:</h4>\n",
    "<ul>\n",
    "    <li><b>Navigator Enhancements</b></li>\n",
    "    <ul>\n",
    "      <li>Ability to view data profiling information including Values, Statistics, Frequency and Histogram.</li>\n",
    "      <li>Displays results in table and grpah formats.</li>\n",
    "      <li>Requires Vantage Analytics Library (VAL) be installed in SQL Engine [Vantage Analytics Library](https://downloads.teradata.com/download/database/analytics-library)</li>\n",
    "      <li>VAL location must be specified on connection profile.    \n",
    "    </ul>  \n",
    "    <li><b>Support for Kerberos</b></li>\n",
    "        <ul>\n",
    "           <li>Can select KRB5 as the logon mechanism for connections.</li>\n",
    "        </ul>  \n",
    "</ul>"
   ]
  },
  {
   "cell_type": "markdown",
   "metadata": {},
   "source": [
    "#### Refer to the GettingStarted and other sample notebooks for more information on the new features."
   ]
  },
  {
   "cell_type": "markdown",
   "metadata": {},
   "source": [
    "<h1>Share your feedback!</h1>"
   ]
  },
  {
   "cell_type": "markdown",
   "metadata": {},
   "source": [
    "Please take a moment to complete this brief [feedback survey](https://teradata.iad1.qualtrics.com/jfe/form/SV_2oFlFLSsEozOFEy/)."
   ]
  },
  {
   "cell_type": "markdown",
   "metadata": {},
   "source": [
    "Copyright 2022 Teradata. All rights reserved."
   ]
  }
 ],
 "metadata": {
  "kernelspec": {
   "display_name": "Teradata SQL",
   "language": "Teradata SQL",
   "name": "teradatasql"
  },
  "language_info": {
   "codemirror_mode": "Teradata SQL",
   "file_extension": ".tdrs",
   "mimetype": "application/vnd.teradata.resultset",
   "name": "Teradata SQL",
   "nbconvert_exporter": "",
   "pygments_lexer": "",
   "version": "16.20"
  },
  "toc-autonumbering": false,
  "toc-showcode": false,
  "toc-showmarkdowntxt": false,
  "toc-showtags": false
 },
 "nbformat": 4,
 "nbformat_minor": 4
}
