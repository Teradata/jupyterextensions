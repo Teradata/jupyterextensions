{
 "cells": [
  {
   "cell_type": "markdown",
   "id": "4912f503-5ae5-41f7-90b0-ccf0bcd1297a",
   "metadata": {},
   "source": [
    "## Browser SSO support in Jupyter\n",
    "\n",
    "Users can now specify the `logmech=BROWSER` connection parameter with the `%addconnect`, `%connect`, or `%chconnect` magics. **This setting is only supported for Windows and Mac.** When this connection parameter is used, the driver will launch a browser when a user attempts to make a connection. The user will then have the opportunity to authenticate in the browser using single sign-on (SSO). When the `logmech=BROWSER` connection parameter is used no user parameter is needed since authetication will be done through the browser.\n",
    "\n",
    "Additionally, users can select `BROWSER` as a `logmech` option when using the Add Connection Dialog.\n",
    "\n",
    "<div>\n",
    "<img src=\"attachment:5a9c78c8-c123-4a1d-9b1d-2a4007b9641e.png\" alt=\"Add Connection Dialog\" width=\"300\"/>\n",
    "</div>\n",
    "\n",
    "This sample notebook demonstrates how to use the `logmech=BROWSER` connection parameter. It is not intended for the cells to be run 'as is' as you will have different connection parameters."
   ]
  },
  {
   "cell_type": "code",
   "execution_count": 3,
   "id": "65639cfb-8aad-4af7-97d3-713b518b49e1",
   "metadata": {
    "vscode": {
     "languageId": "teradata sql"
    }
   },
   "outputs": [
    {
     "data": {
      "text/markdown": [
       "#### %addconnect\n",
       "Add a Teradata Vantage database connection specification.\n",
       "\n",
       "%addconnect name=&lt;Connection Name&gt;[, user=&lt;User Name&gt;], host=&lt;Database Server Name or IP Address&gt; [, database=\"&lt;Default Database&gt;\"] [, props=\"&lt;DB Properties&gt;\"] [, dbviews=\"ViewsV\"] [, vallocation=&lt;Location of VAL Library&gt;]\n",
       " \n",
       "If the **user** parameter is not provided with the %addconnect, you must provide the **&lt;User Name&gt;** value with the %connect command.\n",
       "\n",
       "**database=\"&lt;Default Database&gt;\"** will set the default database for the connection. Executing the DATABASE SQL command statement will take precedence over the default database connection setting.\n",
       "\n",
       "**%help currentdb** command will display the current database value.\n",
       "\n",
       "**props=\"&lt;DB Properties&gt;\"** is used to set certain supported connection properties. The supported properties are:\n",
       "\n",
       "| Property        | Default | Description\n",
       "|:----------------|:--------|:----------------------------------------------------------------\n",
       "| **account**     |         | Specifies the Teradata Database account.\n",
       "| **cop**         | true    | Specifies whether COP Discovery is performed.\n",
       "| **coplast**     | false   | Specifies how COP Discovery determines the last COP hostname.\n",
       "| **dbs_port**    | 1025    | Specifies the Teradata Database port number.\n",
       "| **encryptdata** | true    | Controls encryption of data to database.  It is not recommended to set this to false.\n",
       "| **log**         | 0       | Controls driver debug logging.\n",
       "| **logdata**     |         | Specifies extra data for the chosen logon authentication method.\n",
       "| **logmech**     | TD2     | Specifies the logon authentication method. Supported values are **TD2**,**LDAP**,**TDNEGO**,**KRB5**, **BROWSER**.\n",
       "| **sip_support** | true    | Controls whether StatementInfo parcel is used.\n",
       "| **tmode**       | DEFAULT | Specifies the transaction mode. Possible values are **DEFAULT**, **ANSI**, or **TERA** (must be uppercase).\n",
       "| **sslmode**     | PREFER  | Specifies the mode for connections to the database. Possible values are **PREFER**, **DISABLE**, **ALLOW**, **REQUIRE**, **VERIFY-CA**, **VERIFY-FULL**.\n",
       "| **sslca**       |         | Specifies the file name of a PEM file that contains Certificate Authority (CA) certificates for use with sslmode values VERIFY-CA or VERIFY-FULL.\n",
       "| **sslcapath**   |         | Specifies a directory of PEM files that contain Certificate Authority (CA) certificates for use with sslmode values VERIFY-CA or VERIFY-FULL. Only files with an extension of .pem are used.\n",
       "\n",
       "For more detailed information on the supported properties see\n",
       "https://github.com/Teradata/jupyterextensions/blob/master/docs/CONNECTIONPARAMETERS.md\n",
       "\n",
       "* Multiple DB properties can be passed in a comma-separated list, e.g. props=\"encryptdata=false, tmode=ANSI\".\n",
       "* Use of any unsupported properties will be ignored or errors will be reported as appropriate.\n",
       "* For additional parameters that support TLS or proxy server, please see the github link above.\n",
       "\n",
       "**dbviews=\"ViewsV\"** is used to set the data dictionary query to use the **V** views instead of the **VX** views.\n",
       "  * By default, the VX views are used, which limits the display of database objects to only those for which \n",
       "the connected user has been granted permission.\n",
       "\n",
       "**vallocation=&lt;Location of VAL Library&gt;** is used to specify the location of the Vantage Analytic Library (VAL) if it is installed. VAL is required in order to view data profiling information in the Navigator.\n",
       "  * VAL can be downloaded from here https://downloads.teradata.com/download/database/analytics-library\n",
       "\n",
       "The connection specification will be saved and can be used in the **%connect**, **%disconnect** and **%rmconnect** commands.\n",
       "\n",
       "The **Connection Manager** can also be used to add Teradata connections. The Connection Manager can be\n",
       "accessed from the left-hand, vertical toolbar, by selecting the Manage Teradata Connections icon. The Connection Manager will\n",
       "display the list of connections, with options to **test**, **edit**, **copy/clone**, or **remove** the connection. If you hover over\n",
       "a connection, the details for that connection are provided in a pop-up message. Options are also provided in the Connection Manager toolbar to\n",
       "**refresh** the list of connections and **add** a new connection. With Connection Manager, if you need to add a connection property that is not\n",
       "on the list above, you can type it directly in the input box.</br>"
      ]
     },
     "execution_count": 3,
     "metadata": {
      "application/vnd.teradata.resultset": "helpdata"
     },
     "output_type": "execute_result"
    }
   ],
   "source": [
    "%help addconnect"
   ]
  },
  {
   "cell_type": "code",
   "execution_count": null,
   "id": "b60c1767-07ed-4195-901b-48e0e71b6603",
   "metadata": {
    "vscode": {
     "languageId": "teradata sql"
    }
   },
   "outputs": [],
   "source": [
    "%var systemName=<Vantage-system>, host=<hostname or IP> "
   ]
  },
  {
   "cell_type": "code",
   "execution_count": null,
   "id": "0bf071fd-59ec-4d8c-bcf2-c67f87a3e00f",
   "metadata": {
    "vscode": {
     "languageId": "teradata sql"
    }
   },
   "outputs": [],
   "source": [
    "%addconnect name=${systemName}, host=${host}, props=\"logmech=BROWSER\""
   ]
  },
  {
   "cell_type": "code",
   "execution_count": null,
   "id": "6a113af5-6c9f-48c7-8060-274b64ae65b0",
   "metadata": {
    "vscode": {
     "languageId": "teradata sql"
    }
   },
   "outputs": [],
   "source": [
    "%lsconnect"
   ]
  },
  {
   "cell_type": "markdown",
   "id": "c6108298-6316-4985-905a-c9db20830738",
   "metadata": {},
   "source": [
    "#### Establish a connection.\n",
    "\n",
    "Note that a login prompt should pop up in your local browser."
   ]
  },
  {
   "cell_type": "code",
   "execution_count": null,
   "id": "1c125378-5cde-478c-8d42-b15a76d74001",
   "metadata": {
    "vscode": {
     "languageId": "teradata sql"
    }
   },
   "outputs": [],
   "source": [
    "%connect ${systemName}"
   ]
  },
  {
   "cell_type": "markdown",
   "id": "8eed503d-49b8-4a5d-9042-b16c7ac92b77",
   "metadata": {},
   "source": [
    "Copyright 2024-2025 Teradata. All rights reserved."
   ]
  }
 ],
 "metadata": {
  "kernelspec": {
   "display_name": "Teradata SQL",
   "language": "Teradata SQL",
   "name": "teradatasql"
  },
  "language_info": {
   "codemirror_mode": "Teradata SQL",
   "file_extension": ".tdrs",
   "mimetype": "application/vnd.teradata.resultset",
   "name": "Teradata SQL",
   "nbconvert_exporter": "",
   "pygments_lexer": "",
   "version": "16.20"
  }
 },
 "nbformat": 4,
 "nbformat_minor": 5
}
