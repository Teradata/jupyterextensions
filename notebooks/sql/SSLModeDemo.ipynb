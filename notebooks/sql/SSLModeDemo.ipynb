{
 "cells": [
  {
   "cell_type": "markdown",
   "id": "5c4836f2-96ac-43b9-b85d-51df39f73bc3",
   "metadata": {},
   "source": [
    "## SSLMode\n",
    "\n",
    "The `sslmode` connection parameter allows users to connect to their Teradata Database with additional TLS checking. These properties can be specified using the `%addconnect`, `%connect`, or `%chconnect` magics. The `sslca` and `sslcapath` connection parameters can be used to identify the location of Certificate Authority (CA) certificates to be used when `VERIFY-CA` or `VERIFY-FULL` are selected as the sslmode.\n",
    "\n",
    "These connetion parameters have also been added to the `Add Connection Dialog`.\n",
    "\n",
    "<div>\n",
    "<img src=\"attachment:19efb10b-f661-4fec-9a16-f63dd1b41ed0.png\" alt=\"Add Connection Dialog\" width=\"300\"/>\n",
    "</div>\n",
    "\n",
    "Parameter               | Default     | Type           | Description\n",
    "----------------------- | ----------- | -------------- | ---\n",
    "`sslmode`               | `\"PREFER\"`  | string         | Specifies the mode for connections to the database. Equivalent to the Teradata JDBC Driver `SSLMODE` connection parameter. Values are case-insensitive.<br/>&bull; `DISABLE` disables HTTPS/TLS connections and uses only non-TLS connections.<br/>&bull; `ALLOW` uses non-TLS connections unless the database requires HTTPS/TLS connections.<br/>&bull; `PREFER` uses HTTPS/TLS connections unless the database does not offer HTTPS/TLS connections.<br/>&bull; `REQUIRE` uses only HTTPS/TLS connections.<br/>&bull; `VERIFY-CA` uses only HTTPS/TLS connections and verifies that the server certificate is valid and trusted.<br/>&bull; `VERIFY-FULL` uses only HTTPS/TLS connections, verifies that the server certificate is valid and trusted, and verifies that the server certificate matches the database hostname.\n",
    "`sslca`                 |             | string         | Specifies the file name of a PEM file that contains Certificate Authority (CA) certificates for use with `sslmode` values `VERIFY-CA` or `VERIFY-FULL`.\n",
    "`sslcapath`             |             | string         | Specifies a directory of PEM files that contain Certificate Authority (CA) certificates for use with `sslmode` values `VERIFY-CA` or `VERIFY-FULL`. Only files with an extension of `.pem` are used. Other files in the specified directory are not used.\n",
    "\n",
    "\n",
    "This notebook demonstrates how to create a connection using the `sslmode`, `sslca`, and `sslcapath` connection parameters. This notebook assumes that you have a valid PEM file stored in the `C:\\Certificates` folder on your system. Substitute these values for whichever are appropriate for your system."
   ]
  },
  {
   "cell_type": "code",
   "execution_count": null,
   "id": "41e65ffc-c2f7-4ec7-88f4-b6248c6f2c3c",
   "metadata": {
    "vscode": {
     "languageId": "teradata sql"
    }
   },
   "outputs": [],
   "source": [
    "%var systemName=<Vantage-system>, user=<user name>, host=<host name or IP>"
   ]
  },
  {
   "cell_type": "code",
   "execution_count": 3,
   "id": "2a56d307-c283-4573-97b9-12003f2d36a2",
   "metadata": {
    "vscode": {
     "languageId": "teradata sql"
    }
   },
   "outputs": [
    {
     "data": {
      "text/markdown": [
       "#### %addconnect\n",
       "Add a Teradata Vantage database connection specification.\n",
       "\n",
       "%addconnect name=&lt;Connection Name&gt;[, user=&lt;User Name&gt;], host=&lt;Database Server Name or IP Address&gt; [, database=\"&lt;Default Database&gt;\"] [, props=\"&lt;DB Properties&gt;\"] [, dbviews=\"ViewsV\"] [, vallocation=&lt;Location of VAL Library&gt;]\n",
       " \n",
       "If the **user** parameter is not provided with the %addconnect, you must provide the **&lt;User Name&gt;** value with the %connect command.\n",
       "\n",
       "**database=\"&lt;Default Database&gt;\"** will set the default database for the connection. Executing the DATABASE SQL command statement will take precedence over the default database connection setting.\n",
       "\n",
       "**%help currentdb** command will display the current database value.\n",
       "\n",
       "**props=\"&lt;DB Properties&gt;\"** is used to set certain supported connection properties. The supported properties are:\n",
       "\n",
       "| Property        | Default | Description\n",
       "|:----------------|:--------|:----------------------------------------------------------------\n",
       "| **account**     |         | Specifies the Teradata Database account.\n",
       "| **cop**         | true    | Specifies whether COP Discovery is performed.\n",
       "| **coplast**     | false   | Specifies how COP Discovery determines the last COP hostname.\n",
       "| **dbs_port**    | 1025    | Specifies the Teradata Database port number.\n",
       "| **encryptdata** | true    | Controls encryption of data to database.  It is not recommended to set this to false.\n",
       "| **log**         | 0       | Controls driver debug logging.\n",
       "| **logdata**     |         | Specifies extra data for the chosen logon authentication method.\n",
       "| **logmech**     | TD2     | Specifies the logon authentication method. Supported values are **TD2**,**LDAP**,**TDNEGO**,**KRB5**, **BROWSER**.\n",
       "| **sip_support** | true    | Controls whether StatementInfo parcel is used.\n",
       "| **tmode**       | DEFAULT | Specifies the transaction mode. Possible values are **DEFAULT**, **ANSI**, or **TERA** (must be uppercase).\n",
       "| **sslmode**     | PREFER  | Specifies the mode for connections to the database. Possible values are **PREFER**, **DISABLE**, **ALLOW**, **REQUIRE**, **VERIFY-CA**, **VERIFY-FULL**.\n",
       "| **sslca**       |         | Specifies the file name of a PEM file that contains Certificate Authority (CA) certificates for use with sslmode values VERIFY-CA or VERIFY-FULL.\n",
       "| **sslcapath**   |         | Specifies a directory of PEM files that contain Certificate Authority (CA) certificates for use with sslmode values VERIFY-CA or VERIFY-FULL. Only files with an extension of .pem are used.\n",
       "\n",
       "For more detailed information on the supported properties see\n",
       "https://github.com/Teradata/jupyterextensions/blob/master/docs/CONNECTIONPARAMETERS.md\n",
       "\n",
       "* Multiple DB properties can be passed in a comma-separated list, e.g. props=\"encryptdata=false, tmode=ANSI\".\n",
       "* Use of any unsupported properties will be ignored or errors will be reported as appropriate.\n",
       "* For additional parameters that support TLS or proxy server, please see the github link above.\n",
       "\n",
       "**dbviews=\"ViewsV\"** is used to set the data dictionary query to use the **V** views instead of the **VX** views.\n",
       "  * By default, the VX views are used, which limits the display of database objects to only those for which \n",
       "the connected user has been granted permission.\n",
       "\n",
       "**vallocation=&lt;Location of VAL Library&gt;** is used to specify the location of the Vantage Analytic Library (VAL) if it is installed. VAL is required in order to view data profiling information in the Navigator.\n",
       "  * VAL can be downloaded from here https://downloads.teradata.com/download/database/analytics-library\n",
       "\n",
       "The connection specification will be saved and can be used in the **%connect**, **%disconnect** and **%rmconnect** commands.\n",
       "\n",
       "The **Connection Manager** can also be used to add Teradata connections. The Connection Manager can be\n",
       "accessed from the left-hand, vertical toolbar, by selecting the Manage Teradata Connections icon. The Connection Manager will\n",
       "display the list of connections, with options to **test**, **edit**, **copy/clone**, or **remove** the connection. If you hover over\n",
       "a connection, the details for that connection are provided in a pop-up message. Options are also provided in the Connection Manager toolbar to\n",
       "**refresh** the list of connections and **add** a new connection. With Connection Manager, if you need to add a connection property that is not\n",
       "on the list above, you can type it directly in the input box.</br>"
      ]
     },
     "execution_count": 3,
     "metadata": {
      "application/vnd.teradata.resultset": "helpdata"
     },
     "output_type": "execute_result"
    }
   ],
   "source": [
    "%help addconnect"
   ]
  },
  {
   "cell_type": "markdown",
   "id": "ef1266d9-0fad-41d3-beb3-b624203d0e88",
   "metadata": {},
   "source": [
    "<h3>Create a connection using the sslca parameter</h3>"
   ]
  },
  {
   "cell_type": "code",
   "execution_count": null,
   "id": "605f80a4-cf48-439a-967d-e28c2be19f93",
   "metadata": {
    "vscode": {
     "languageId": "teradata sql"
    }
   },
   "outputs": [],
   "source": [
    "%addconnect name=${systemName}, user=${user}, host=${host}, props=\"sslmode=VERIFY-CA, sslca=C:\\Certificates\\tls-ca-chain.pem\""
   ]
  },
  {
   "cell_type": "code",
   "execution_count": null,
   "id": "9b573499-0885-43eb-b756-fe043396c2ad",
   "metadata": {
    "vscode": {
     "languageId": "teradata sql"
    }
   },
   "outputs": [],
   "source": [
    "%connect ${systemName}"
   ]
  },
  {
   "cell_type": "code",
   "execution_count": null,
   "id": "127ec88f-0532-4765-babd-e946a1fbae98",
   "metadata": {
    "vscode": {
     "languageId": "teradata sql"
    }
   },
   "outputs": [],
   "source": [
    "%lsconnect"
   ]
  },
  {
   "cell_type": "markdown",
   "id": "2857bb0c-d14f-4e7c-8643-91918ca9f7bf",
   "metadata": {},
   "source": [
    "<h3>Create a connection using the sslcapath parameter</h3>"
   ]
  },
  {
   "cell_type": "code",
   "execution_count": null,
   "id": "d0d85455-568e-4e24-91c9-f9b79b296d1c",
   "metadata": {
    "vscode": {
     "languageId": "teradata sql"
    }
   },
   "outputs": [],
   "source": [
    "%addconnect name=${systemName}, user=${user}, host=${host}, props=\"sslmode=VERIFY-FULL, sslcapath=C:\\Certificates\""
   ]
  },
  {
   "cell_type": "code",
   "execution_count": null,
   "id": "25ce2d4b-380d-408e-a8a9-a5acbfcb803e",
   "metadata": {
    "vscode": {
     "languageId": "teradata sql"
    }
   },
   "outputs": [],
   "source": [
    "%connect ${systemName}"
   ]
  },
  {
   "cell_type": "code",
   "execution_count": null,
   "id": "9fb17c3f-8590-4ece-ba90-395e3107a656",
   "metadata": {
    "vscode": {
     "languageId": "teradata sql"
    }
   },
   "outputs": [],
   "source": [
    "%lsconnect"
   ]
  },
  {
   "cell_type": "markdown",
   "id": "25645863",
   "metadata": {},
   "source": [
    "Copyright 2024-2025 Teradata. All rights reserved."
   ]
  }
 ],
 "metadata": {
  "kernelspec": {
   "display_name": "Teradata SQL",
   "language": "Teradata SQL",
   "name": "teradatasql"
  },
  "language_info": {
   "codemirror_mode": "Teradata SQL",
   "file_extension": ".tdrs",
   "mimetype": "application/vnd.teradata.resultset",
   "name": "Teradata SQL",
   "nbconvert_exporter": "",
   "pygments_lexer": "",
   "version": "16.20"
  }
 },
 "nbformat": 4,
 "nbformat_minor": 5
}
