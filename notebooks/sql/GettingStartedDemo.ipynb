{
 "cells": [
  {
   "cell_type": "markdown",
   "metadata": {},
   "source": [
    "<h3>Getting Started Demo</h3>\n",
    "<p>\n",
    "This notebook provides a simple demonstration of the Teradata SQL Notebook. It provides SQL statements to create sample tables\n",
    "    and uses the %dataload magic to load sample data. You will be able to execute magic commands to query the tables and visualize simple chart options.\n",
    "<p>\n",
    "    \n",
    "<p><b>***NOTE: To execute the SQL or magic command in the cell, press SHIFT+ENTER or the run button in the toolbar.</b>    "
   ]
  },
  {
   "cell_type": "markdown",
   "metadata": {},
   "source": [
    "#### The first step is to add a connection to your Teradata Vantage system that has space to create tables and insert a small data set.\n",
    "Replace the systemName, user, host, and db values for your system."
   ]
  },
  {
   "cell_type": "code",
   "execution_count": 1,
   "metadata": {},
   "outputs": [],
   "source": [
    "%var systemName=<Vantage-system>, user=<user name>, host=<host name or IP>, db=<database>"
   ]
  },
  {
   "cell_type": "code",
   "execution_count": null,
   "metadata": {},
   "outputs": [],
   "source": [
    "%addconnect name=${systemName}, user=${user}, host=${host}"
   ]
  },
  {
   "cell_type": "markdown",
   "metadata": {},
   "source": [
    "#### Establish a connection.  "
   ]
  },
  {
   "cell_type": "code",
   "execution_count": null,
   "metadata": {},
   "outputs": [],
   "source": [
    "%connect ${systemName}"
   ]
  },
  {
   "cell_type": "markdown",
   "metadata": {},
   "source": [
    "#### You can use the Navigator to locate a database to create the demo tables. \n",
    "**Note:** Be sure that you do not have tables named **SalesCenter** or **SalesDemo** in the selected database.  Run the SQL command to set the database for the current session."
   ]
  },
  {
   "cell_type": "markdown",
   "metadata": {},
   "source": [
    "#### Set your Vantage Database"
   ]
  },
  {
   "cell_type": "code",
   "execution_count": null,
   "metadata": {},
   "outputs": [],
   "source": [
    "DATABASE ${db}"
   ]
  },
  {
   "cell_type": "markdown",
   "metadata": {},
   "source": [
    "#### Create a table to store sales center data. First drop the table in case it already exists. This will fail if the table does not exist."
   ]
  },
  {
   "cell_type": "code",
   "execution_count": null,
   "metadata": {},
   "outputs": [],
   "source": [
    "DROP TABLE SalesCenter"
   ]
  },
  {
   "cell_type": "code",
   "execution_count": null,
   "metadata": {},
   "outputs": [],
   "source": [
    "CREATE MULTISET TABLE SalesCenter ,NO FALLBACK ,\n",
    "     NO BEFORE JOURNAL,\n",
    "     NO AFTER JOURNAL,\n",
    "     CHECKSUM = DEFAULT,\n",
    "     DEFAULT MERGEBLOCKRATIO\n",
    "     (\n",
    "      Sales_Center_id INTEGER NOT NULL,\n",
    "      Sales_Center_Name VARCHAR(255) CHARACTER SET LATIN NOT CASESPECIFIC)\n",
    "NO PRIMARY INDEX ;"
   ]
  },
  {
   "cell_type": "markdown",
   "metadata": {},
   "source": [
    "#### Load data into the SalesCenter table using the %dataload magic. \n",
    "##### Run %help dataload for more information on using the %dataload magic."
   ]
  },
  {
   "cell_type": "code",
   "execution_count": null,
   "metadata": {},
   "outputs": [],
   "source": [
    "%dataload DATABASE=${db}, TABLE=SalesCenter, FILEPATH=notebooks/sql/data/salescenter.csv"
   ]
  },
  {
   "cell_type": "markdown",
   "metadata": {},
   "source": [
    "#### Verify data was inserted."
   ]
  },
  {
   "cell_type": "code",
   "execution_count": null,
   "metadata": {},
   "outputs": [],
   "source": [
    "SELECT * FROM SalesCenter ORDER BY 1"
   ]
  },
  {
   "cell_type": "markdown",
   "metadata": {},
   "source": [
    "#### Create a table with sales demo data."
   ]
  },
  {
   "cell_type": "code",
   "execution_count": null,
   "metadata": {},
   "outputs": [],
   "source": [
    "DROP TABLE SalesDemo"
   ]
  },
  {
   "cell_type": "code",
   "execution_count": null,
   "metadata": {},
   "outputs": [],
   "source": [
    "CREATE MULTISET TABLE SalesDemo ,NO FALLBACK ,\n",
    "     NO BEFORE JOURNAL,\n",
    "     NO AFTER JOURNAL,\n",
    "     CHECKSUM = DEFAULT,\n",
    "     DEFAULT MERGEBLOCKRATIO\n",
    "     (\n",
    "      Sales_Center_ID INTEGER NOT NULL,\n",
    "      UNITS DECIMAL(15,4),\n",
    "      SALES DECIMAL(15,2),\n",
    "      COST DECIMAL(15,2))\n",
    "NO PRIMARY INDEX ;"
   ]
  },
  {
   "cell_type": "markdown",
   "metadata": {},
   "source": [
    "#### Load data into the SalesDemo table using the %dataload magic."
   ]
  },
  {
   "cell_type": "code",
   "execution_count": null,
   "metadata": {},
   "outputs": [],
   "source": [
    "%dataload DATABASE=${db}, TABLE=SalesDemo, FILEPATH=notebooks/sql/data/salesdemo.csv"
   ]
  },
  {
   "cell_type": "markdown",
   "metadata": {},
   "source": [
    "#### Verify that the sales demo data inserted successfully."
   ]
  },
  {
   "cell_type": "code",
   "execution_count": null,
   "metadata": {},
   "outputs": [],
   "source": [
    "SELECT * FROM SalesDemo ORDER BY sales"
   ]
  },
  {
   "cell_type": "markdown",
   "metadata": {},
   "source": [
    "#### You can now open a Navigator for your connection and verify that the tables were created. Run a row count on the tables to verify the data was loaded."
   ]
  },
  {
   "cell_type": "markdown",
   "metadata": {},
   "source": [
    "#### Create a result set from the sales data."
   ]
  },
  {
   "cell_type": "code",
   "execution_count": null,
   "metadata": {},
   "outputs": [],
   "source": [
    "SELECT f.sales, f.sales_center_id, s.sales_center_name FROM SalesDemo f\n",
    "  INNER JOIN SalesCenter s ON s.Sales_Center_id = f.Sales_Center_id"
   ]
  },
  {
   "cell_type": "markdown",
   "metadata": {},
   "source": [
    "#### The charting magic allows you to quickly visualize the result, providing x and y axes for the chart."
   ]
  },
  {
   "cell_type": "code",
   "execution_count": null,
   "metadata": {},
   "outputs": [],
   "source": [
    "%chart sales_center_name,sales, title=Sales Data"
   ]
  },
  {
   "cell_type": "markdown",
   "metadata": {},
   "source": [
    "#### Change the chart to a point chart by passing the mark=point option."
   ]
  },
  {
   "cell_type": "code",
   "execution_count": null,
   "metadata": {},
   "outputs": [],
   "source": [
    "%chart sales_center_name, sales,mark=point,title=Sales Data Point"
   ]
  },
  {
   "cell_type": "markdown",
   "metadata": {},
   "source": [
    "#### Run the %history magic to view past query and dataload results."
   ]
  },
  {
   "cell_type": "code",
   "execution_count": null,
   "metadata": {},
   "outputs": [],
   "source": [
    "%history"
   ]
  },
  {
   "cell_type": "markdown",
   "metadata": {},
   "source": [
    "#### Locate the history ID for query 'select * from salesdemo order by sales' that was run above.\n",
    "<p>\n",
    "Run the %chart magic and pass in the ResultSet id. For example, id of 10 is used below."
   ]
  },
  {
   "cell_type": "code",
   "execution_count": null,
   "metadata": {},
   "outputs": [],
   "source": [
    "%chart sales_center_id,sales, id=10"
   ]
  },
  {
   "cell_type": "markdown",
   "metadata": {},
   "source": [
    "#### You can also retrieve a ResultSet from the history by running the %table magic, passing a ResultSet id."
   ]
  },
  {
   "cell_type": "code",
   "execution_count": null,
   "metadata": {},
   "outputs": [],
   "source": [
    "%table 10"
   ]
  },
  {
   "cell_type": "markdown",
   "metadata": {},
   "source": [
    "#### As mentioned in the Getting Started notebook, you can copy a resultset path and paste it into panda or data frame command in a Python or R notebook. Click the Copy icon at the top of the ResultSet output. \n",
    "<p>\n",
    "Open a Python notebook with the following statement:\n",
    "\n",
    "```python\n",
    "import pandas as pd\n",
    "df = pd.read_csv(\"\")\n",
    "df\n",
    "```\n",
    "   \n",
    "Paste the result set path into a Python notebook using the command **pd.read_csv(\"<ResultSetPath>\")**<br>\n",
    "For example:<br>\n",
    "    \n",
    "```python\n",
    "df = pd.read_csv(\"/root/JupyterLabHome/TeradataResultsets/2018.04.25_13.37.30.129_PDT/results.csv\")\n",
    "```"
   ]
  },
  {
   "cell_type": "markdown",
   "metadata": {},
   "source": [
    "#### Drop tables to clean up data."
   ]
  },
  {
   "cell_type": "code",
   "execution_count": null,
   "metadata": {},
   "outputs": [],
   "source": [
    "DROP TABLE SalesCenter;"
   ]
  },
  {
   "cell_type": "code",
   "execution_count": null,
   "metadata": {},
   "outputs": [],
   "source": [
    "DROP TABLE SalesDemo;"
   ]
  },
  {
   "cell_type": "markdown",
   "metadata": {},
   "source": [
    "Copyright 2019-2022 Teradata. All rights reserved."
   ]
  }
 ],
 "metadata": {
  "kernelspec": {
   "display_name": "Teradata SQL",
   "language": "Teradata SQL",
   "name": "teradatasql"
  },
  "language_info": {
   "codemirror_mode": "Teradata SQL",
   "file_extension": ".tdrs",
   "mimetype": "application/vnd.teradata.resultset",
   "name": "Teradata SQL",
   "nbconvert_exporter": "",
   "pygments_lexer": "",
   "version": "16.20"
  }
 },
 "nbformat": 4,
 "nbformat_minor": 4
}
