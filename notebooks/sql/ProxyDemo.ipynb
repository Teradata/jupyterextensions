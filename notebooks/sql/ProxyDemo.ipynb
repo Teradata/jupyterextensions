{
 "cells": [
  {
   "cell_type": "markdown",
   "id": "21ceed75-4b98-40c8-93fd-fff1839d5b49",
   "metadata": {},
   "source": [
    "## Proxy Support\n",
    "\n",
    "The `http_proxy`, `http_proxy_user`, and `http_proxy_password` connection parameters allow users to connect to their Teradata Database through an http or https proxy. These properties can be specified on the `%addconnect`, `%connect`, or `%chconnect` magics. These connection parameters can also be entered in the Add Connection Dialog. If the parameters are not in the drop down menu they can be added manually.\n",
    "\n",
    "<div>\n",
    "<img src=\"attachment:9637eb14-3f30-40d7-ab4f-5df1e3783097.png\" alt=\"Add Connection Dialog\" width=\"300\" style=\"vertical-align:top\"/>\n",
    "<img src=\"attachment:5a4ef32d-f257-4703-9dfd-8331a711f89f.png\" alt=\"Add Connection Dialog\" width=\"300\" style=\"vertical-align:top\"/>\n",
    "</div>\n",
    "\n",
    "Parameter               | Default     | Type           | Description\n",
    "----------------------- | ----------- | -------------- | ---\n",
    "`http_proxy`            |             | string         | Specifies the proxy server URL for HTTP connections to TLS certificate verification CRL and OCSP endpoints. The URL must begin with `http://` and must include a colon `:` and port number.\n",
    "`http_proxy_password`   |             | string         | Specifies the proxy server password for the proxy server identified by the `http_proxy` parameter. This parameter may only be specified in conjunction with the `http_proxy` parameter. When this parameter is omitted, no proxy server password is provided to the proxy server identified by the `http_proxy` parameter.\n",
    "`http_proxy_user`       |             | string         | Specifies the proxy server username for the proxy server identified by the `http_proxy` parameter. This parameter may only be specified in conjunction with the `http_proxy` parameter. When this parameter is omitted, no proxy server username is provided to the proxy server identified by the `http_proxy` parameter.\n",
    "`https_proxy`           |             | string         | Specifies the proxy server URL for HTTPS/TLS connections to the Teradata Database and to Identity Provider endpoints. The URL must begin with `http://` and must include a colon `:` and port number. The driver connects to the proxy server using a non-TLS HTTP connection, then uses the HTTP CONNECT method to establish an HTTPS/TLS connection to the destination. Equivalent to the Teradata JDBC Driver `HTTPS_PROXY` connection parameter.\n",
    "`https_proxy_password`  |             | string         | Specifies the proxy server password for the proxy server identified by the `https_proxy` parameter. This parameter may only be specified in conjunction with the `https_proxy` parameter. When this parameter is omitted, no proxy server password is provided to the proxy server identified by the `https_proxy` parameter. Equivalent to the Teradata JDBC Driver `HTTPS_PROXY_PASSWORD` connection parameter.\n",
    "`https_proxy_user`      |             | string         | Specifies the proxy server username for the proxy server identified by the `https_proxy` parameter. This parameter may only be specified in conjunction with the `https_proxy` parameter. When this parameter is omitted, no proxy server username is provided to the proxy server identified by the `https_proxy` parameter. Equivalent to the Teradata JDBC Driver `HTTPS_PROXY_USER` connection parameter.\n",
    "\n",
    "This notebook provides a simple demonstration of connecting to a Teradata Database using a proxy."
   ]
  },
  {
   "cell_type": "code",
   "execution_count": null,
   "id": "a6827a83-fbc2-4b9b-ac13-8100d74a7a57",
   "metadata": {
    "vscode": {
     "languageId": "teradata sql"
    }
   },
   "outputs": [],
   "source": [
    "%var systemName=<Vantage-system>, user=<user name>, host=<host name or IP>, proxy=http://<host name or IP>, proxyUser=<user name>, proxyPassword=<password>"
   ]
  },
  {
   "cell_type": "code",
   "execution_count": null,
   "id": "8c5b1343-ea8d-497a-833d-18deba311ff8",
   "metadata": {
    "vscode": {
     "languageId": "teradata sql"
    }
   },
   "outputs": [],
   "source": [
    "%addconnect name=${systemName}, user=${user}, host=${host}, props=\"http_proxy=${proxy}, http_proxy_user=${proxyUser}, http_proxy_password=${proxyPassword}\""
   ]
  },
  {
   "cell_type": "code",
   "execution_count": null,
   "id": "eff6b32d-a74d-4adb-88e7-ffa76833be22",
   "metadata": {
    "vscode": {
     "languageId": "teradata sql"
    }
   },
   "outputs": [],
   "source": [
    "%lsconnect"
   ]
  },
  {
   "cell_type": "code",
   "execution_count": null,
   "id": "7aeba2d4-e1eb-4b50-8ab1-668665eadf3b",
   "metadata": {
    "vscode": {
     "languageId": "teradata sql"
    }
   },
   "outputs": [],
   "source": [
    "%connect ${systemName}"
   ]
  },
  {
   "cell_type": "markdown",
   "id": "daca3c99",
   "metadata": {},
   "source": [
    "Copyright 2024-2025 Teradata. All rights reserved."
   ]
  }
 ],
 "metadata": {
  "kernelspec": {
   "display_name": "Teradata SQL",
   "language": "Teradata SQL",
   "name": "teradatasql"
  },
  "language_info": {
   "codemirror_mode": "Teradata SQL",
   "file_extension": ".tdrs",
   "mimetype": "application/vnd.teradata.resultset",
   "name": "Teradata SQL",
   "nbconvert_exporter": "",
   "pygments_lexer": "",
   "version": "16.20"
  }
 },
 "nbformat": 4,
 "nbformat_minor": 5
}
