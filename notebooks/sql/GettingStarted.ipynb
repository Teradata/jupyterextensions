{
 "cells": [
  {
   "cell_type": "markdown",
   "metadata": {},
   "source": [
    "<h2>Welcome to Teradata SQL extension for Jupyter </h2>\n",
    "<p>\n",
    "This notebook provides information to help you get started with the Teradata kernel and extensions for JupyterLab. Note that you must have access to a Teradata Advanced SQL Engine system in order to execute SQL statements within your notebook.  \n",
    "<p><b>This notebook is intended as a Tutorial for the Teradata SQL Kernel. It is not intended for the cells to be run 'as is' as you will have different connections, database objects, and history entries. Please refer to the GettingStartedDemo notebook for a more interactive notebook.</b>\n",
    "</p> \n",
    "\n",
    "[Visit our landing page for more information and downloads](https://teradata.github.io/jupyterextensions/)\n",
    "\n",
    "## Share your feedback! \n",
    "\n",
    "Please take a moment to complete this brief [feedback survey](https://teradata.iad1.qualtrics.com/jfe/form/SV_2oFlFLSsEozOFEy/).\n",
    "\n",
    "<h2>Features</h2>\n",
    "\n",
    "<h3> The SQL Kernel Provides:</h3>\n",
    "<ul>\n",
    "<li>Connection support to add, remove, connect, and list connections</li>\n",
    "<li>Query engine that uses embedded Teradata SQL driver</li>\n",
    "<li>SQL aware notebook with SQL content assist and syntax checking</li>\n",
    "<li>Result set renderer that displays result data in easy to read, scrollable grid</li>\n",
    "<li>Execution history that stores execution metadata to recall SQL commands at a later time</li>\n",
    "<li>Visualization using Vega library to display charts, graphs, plots, etc.</li>\n",
    "<li>Basic data loading that supports loading a CSV data file into a table</li>\n",
    "<li>Preference settings allow users to modify logging options for the SQL Kernel</li>\n",
    "<li>Magic commands that provide additional custom kernel options to enhance Teradata user experience</li>\n",
    "</ul>\n",
    "\n",
    "\n",
    "<h3> The Navigator Provides:</h3>\n",
    "<ul>\n",
    "<li>The ability for users to explore the Advanced SQL Engine catalog, regardless of the language you are using in your notebook (SQL, Python, R).</li>\n",
    "<li>Hierarchical display of SQL object relational model</li>\n",
    "<li>Column metadata showing data type and indexes</li>\n",
    "<li>Row Count, Show DDL, Refresh, Sample Data and Column Distribution menu options</li>\n",
    "</ul>\n",
    "\n",
    "\n",
    "<h3> The Connection Manager:</h3>\n",
    "\n",
    "<ul>\n",
    "<li>Connection management to add, remove, edit, copy, list, and test connections</li>\n",
    "<li>User interface that is independent of the SQL notebook</li>\n",
    "<li>Connections are shared with the Navigator and SQL notebooks</li>\n",
    "</ul>\n",
    "\n",
    "<h4>Refer to the GettingStartedDemo notebook for a live example running Teradata SQL kernel magics.</h4>\n",
    "<h4>Refer to the DataLoad notebook for an example loading data into a table by running the dataload magic.</h4>\n",
    "<h4>Refer to the Charting notebook for an example running charts and using custom chart specifications.</h4>"
   ]
  },
  {
   "cell_type": "markdown",
   "metadata": {},
   "source": [
    "***"
   ]
  },
  {
   "cell_type": "markdown",
   "metadata": {},
   "source": [
    "<h2>Using the Navigator</h2>\n",
    "<p>\n",
    "<ul>\n",
    "<li>Launched from JupyterLab Launcher or Commands list</li>\n",
    "<li>Select or add a connection profile (Connection profiles are created using the Connection Manager, a Teradata SQL Notebook, or the Navigator)</li>\n",
    "<li>Column data type metadata provided</li>\n",
    "<li>Right click options available (Row Count, Refresh, Show DDL, Sample Data)</li>\n",
    "    <ul><li>Show DDL displays the request text for the table, with a button to Copy to Clipboard</li></ul>\n",
    "    <ul><li>Sample Data will retrieve sample data (default sample size 100) from the selected table\n",
    "    <ul><li>Refresh will refresh the catalog display</li></ul>\n",
    "<li>Foreign Tables are displayed in the Tables list but distinguished by a different icon.</li>\n",
    "</ul>\n"
   ]
  },
  {
   "cell_type": "markdown",
   "metadata": {},
   "source": [
    "***\n",
    "<h2>Using the Connection Manager</h2>\n",
    "<p>\n",
    "<ul>\n",
    "<li>Accessed from the JupyterLab left sidebar (click on the Teradata icon)</li>\n",
    "    <li>Provides the list of Teradata Vantage systems, with buttons to <b>test</b>, <b>edit</b>, <b>copy</b>, and <b>remove</b> the connection</li>\n",
    "    <li>Toolbar with options to <b>add</b> a new connection and <b>refresh</b> the list of connections</li>\n",
    "<li>Add, edit, and copy will pop-up a form to perform the add, edit, or copy task</li>\n",
    "    <ul>\n",
    "    <li>Required fields are bordered in <span style=\"color:red\">red</span> and indicated with an asterisk, '*'</li>\n",
    "    <li>Invalid field values are turned <span style=\"color:red\">red</span></li>\n",
    "    <li>Connection Properties can be removed by setting the value to 'Option Not Selected'</li>\n",
    "    <li>When editing the connection, the connection name can not be modified</li>\n",
    "   </ul>\n",
    "</ul>"
   ]
  },
  {
   "cell_type": "markdown",
   "metadata": {},
   "source": [
    "***\n",
    "<h2>Setting SQL Kernel Preferences</h2>\n",
    "<p>\n",
    "<ul>\n",
    "    <li>Accessed from the JupyterLab toolbar><b>Settings</b> option. Click to see the dropdown list and choose <b>Advanced Settings Editor</b></li>\n",
    "    <li>Select <b>Teradata Preferences</b></li>\n",
    "    <li>The lefthand side of the window shows the default values for the preferences, in a JSON style form. Preferences can be changed by changing the value on the righthand side.</li>\n",
    "    <li>The values are validated and any errors are displayed at the bottom, righthand side.</li>\n",
    "    <li>Submit any changes by clicking the disk icon, 'Save User Settings', at the top, righthand toolbar.</li>\n",
    "    <li>You must restart any Navigator windows or SQL Notebooks for the new preferences to take affect.</li>\n",
    "</ul>"
   ]
  },
  {
   "cell_type": "markdown",
   "metadata": {},
   "source": [
    "***\n",
    "## Teradata SQL Kernel\n",
    "#### A Teradata SQL Notebook can be opened by selecting the Teradata icon on the launcher page"
   ]
  },
  {
   "cell_type": "markdown",
   "metadata": {},
   "source": [
    "***\n",
    "## Magic commands (aka magics)\n",
    "#### The Teradata SQL Kernel supports a set of magics that can be used to perform a variety of operations\n",
    "Full list of magics provided with Teradata SQL Kernel can be seen by entering %help.<br><br>\n",
    "Some magic commands have parameters in the form name=value, name2=value2.<br>\n",
    "In these cases\n",
    "1. the parameter names are not case sensitive\n",
    "2. the values can be quoted with double quotes. Quoting of values is only required if the value contains any of the characters , = \" \\n"
   ]
  },
  {
   "cell_type": "code",
   "execution_count": 1,
   "metadata": {
    "tags": []
   },
   "outputs": [
    {
     "data": {
      "text/markdown": [
       "%help **command** - Display detailed help for one magic command (without %).</br>\n",
       "%help **all** - Display detailed help for all magic commands.</br>\n",
       "%help **snippets** - Display the list of SQL command Snippets.</br>\n",
       "%help **rowcount** - Display the current rowcount value.</br>\n",
       "%help **currentdb** - Display the current database for the user.</br>\n",
       "%help **hidewarnings** - Display the current hide warnings value.</br>\n",
       "#### Notation conventions: Items in [] are optional, all others are required.  Parameter names are not case sensitive.</br>\n",
       "#### Magic Commands:</br>\n",
       "**%addconnect** - Add a Teradata Vantage database connection specification.</br>**%connect** - Connect to a Vantage system and/or make the connection active.</br>**%disconnect** - Disconnect from a Vantage system.</br>**%rmconnect** - Remove a connection specification.</br>**%chconnect** - Change a connection specification.</br>**%lsconnect** - List the known connections.</br>**%chart** - Display a Vega-Lite visualization of a query result set or an existing Vega or VegaLite chart.</br>**%table** - Display a previous result set as a table.</br>**%meta** - Display metadata of a previous result set.</br>**%dataload** - Load a CSV file into a database table.</br>**%history** - Display a table or the details of previously executed commands.\n",
       "\t\tIf a single history item is specified, the details for that item will be displayed.</br>**%rmhistory** - Remove one or more history items and associated result set(s).</br>**%var** - Define one or more variables for use in SQL statements and magic commands.</br>**%lsvar** - List one or more variables. If no names are provided, list all defined variables.</br>**%rmvar** - Remove one or more defined variables.</br>**%pyinfo** - Display information about the version of Python installed on the Vantage system.</br>**%rinfo** - Display information about the version of R installed on the Vantage system.</br>**%runsto** - Run a Script Table Operator.</br>**%installfile** - Install a file onto the Vantage system.</br>**%rmfile** - Remove a file that has been installed on the Vantage system.</br>**%showfile** - Display the contents of a file that has been installed on the Vantage system.</br>**%loglevel** - Set the logging level for the Teradata SQL kernel.</br>**%lsmagic** - List the supported magic commands.</br>**%quickref** - Display help for magic commands.</br>**%help** - Display help for magic commands.</br>**%savecolumn** - Save a BLOB column data to a file.</br>"
      ]
     },
     "execution_count": 1,
     "metadata": {
      "application/vnd.teradata.resultset": "helpdata"
     },
     "output_type": "execute_result"
    }
   ],
   "source": [
    "%help"
   ]
  },
  {
   "cell_type": "markdown",
   "metadata": {},
   "source": [
    "#### A list of the \"magics\" without descriptions can be displayed with the %lsmagic command"
   ]
  },
  {
   "cell_type": "code",
   "execution_count": null,
   "metadata": {},
   "outputs": [],
   "source": [
    "%lsmagic"
   ]
  },
  {
   "cell_type": "markdown",
   "metadata": {},
   "source": [
    "#### Help for a specific command can be displayed by adding the command name (without the %)"
   ]
  },
  {
   "cell_type": "code",
   "execution_count": 2,
   "metadata": {},
   "outputs": [
    {
     "data": {
      "text/markdown": [
       "#### %chart\n",
       "Display a Vega-Lite visualization of a query result set or an existing Vega or VegaLite chart.\n",
       "\n",
       "%chart x=&lt;XColumnName&gt;, y=&lt;YColumnName&gt;,</br>\n",
       "[title=&lt;ChartTitle&gt;,] [id=&lt;ResultSetID&gt;|&lt;HistoryID&gt;,] [part=&lt;PartNum&gt;]</br>\n",
       "[labelx=&lt;XLabel&gt;,] [labely=&lt;YLabel&gt;,]</br>\n",
       "[gridx=&lt;ttrue|false&gt;,] [gridy=&lt;true|false&gt;,]</br>\n",
       "[typex=&lt;q|n|o|t&gt;,] [typey=&lt;q|n|o|t&gt;,]</br>\n",
       "[aggregatex=&lt;count|sum|mean|median|min|max|stdev&gt;,] [aggregatey=&lt;count|sum|mean|median|min|max|stdev&gt;,]</br>\n",
       "[binx=&lt;true|false&gt;,] [biny=&lt;true|false&gt;,]</br>\n",
       "[sortx=&lt;ascending|descending&gt;,] [sorty=&lt;ascending|descending&gt;,]</br>\n",
       "[timeunitx=&lt;year|quarter|month|day|week|dayofyear|hours&gt;,] [timeunity=&lt;year|quarter|month|day|week|dayofyear|hours&gt;,]</br>\n",
       "[mark=&lt;arc|area|bar|circle|line|point|rect|rule|square|text|tick&gt;,]</br>\n",
       "[color=&lt;CSSColorSpec&gt;,] [height=&lt;ChartHeight&gt;,] [width=&lt;ChartWidth&gt;]</br>\n",
       "[groupingcol=&lt;ColumnNameOfGroupingField&gt;,] [typegroupingcol=&lt;q|n|o|t&gt;,]</br>\n",
       "[sample=&lt;SizeOfRandomSample&gt;,]</br>\n",
       "[spec=&lt;ChartSpec&gt;, [data=&lt;ChartData&gt;]]\n",
       "\n",
       "* **groupingcol** is the name of the column used for grouping for multi series chart or stacked chart.\n",
       "* **typex** and **typey** and **typegroupingcol** values: q=quantitative n=nominal o=ordinal t=temporal\n",
       "  * (defaults based on column type: numeric types -> quantitative, time times -> temporal, other types -> nominal)\n",
       "* **&lt;ResultSetID&gt;** is the timestamp/directory name of the result set.\n",
       "* **&lt;HistoryID&gt;** is the id of the history item (see **%history** command).\n",
       "* If the **id** is not specified, the most recently accessed result set is displayed.\n",
       "* **aggregatex** and **aggregatey** values: count, sum, mean, variance, stdev, median, min, max. For a full list, see vega.github.io/vega-lite/docs/aggregate.html#ops\n",
       "* **binx** and **biny** set to \"true\" to discretize numeric values into a set of bins.\n",
       "* **timeunitx** and **timeunity** discretize times. for a full list of supported values, see vega.github.io/vega-lite/docs/timeunit.html\n",
       "* **sample** filters data to a random sample of specified size.\n",
       "* The **spec** parameter is used to display an existing chart spec.\n",
       "* If **spec** is used, only **data**, **id**, and **part** parameters are supported."
      ]
     },
     "execution_count": 2,
     "metadata": {
      "application/vnd.teradata.resultset": "helpdata"
     },
     "output_type": "execute_result"
    }
   ],
   "source": [
    "%help chart"
   ]
  },
  {
   "cell_type": "markdown",
   "metadata": {},
   "source": [
    "***\n",
    "## Variables\n",
    "Variables can be defined and used in SQL statements and magic commands\n",
    "* e.g."
   ]
  },
  {
   "cell_type": "markdown",
   "metadata": {},
   "source": [
    "    %var db=mydb, table=mytable"
   ]
  },
  {
   "cell_type": "markdown",
   "metadata": {},
   "source": [
    "    select * from ${db}.${table}"
   ]
  },
  {
   "cell_type": "markdown",
   "metadata": {},
   "source": [
    "#### %lsvar to list variables"
   ]
  },
  {
   "cell_type": "code",
   "execution_count": 4,
   "metadata": {},
   "outputs": [
    {
     "data": {
      "text/markdown": [
       "#### %lsvar\n",
       "List one or more variables. If no names are provided, list all defined variables.\n",
       "\n",
       "%lsvar [&lt;name&gt;][, &lt;name&gt;]...\n",
       "\t\t\n",
       "* Variable names are case sensitive (e.g. Name1 and name1 are different variables)."
      ]
     },
     "execution_count": 4,
     "metadata": {
      "application/vnd.teradata.resultset": "helpdata"
     },
     "output_type": "execute_result"
    }
   ],
   "source": [
    "%help lsvar"
   ]
  },
  {
   "cell_type": "code",
   "execution_count": 5,
   "metadata": {},
   "outputs": [
    {
     "data": {
      "text/markdown": [
       "#### %rmvar\n",
       "Remove one or more defined variables.\n",
       "\n",
       "%rmvar &lt;name&gt; [, &lt;name&gt;]...\n",
       "\t\t\n",
       "* Variable names are case sensitive (e.g. Name1 and name1 are different variables).\n"
      ]
     },
     "execution_count": 5,
     "metadata": {
      "application/vnd.teradata.resultset": "helpdata"
     },
     "output_type": "execute_result"
    }
   ],
   "source": [
    "%help rmvar"
   ]
  },
  {
   "cell_type": "code",
   "execution_count": 6,
   "metadata": {},
   "outputs": [
    {
     "data": {
      "text/markdown": [
       "#### %var\n",
       "Define one or more variables for use in SQL statements and magic commands.\n",
       "\n",
       "%var &lt;name&gt;=&lt;value&gt; [, &lt;name&gt;=&lt;value&gt;]...\n",
       "\n",
       "* Variables can be used in SQL statements with the notation **\\$\\{name\\}**.\n",
       "\t* e.g.\n",
       "\t\t\t%var db=mydb, table=mytable\n",
       "\t\t\tselect * from ${db}.${table}\n",
       "\t\twill result in the following SQL being run\n",
       "\t\t\tselect * from mydb.mytable\n",
       "\t\tand\n",
       "\t\t\t%var col1=c1, col2=c2\n",
       "\t\t\tselect ${col1}, ${col2} from ${db}.${table}\n",
       "\t\twill result in\n",
       "\t\t\tselect c1, c2 from mydb.mytable\n",
       "\n",
       "\n",
       "* Variables can also be used in magic commands with the same notation **\\$\\{name\\}**.\n",
       "\t* e.g.\n",
       "\t\t\t%var conName=peach, conUser=user1, conHost=host1\n",
       "\t\t\t%connect name=${conname}, user=${conuser}, host=${conhost}\n",
       "\t\twill result in the following magic command being run\n",
       "\t\t\t%connect name=peach, user=user1, host=host1\n",
       "\n",
       "\n",
       "* Values do not need to be quoted unless they include the characters space, equal, double-quote, comma, or newline.\n",
       "\t* Values can be quoted using double quotes to include these special characters.\n",
       "\t* Single quotes can be included in values but have no special meaning.\n",
       "\t* e.g.\n",
       "\t\t\t%var db=\"mydb . \", table=mytable\n",
       "\t\t\tselect * from ${db}${table}\n",
       "\t\twill result in the following SQL being run\n",
       "\t\t\tselect * from mydb . mytable\n",
       "\n",
       "\n",
       "* Values are substitued exactly as defined regardless of SQL statement quoting or other context.\n",
       "\t* e.g.\n",
       "\t\t\t%var db=mydb, table=mytable, whereval='abc'\n",
       "\t\t\tselect * from \"${db}\".\"${table}\" where f1 = ${whereval}\n",
       "\t\twill result in (note the single quotes are from the variable value)\n",
       "\t\t\tselect * from \"mydb\".\"mytable\" where f1 = 'abc'\n",
       "\n",
       "\n",
       "* To include a double-quote character (\"), the value should be quoted and the included quote should be doubled.\n",
       "\t* e.g.\n",
       "\t\t\t%var str=\"this string contains \"\"embedded\"\" quotes\"\n",
       "\n",
       "\n",
       "* Variable names must begin with an alphabetic character (a-z and A-Z) and can include alphnumeric charaters (a-z, A-Z, and 0-9).\n",
       "\t* e.g. Abc=xyz and a1=abc are OK, but 1=abc, 1a=abc, and a_b=abc are not allowed\n",
       "\n",
       "\n",
       "* Variable names are case sensitive (e.g. Name1 and name1 are different variables).\n",
       "\n",
       "* If a variable is already defined, the new value will replace the existing value.\n",
       "\n",
       "* If a variable is not defined and is used in a SQL or magic command, no substitution will be done.\n",
       "\n",
       "* Each notebook has a unique set of variables.\n",
       "\n",
       "* Variables are not persisted."
      ]
     },
     "execution_count": 6,
     "metadata": {
      "application/vnd.teradata.resultset": "helpdata"
     },
     "output_type": "execute_result"
    }
   ],
   "source": [
    "%help var"
   ]
  },
  {
   "cell_type": "markdown",
   "metadata": {},
   "source": [
    "***\n",
    "## Managing Teradata Advanced SQL Engine connections\n",
    "\n",
    "Before accessing a Teradata Advanced SQL Engine, we need to create a connection.<br>\n",
    "This is a two step process.\n",
    "1. Add a new connection definition (%addconnect) (if one does not already exist). Connections can also be added using the Connection Manager or the Navigator.\n",
    "2. Connect (%connect)\n",
    "***"
   ]
  },
  {
   "cell_type": "markdown",
   "metadata": {},
   "source": [
    "### List existing connections with the %lsconnect command\n"
   ]
  },
  {
   "cell_type": "code",
   "execution_count": 16,
   "metadata": {},
   "outputs": [
    {
     "name": "stdout",
     "output_type": "stream",
     "text": [
      "Disconnected: NAME=peach, USER=dbc, HOST=peach1\n",
      "Disconnected: NAME=teradata-vantage, USER=dbc, HOST=vantage1\n"
     ]
    }
   ],
   "source": [
    "%lsconnect"
   ]
  },
  {
   "cell_type": "markdown",
   "metadata": {},
   "source": [
    "### Add a new connection with the %addconnect command\n",
    "- **NAME** - the user-assigned name of the connection to be created\n",
    "- **USER**[Optional] - the user name to log in. If the USER is not provided in the %addconnect, you will be prompted for the user during the %connect\n",
    "- **HOST** - the host name or IP address\n",
    "- **DATABASE**[Optional] - the default database for the connection\n",
    "\n",
    "The parameter names are not case sensitive (NAME, name, Name, etc)."
   ]
  },
  {
   "cell_type": "code",
   "execution_count": 3,
   "metadata": {},
   "outputs": [
    {
     "data": {
      "text/markdown": [
       "#### %addconnect\n",
       "Add a Teradata Vantage database connection specification.\n",
       "\n",
       "%addconnect name=&lt;Connection Name&gt;[, user=&lt;User Name&gt;], host=&lt;Database Server Name or IP Address&gt; [, database=\"&lt;Default Database&gt;\"] [, props=\"&lt;DB Properties&gt;\"] [, dbviews=\"ViewsV\"]\n",
       " \n",
       "If the **user** parameter is not provided with the %addconnect, you must provide the **&lt;User Name&gt;** value with the %connect command.\n",
       "\n",
       "**database=\"&lt;Default Database&gt;\"** will set the default database for the connection. Executing the DATABASE SQL command statement will take precedence over the default database connection setting.\n",
       "\n",
       "**props=\"&lt;DB Properties&gt;\"** is used to set certain supported connection properties. The supported properties are:\n",
       "\n",
       "| Property        | Default | Description\n",
       "|:----------------|:--------|:----------------------------------------------------------------\n",
       "| **account**     |         | Specifies the Teradata Database account.\n",
       "| **cop**         | true    | Specifies whether COP Discovery is performed.\n",
       "| **coplast**     | false   | Specifies how COP Discovery determines the last COP hostname.\n",
       "| **dbs_port**    | 1025    | Specifies the Teradata Database port number.\n",
       "| **encryptdata** | true    | Controls encryption of data to database.  It is not recommended to set this to false.\n",
       "| **log**         | 0       | Controls driver debug logging.\n",
       "| **logdata**     |         | Specifies extra data for the chosen logon authentication method.\n",
       "| **logmech**     | TD2     | Specifies the logon authentication method. Supported values are **TD2**,**LDAP**,**TDNEGO**.\n",
       "| **sip_support** | true    | Controls whether StatementInfo parcel is used.\n",
       "| **tmode**       | DEFAULT | Specifies the transaction mode. Possible values are **DEFAULT**, **ANSI**, or **TERA** (must be uppercase).\n",
       "\n",
       "For more detailed information on the supported properties see\n",
       "https://github.com/Teradata/jupyterextensions/blob/master/docs/CONNECTIONPARAMETERS.md\n",
       "\n",
       "* Multiple DB properties can be passed in a comma-separated list, e.g. props=\"encryptdata=false, tmode=ANSI\".\n",
       "* Use of any unsupported properties will be ignored or errors will be reported as appropriate.\n",
       "\n",
       "**dbviews=\"ViewsV\"** is used to set the data dictionary query to use the **V** views instead of the **VX** views.\n",
       "  * By default, the VX views are used, which limits the display of database objects to only those for which \n",
       "the connected user has been granted permission.\n",
       "\n",
       "The connection specification will be saved and can be used in the **%connect**, **%disconnect** and **%rmconnect** commands.\n",
       "\n",
       "The **Connection Manager** can also be used to add Teradata connections. The Connection Manager can be\n",
       "accessed from the left-hand, vertical toolbar, by selecting the Manage Teradata Connections icon. The Connection Manager will\n",
       "display the list of connections, with options to **test**, **edit**, **copy/clone**, or **remove** the connection. If you hover over\n",
       "a connection, the details for that connection are provided in a pop-up message. Options are also provided in the Connection Manager toolbar to\n",
       "**refresh** the list of connections and **add** a new connection. </br>"
      ]
     },
     "execution_count": 3,
     "metadata": {
      "application/vnd.teradata.resultset": "helpdata"
     },
     "output_type": "execute_result"
    }
   ],
   "source": [
    "%help addconnect"
   ]
  },
  {
   "cell_type": "markdown",
   "metadata": {},
   "source": [
    "### Change a connection with the %chconnect magic"
   ]
  },
  {
   "cell_type": "code",
   "execution_count": 4,
   "metadata": {},
   "outputs": [
    {
     "data": {
      "text/markdown": [
       "#### %chconnect\n",
       "Change a connection specification.\n",
       "\n",
       "%chconnect name=&lt;Connection Name&gt; [, user=&lt;New User Name&gt;] [, host=&lt;New Database Server Name or IP Address&gt;] [, database=\"&lt;Default Database&gt;\"] [, props=\"&lt;New DB Properties&gt;\"] [, dbviews=\"ViewsV\"]\n",
       "\t\t\n",
       "* Enter the new values for the connection specification parameters, or enter an empty string to remove the parameter altogether.\n",
       "* The **name** value cannot be changed.\n",
       "* The **host** value can be changed but cannot be removed, as it is a required parameter for the connection specification.\n",
       "* **database=\"&lt;Default Database&gt;\"** will change the default database setting stored for the connection. \n",
       " * Executing the DATABASE SQL command statement will take precedence over the default database connection setting.\n",
       "* If the connection is currently **connected**, you will need to disconnect and re-connect for the changes to take effect.\n",
       "* **props=\"&lt;New DB Properties&gt;\"** is used to change supported connection properties. The supported properties are:\n",
       "\n",
       "| Property        | Default | Description\n",
       "|:----------------|:--------|:----------------------------------------------------------------\n",
       "| **account**     |         | Specifies the Teradata Database account.\n",
       "| **cop**         | true    | Specifies whether COP Discovery is performed.\n",
       "| **coplast**     | false   | Specifies how COP Discovery determines the last COP hostname.\n",
       "| **dbs_port**    | 1025    | Specifies the Teradata Database port number.\n",
       "| **encryptdata** | true    | Controls encryption of data to database.  It is not recommended to set this to false.\n",
       "| **log**         | 0       | Controls driver debug logging.\n",
       "| **logdata**     |         | Specifies extra data for the chosen logon authentication method.\n",
       "| **logmech**     | TD2     | Specifies the logon authentication method. Supported values are **TD2**,**LDAP**,**TDNEGO**.\n",
       "| **sip_support** | true    | Controls whether StatementInfo parcel is used.\n",
       "| **tmode**       | DEFAULT | Specifies the transaction mode. Possible values are **DEFAULT**, **ANSI**, or **TERA** (must be uppercase).\n",
       "\n",
       "For more detailed information on the supported properties see\n",
       "https://github.com/Teradata/jupyterextensions/blob/master/docs/CONNECTIONPARAMETERS.md\n",
       "\n",
       "* Multiple DB properties can be passed in a comma-separated list, e.g. props=\"encryptdata=false, tmode=ANSI\".\n",
       "* Use of any unsupported properties will be ignored or errors will be reported as appropriate.\n",
       "\n",
       "The **Connection Manager** can also be used to edit a Teradata connection. The Connection Manager can be\n",
       "accessed from the left-hand, vertical toolbar, by selecting the Manage Teradata Connections icon. The Connection Manager will\n",
       "display the list of connections, with options to **test**, **edit**, **copy/clone**, or **remove** the connection. If you hover over\n",
       "a connection, the details for that connection are provided in a pop-up message. Options are also provided in the Connection Manager toolbar to\n",
       "**refresh** the list of connections and **add** a new connection."
      ]
     },
     "execution_count": 4,
     "metadata": {
      "application/vnd.teradata.resultset": "helpdata"
     },
     "output_type": "execute_result"
    }
   ],
   "source": [
    "%help chconnect"
   ]
  },
  {
   "cell_type": "markdown",
   "metadata": {},
   "source": [
    "### Remove a connection with the %rmconnect magic"
   ]
  },
  {
   "cell_type": "code",
   "execution_count": 5,
   "metadata": {},
   "outputs": [
    {
     "data": {
      "text/markdown": [
       "#### %rmconnect\n",
       "Remove a connection specification\n",
       "\n",
       "%rmconnect \\<Connection Name\\>"
      ]
     },
     "execution_count": 5,
     "metadata": {
      "application/vnd.teradata.resultset": "helpdata"
     },
     "output_type": "execute_result"
    }
   ],
   "source": [
    "%help rmconnect"
   ]
  },
  {
   "cell_type": "markdown",
   "metadata": {},
   "source": [
    "### Connect with the %connect command\n",
    "The connection NAME is required. The USER value can also be specified on the %connect. It will override the USER value specified on the %addconnect. If the USER has not been specified, a prompt will be displayed and the user name can be entered in the text field. The password is also needed if this connection is not yet connected.\n",
    "A password prompt will be displayed to allow the password to be entered in a hidden text field.\n",
    "<p>You can also specify a DATABASE value to override the default database for the connection."
   ]
  },
  {
   "cell_type": "code",
   "execution_count": 2,
   "metadata": {},
   "outputs": [
    {
     "data": {
      "text/markdown": [
       "#### %connect\n",
       "Connect to a Vantage system and/or make the connection active.\n",
       "\n",
       "%connect | %%connect [name=]&lt;Connection Name&gt; [, user=&lt;User Name&gt;] [, database=&lt;Default Database&gt;] [, rowcount=&lt;Row Count&gt;] [, hidewarnings=&lt;true|false&gt;] [, props=\"&lt;DB Properties&gt;\"]\n",
       "\n",
       "* **%connect** will make the named connection the active connection.\n",
       "* **%%connect** is a cell magic command and can be followed on a new line in the same cell by a SQL statement.\n",
       "  * The SQL statement must not be on the same line as the magic and it's parameters.\n",
       "  * This will set the connection used for this SQL statement but will not change the active connection.\n",
       "* **user** can be specified on the connect. It will override the **user** parameter on the %addconnect if one was specified. \n",
       " * If the **user** has not been specified in the %addconnect, nor %connect, a prompt will be displayed and the **&lt;User Name&gt;** can be entered in the text field.\n",
       " * A password is required only if not already connected. A prompt will be displayed and the password can be entered in a hidden text field.\n",
       "* **database=\"&lt;Default Database&gt;\"** will set the default database for the connection. This will override the default database setting stored for the connection.\n",
       " * Executing the DATABASE SQL command statement will take precedence over the default database connection setting.\n",
       "* **%help currentdb** command will display the current database value.\n",
       "* **rowcount** limits the number of rows displayed in the result set (e.g. rowcount=100).\n",
       "  * If **rowcount** is provided with the cell magic, it will only be applied to the result set returned for the cell SQL statement.\n",
       "* **%help rowcount** command will display the current rowcount value.\n",
       "* **hidewarnings** hides warnings which may be returned by the database as the results of a SQL statement. Default is false, warnings will be shown.\n",
       "  * If **hidewarnings** is provided with the cell magic, it will only be applied to the result set returned for the cell SQL statement.\n",
       "* **%help hidewarnings** command will display the current hidewarnings value.\n",
       "* **props=\"&lt;DB Properties&gt;\"** is used to override supported connection properties. The supported properties are:\n",
       "\n",
       "| Property        | Default | Description\n",
       "|:----------------|:--------|:----------------------------------------------------------------\n",
       "| **account**     |         | Specifies the Teradata Database account.\n",
       "| **cop**         | true    | Specifies whether COP Discovery is performed.\n",
       "| **coplast**     | false   | Specifies how COP Discovery determines the last COP hostname.\n",
       "| **dbs_port**    | 1025    | Specifies the Teradata Database port number.\n",
       "| **encryptdata** | true    | Controls encryption of data to database.  It is not recommended to set this to false.\n",
       "| **log**         | 0       | Controls driver debug logging.\n",
       "| **logdata**     |         | Specifies extra data for the chosen logon authentication method.\n",
       "| **logmech**     | TD2     | Specifies the logon authentication method. Supported values are **TD2**,**LDAP**,**TDNEGO**.\n",
       "| **sip_support** | true    | Controls whether StatementInfo parcel is used.\n",
       "| **tmode**       | DEFAULT | Specifies the transaction mode. Possible values are **DEFAULT**, **ANSI**, or **TERA** (must be uppercase).\n",
       "\n",
       "For more detailed information on the supported properties see\n",
       "https://github.com/Teradata/jupyterextensions/blob/master/docs/CONNECTIONPARAMETERS.md\n",
       "\n",
       "* Multiple DB properties can be passed in a comma-separated list, e.g. props=\"encryptdata=false, tmode=ANSI\".\n",
       "* Use of any unsupported properties will be ignored or errors will be reported as appropriate.\n",
       "\n",
       "The **Connection Manager** can also be used to manage Teradata connections. The Connection Manager can be\n",
       "accessed from the left-hand, vertical toolbar, by selecting the Manage Teradata Connections icon. The Connection Manager will\n",
       "display the list of connections, with options to **test**, **edit**, **copy/clone**, or **remove** the connection. If you hover over\n",
       "a connection, the details for that connection are provided in a pop-up message. Options are also provided in the Connection Manager toolbar to\n",
       "**refresh** the list of connections and **add** a new connection."
      ]
     },
     "execution_count": 2,
     "metadata": {
      "application/vnd.teradata.resultset": "helpdata"
     },
     "output_type": "execute_result"
    }
   ],
   "source": [
    "%help connect"
   ]
  },
  {
   "cell_type": "markdown",
   "metadata": {},
   "source": [
    "### Select the Teradata Advanced SQL Engine to connect to"
   ]
  },
  {
   "cell_type": "code",
   "execution_count": 28,
   "metadata": {},
   "outputs": [
    {
     "name": "stdout",
     "output_type": "stream",
     "text": [
      "Disconnected: NAME=peach, USER=dbc, HOST=peach1\n",
      "Disconnected: NAME=teradata-vantage, USER=dbc, HOST=vantage1\n"
     ]
    }
   ],
   "source": [
    "%lsconnect"
   ]
  },
  {
   "cell_type": "code",
   "execution_count": 29,
   "metadata": {},
   "outputs": [
    {
     "name": "stdin",
     "output_type": "stream",
     "text": [
      "Password: ···\n"
     ]
    },
    {
     "name": "stdout",
     "output_type": "stream",
     "text": [
      "Success: 'teradata-vantage' connection established and activated for user 'dbc'\n"
     ]
    }
   ],
   "source": [
    "%connect teradata-vantage"
   ]
  },
  {
   "cell_type": "markdown",
   "metadata": {},
   "source": [
    "#### When a connection is first established, it will prompt you for the password. It will be shown in the %lsconnect output as '*Connected'\n",
    "The asterisk indicates that this is the active connection (only one connection is **active** at a time, although more that one can be **connected**)"
   ]
  },
  {
   "cell_type": "code",
   "execution_count": 30,
   "metadata": {},
   "outputs": [
    {
     "name": "stdin",
     "output_type": "stream",
     "text": [
      "Password: ···\n"
     ]
    },
    {
     "name": "stdout",
     "output_type": "stream",
     "text": [
      "Success: 'peach' connection established and activated for user 'dbc'\n"
     ]
    }
   ],
   "source": [
    "%connect peach"
   ]
  },
  {
   "cell_type": "code",
   "execution_count": 31,
   "metadata": {},
   "outputs": [
    {
     "name": "stdout",
     "output_type": "stream",
     "text": [
      "*Connected:   NAME=peach, USER=dbc, HOST=peach1\n",
      "Connected:    NAME=teradata-vantage, USER=dbc, HOST=vantage1\n"
     ]
    }
   ],
   "source": [
    "%lsconnect"
   ]
  },
  {
   "cell_type": "markdown",
   "metadata": {},
   "source": [
    "### Make a connection active with the %connect command\n",
    "If already connected, the %connect command will make the specified connection the active connection. No password is required in this case."
   ]
  },
  {
   "cell_type": "code",
   "execution_count": 32,
   "metadata": {},
   "outputs": [
    {
     "name": "stdout",
     "output_type": "stream",
     "text": [
      "Connected: 'teradata-vantage' connection activated for user 'dbc'\n"
     ]
    }
   ],
   "source": [
    "%connect teradata-vantage"
   ]
  },
  {
   "cell_type": "code",
   "execution_count": 33,
   "metadata": {},
   "outputs": [
    {
     "name": "stdout",
     "output_type": "stream",
     "text": [
      "Connected:    NAME=peach, USER=dbc, HOST=peach1\n",
      "*Connected:   NAME=teradata-vantage, USER=dbc, HOST=vantage1\n"
     ]
    }
   ],
   "source": [
    "%lsconnect"
   ]
  },
  {
   "cell_type": "markdown",
   "metadata": {},
   "source": [
    "### Disconnect with the %disconnect command"
   ]
  },
  {
   "cell_type": "code",
   "execution_count": 34,
   "metadata": {},
   "outputs": [
    {
     "name": "stdout",
     "output_type": "stream",
     "text": [
      "Success: 'teradata-vantage' disconnected"
     ]
    }
   ],
   "source": [
    "%disconnect teradata-vantage"
   ]
  },
  {
   "cell_type": "code",
   "execution_count": 35,
   "metadata": {},
   "outputs": [
    {
     "name": "stdout",
     "output_type": "stream",
     "text": [
      "Connected:    NAME=peach, USER=dbc, HOST=peach1\n",
      "Disconnected: NAME=teradata-vantage, USER=dbc, HOST=vantage1\n"
     ]
    }
   ],
   "source": [
    "%lsconnect"
   ]
  },
  {
   "cell_type": "markdown",
   "metadata": {},
   "source": [
    "### Show Current Database for connection"
   ]
  },
  {
   "cell_type": "code",
   "execution_count": 16,
   "metadata": {},
   "outputs": [
    {
     "name": "stdout",
     "output_type": "stream",
     "text": [
      "Current Database is 'DBC'"
     ]
    }
   ],
   "source": [
    "%help currentdb"
   ]
  },
  {
   "cell_type": "markdown",
   "metadata": {},
   "source": [
    "***\n",
    "## Executing SQL"
   ]
  },
  {
   "cell_type": "markdown",
   "metadata": {},
   "source": [
    "#### To execute SQL, simply enter the SQL in a cell and execute the cell (**SHIFT+ENTER** or the run button in the toolbar)\n",
    "<p> The active connection will be used to run the SQL. Query results (if any) will be displayed in a table. The results are stored in a CSV file, located in your workspace /Teradata/Resultsets directory.\n",
    "<p> Hitting the <b>Tab key</b> provides <b>content assist</b>, for example the list of available databases, tables.  This query is just an example, you'll need to specify one that will run on your selected connection."
   ]
  },
  {
   "cell_type": "markdown",
   "metadata": {},
   "source": [
    "#### Resultset table right-click context menu\n",
    "<ul>\n",
    "    <li>Provides <b>Copy Cells to Clipboard</b> option (or CTRL+C) of selected cell data</li>\n",
    "    <ul><li>Copies selected cell(s) data to clipboard, as tab separated fields</li>\n",
    "        <li>Includes column headers </li></ul>\n",
    "    <li>Provides <b>Show Cell as Text </b>option (or Double click) </li>\n",
    "    <ul><li>Opens popup dialog with text displayed, including newlines, with its own Copy to Clipboard button.</li></ul>\n",
    "    <li>Provides <b>View Image</b> option</li>\n",
    "    <ul><li>For BLOB columns which contain images, opens popup dialog with image displayed.</li>\n",
    "        <li>Can optionally save image to file specifying location, name and file type.</li></ul>\n",
    "</ul>"
   ]
  },
  {
   "cell_type": "code",
   "execution_count": 6,
   "metadata": {},
   "outputs": [
    {
     "name": "stdin",
     "output_type": "stream",
     "text": [
      "Password: ···\n"
     ]
    },
    {
     "name": "stdout",
     "output_type": "stream",
     "text": [
      "Success: 'peach' connection established and activated for user 'dbc'\n"
     ]
    }
   ],
   "source": [
    "%connect peach"
   ]
  },
  {
   "cell_type": "code",
   "execution_count": 7,
   "metadata": {},
   "outputs": [
    {
     "data": {
      "application/vnd.teradata.resultset": "\"Sales_Center_ID\",\"UNITS\",\"SALES\",\"COST\"\n\"3333\",\"5.0000\",\"32.00\",\"12.80\"\n\"5555\",\"1.0000\",\"7.97\",\"3.89\"\n\"6666\",\"1.0000\",\"18.75\",\"5.20\"\n\"7777\",\".0000\",\".00\",\".00\"\n\"9999\",\".0000\",\".00\",\".00\"\n\"1112\",\"1.0000\",\"8.00\",\"2.65\"\n\"1113\",\"5.0000\",\"39.42\",\"10.68\"\n\"1114\",\"5.0000\",\"35.58\",\"15.84\"\n\"1115\",\"3.0000\",\".00\",\".00\"\n\"1116\",\"1.0000\",\"17.18\",\"2.69\"\n\"1117\",\"1.0000\",\"9.50\",\"3.01\"\n\"1119\",\".0000\",\".00\",\".00\"\n\"2111\",\"4.0000\",\"29.00\",\"13.63\"\n\"3111\",\"21.0000\",\"55.00\",\"57.98\"\n\"1111\",\".0000\",\".00\",\".00\"\n\"2222\",\".0000\",\".00\",\".00\"\n\"3333\",\"10.0000\",\"43.78\",\"77.42\"\n\"4444\",\"70.0000\",\"65.73\",\"238.20\"\n\"5555\",\".0000\",\".00\",\".00\"\n\"6666\",\"1.0000\",\"7.79\",\"4.51\"\n\"1118\",\"4.0000\",\"27.10\",\"6.79\"\n\"8888\",\"1.0000\",\"10.60\",\"5.36\"\n\"4444\",\"1.0000\",\"20.85\",\"9.50\"\n\"2222\",\"1.0000\",\"18.75\",\"9.50\"\n\"1111\",\".0000\",\".00\",\".00\"",
      "text/html": [
       "<div class = \"td-resultset-table-div\" style = \"max-height: 100%; overflow-y: auto\">\n",
       "      <table class=\"tdhistory894400\"><style>\n",
       "      table.tdhistory894400 { display: block !important; min-height: 588px !important; overflow: auto !important; height: 588px !important; width: 100% !important; border: 1px solid rgb(207, 207, 207) !important; border-collapse: collapse !important; ; color: var(--jp-ui-font-color1) !important; }\n",
       "      th.tdhistory894400 { border: 1px solid rgb(198,198,198) !important; border-collapse: collapse !important; ; padding: 2px 5px !important; ; font-size: 13px !important; ; text-align: center !important; white-space: normal !important; color: var(--jp-ui-font-color1) !important; }\n",
       "      th.tdhistory894400:last-child { text-align: left !important; }\n",
       "      tbody.tdhistory894400 tr:nth-child(even) { background: rgba(243, 243, 243, 0.75) !important; }\n",
       "      tbody.tdhistory894400 tr:nth-child(odd) { background: var(--jp-ui-inverse-font-color1) !important; }\n",
       "      td.tdhistory894400 { border: 1px solid rgb(207, 207, 207) !important; border-collapse: collapse !important; ; padding: 2px 5px !important; ; font-size: 13px !important; ; text-align: left !important;          white-space: nowrap !important; overflow:hidden !important; text-overflow:ellipsis !important;; }\n",
       "    </style><thead><tr style= \"background: rgba(243, 243, 243, 0.75)\"><th class=\"tdhistory894400\"></th><th class=\"tdhistory894400\">Sales_Center_ID</th><th class=\"tdhistory894400\">UNITS</th><th class=\"tdhistory894400\">SALES</th><th class=\"tdhistory894400\">COST</th></tr></thead><tbody class=\"tdhistory894400 resultset-body\"><tr><th class=\"tdhistory894400\" style= \"background: rgba(243, 243, 243, 0.75)\">1</th><td class=\"tdhistory894400\">3333</td><td class=\"tdhistory894400\">5.0000</td><td class=\"tdhistory894400\">32.00</td><td class=\"tdhistory894400\">12.80</td></tr><tr><th class=\"tdhistory894400\" style= \"background: rgba(243, 243, 243, 0.75)\">2</th><td class=\"tdhistory894400\">5555</td><td class=\"tdhistory894400\">1.0000</td><td class=\"tdhistory894400\">7.97</td><td class=\"tdhistory894400\">3.89</td></tr><tr><th class=\"tdhistory894400\" style= \"background: rgba(243, 243, 243, 0.75)\">3</th><td class=\"tdhistory894400\">6666</td><td class=\"tdhistory894400\">1.0000</td><td class=\"tdhistory894400\">18.75</td><td class=\"tdhistory894400\">5.20</td></tr><tr><th class=\"tdhistory894400\" style= \"background: rgba(243, 243, 243, 0.75)\">4</th><td class=\"tdhistory894400\">7777</td><td class=\"tdhistory894400\">.0000</td><td class=\"tdhistory894400\">.00</td><td class=\"tdhistory894400\">.00</td></tr><tr><th class=\"tdhistory894400\" style= \"background: rgba(243, 243, 243, 0.75)\">5</th><td class=\"tdhistory894400\">9999</td><td class=\"tdhistory894400\">.0000</td><td class=\"tdhistory894400\">.00</td><td class=\"tdhistory894400\">.00</td></tr><tr><th class=\"tdhistory894400\" style= \"background: rgba(243, 243, 243, 0.75)\">6</th><td class=\"tdhistory894400\">1112</td><td class=\"tdhistory894400\">1.0000</td><td class=\"tdhistory894400\">8.00</td><td class=\"tdhistory894400\">2.65</td></tr><tr><th class=\"tdhistory894400\" style= \"background: rgba(243, 243, 243, 0.75)\">7</th><td class=\"tdhistory894400\">1113</td><td class=\"tdhistory894400\">5.0000</td><td class=\"tdhistory894400\">39.42</td><td class=\"tdhistory894400\">10.68</td></tr><tr><th class=\"tdhistory894400\" style= \"background: rgba(243, 243, 243, 0.75)\">8</th><td class=\"tdhistory894400\">1114</td><td class=\"tdhistory894400\">5.0000</td><td class=\"tdhistory894400\">35.58</td><td class=\"tdhistory894400\">15.84</td></tr><tr><th class=\"tdhistory894400\" style= \"background: rgba(243, 243, 243, 0.75)\">9</th><td class=\"tdhistory894400\">1115</td><td class=\"tdhistory894400\">3.0000</td><td class=\"tdhistory894400\">.00</td><td class=\"tdhistory894400\">.00</td></tr><tr><th class=\"tdhistory894400\" style= \"background: rgba(243, 243, 243, 0.75)\">10</th><td class=\"tdhistory894400\">1116</td><td class=\"tdhistory894400\">1.0000</td><td class=\"tdhistory894400\">17.18</td><td class=\"tdhistory894400\">2.69</td></tr><tr><th class=\"tdhistory894400\" style= \"background: rgba(243, 243, 243, 0.75)\">11</th><td class=\"tdhistory894400\">1117</td><td class=\"tdhistory894400\">1.0000</td><td class=\"tdhistory894400\">9.50</td><td class=\"tdhistory894400\">3.01</td></tr><tr><th class=\"tdhistory894400\" style= \"background: rgba(243, 243, 243, 0.75)\">12</th><td class=\"tdhistory894400\">1119</td><td class=\"tdhistory894400\">.0000</td><td class=\"tdhistory894400\">.00</td><td class=\"tdhistory894400\">.00</td></tr><tr><th class=\"tdhistory894400\" style= \"background: rgba(243, 243, 243, 0.75)\">13</th><td class=\"tdhistory894400\">2111</td><td class=\"tdhistory894400\">4.0000</td><td class=\"tdhistory894400\">29.00</td><td class=\"tdhistory894400\">13.63</td></tr><tr><th class=\"tdhistory894400\" style= \"background: rgba(243, 243, 243, 0.75)\">14</th><td class=\"tdhistory894400\">3111</td><td class=\"tdhistory894400\">21.0000</td><td class=\"tdhistory894400\">55.00</td><td class=\"tdhistory894400\">57.98</td></tr><tr><th class=\"tdhistory894400\" style= \"background: rgba(243, 243, 243, 0.75)\">15</th><td class=\"tdhistory894400\">1111</td><td class=\"tdhistory894400\">.0000</td><td class=\"tdhistory894400\">.00</td><td class=\"tdhistory894400\">.00</td></tr><tr><th class=\"tdhistory894400\" style= \"background: rgba(243, 243, 243, 0.75)\">16</th><td class=\"tdhistory894400\">2222</td><td class=\"tdhistory894400\">.0000</td><td class=\"tdhistory894400\">.00</td><td class=\"tdhistory894400\">.00</td></tr><tr><th class=\"tdhistory894400\" style= \"background: rgba(243, 243, 243, 0.75)\">17</th><td class=\"tdhistory894400\">3333</td><td class=\"tdhistory894400\">10.0000</td><td class=\"tdhistory894400\">43.78</td><td class=\"tdhistory894400\">77.42</td></tr><tr><th class=\"tdhistory894400\" style= \"background: rgba(243, 243, 243, 0.75)\">18</th><td class=\"tdhistory894400\">4444</td><td class=\"tdhistory894400\">70.0000</td><td class=\"tdhistory894400\">65.73</td><td class=\"tdhistory894400\">238.20</td></tr><tr><th class=\"tdhistory894400\" style= \"background: rgba(243, 243, 243, 0.75)\">19</th><td class=\"tdhistory894400\">5555</td><td class=\"tdhistory894400\">.0000</td><td class=\"tdhistory894400\">.00</td><td class=\"tdhistory894400\">.00</td></tr><tr><th class=\"tdhistory894400\" style= \"background: rgba(243, 243, 243, 0.75)\">20</th><td class=\"tdhistory894400\">6666</td><td class=\"tdhistory894400\">1.0000</td><td class=\"tdhistory894400\">7.79</td><td class=\"tdhistory894400\">4.51</td></tr><tr><th class=\"tdhistory894400\" style= \"background: rgba(243, 243, 243, 0.75)\">21</th><td class=\"tdhistory894400\">1118</td><td class=\"tdhistory894400\">4.0000</td><td class=\"tdhistory894400\">27.10</td><td class=\"tdhistory894400\">6.79</td></tr><tr><th class=\"tdhistory894400\" style= \"background: rgba(243, 243, 243, 0.75)\">22</th><td class=\"tdhistory894400\">8888</td><td class=\"tdhistory894400\">1.0000</td><td class=\"tdhistory894400\">10.60</td><td class=\"tdhistory894400\">5.36</td></tr><tr><th class=\"tdhistory894400\" style= \"background: rgba(243, 243, 243, 0.75)\">23</th><td class=\"tdhistory894400\">4444</td><td class=\"tdhistory894400\">1.0000</td><td class=\"tdhistory894400\">20.85</td><td class=\"tdhistory894400\">9.50</td></tr><tr><th class=\"tdhistory894400\" style= \"background: rgba(243, 243, 243, 0.75)\">24</th><td class=\"tdhistory894400\">2222</td><td class=\"tdhistory894400\">1.0000</td><td class=\"tdhistory894400\">18.75</td><td class=\"tdhistory894400\">9.50</td></tr><tr><th class=\"tdhistory894400\" style= \"background: rgba(243, 243, 243, 0.75)\">25</th><td class=\"tdhistory894400\">1111</td><td class=\"tdhistory894400\">.0000</td><td class=\"tdhistory894400\">.00</td><td class=\"tdhistory894400\">.00</td></tr></tbody></table></div>"
      ]
     },
     "execution_count": 7,
     "metadata": {
      "application/vnd.teradata.resultset": "{\"resultSetID\":\"/Users/guest/jupyterlabworkspaces/jlab22-workspace/Teradata/Resultsets/2020.08.13_13.57.29.812_PDT\",\"historyID\":91,\"chunkID\":\"00001\",\"sessionid\":\"\",\"portnum\":\"\",\"dockermode\":\"standalone\",\"totalRowCount\":25,\"chunkCount\":0,\"rowLimit\":0,\"columnMetadata\":[{\"columnName\":\"Sales_Center_ID\",\"columnTypeName\":\"INTEGER\"},{\"columnNumber\":1,\"columnName\":\"UNITS\",\"columnTypeName\":\"DECIMAL\",\"length\":4,\"precision\":15,\"scale\":4},{\"columnNumber\":2,\"columnName\":\"SALES\",\"columnTypeName\":\"DECIMAL\",\"length\":2,\"precision\":15,\"scale\":2},{\"columnNumber\":3,\"columnName\":\"COST\",\"columnTypeName\":\"DECIMAL\",\"length\":2,\"precision\":15,\"scale\":2}]}"
     },
     "output_type": "execute_result"
    }
   ],
   "source": [
    "select top 25 * from guest.SalesDemo;"
   ]
  },
  {
   "cell_type": "markdown",
   "metadata": {},
   "source": [
    "### The result of SQL statements that do not return a result set is summarized in the output cell."
   ]
  },
  {
   "cell_type": "code",
   "execution_count": 38,
   "metadata": {},
   "outputs": [
    {
     "data": {
      "text/plain": [
       "Success: 1 rows affected"
      ]
     },
     "execution_count": 38,
     "metadata": {
      "application/vnd.teradata.resultset": ""
     },
     "output_type": "execute_result"
    }
   ],
   "source": [
    "update guest.SalesDemo set UNITS = '3' where Sales_Center_ID = '1115';"
   ]
  },
  {
   "cell_type": "markdown",
   "metadata": {},
   "source": [
    "### Errors are also shown in the output cell"
   ]
  },
  {
   "cell_type": "code",
   "execution_count": null,
   "metadata": {
    "tags": []
   },
   "outputs": [],
   "source": [
    "select * from NonExistentTable;"
   ]
  },
  {
   "cell_type": "markdown",
   "metadata": {},
   "source": [
    "### Cancelling a long running query\n",
    "#### Hitting the 'Interrupt the kernel' toolbar button will cancel the currently executing query."
   ]
  },
  {
   "cell_type": "code",
   "execution_count": 40,
   "metadata": {},
   "outputs": [
    {
     "ename": "ERROR",
     "evalue": "Request Canceled",
     "output_type": "error",
     "traceback": [
      "Request Canceled"
     ]
    }
   ],
   "source": [
    "select * from SSB.LINEORDER_10M_ROWS"
   ]
  },
  {
   "cell_type": "markdown",
   "metadata": {},
   "source": [
    "### Execute SQL on a specific connection (not necessarily the active connection) with the %%connect cell magic command\n",
    "#### Follow the %%connect command with SQL in the same cell"
   ]
  },
  {
   "cell_type": "code",
   "execution_count": 1,
   "metadata": {},
   "outputs": [
    {
     "name": "stdin",
     "output_type": "stream",
     "text": [
      "User Name: dbc\n",
      "Password: ···\n"
     ]
    },
    {
     "name": "stdout",
     "output_type": "stream",
     "text": [
      "Success: 'teradata-vantage' connection established and activated for user 'dbc'\n"
     ]
    },
    {
     "data": {
      "application/vnd.teradata.resultset": "\"sn\",\"price\",\"lotsize\",\"bedrooms\",\"bathrms\",\"stories\",\"driveway\",\"recroom\",\"fullbase\",\"gashw\",\"airco\",\"garagepl\",\"prefarea\",\"homestyle\"\n\"488\",\"44100\",\"8100\",\"2\",\"1\",\"1\",\"yes\",\"no\",\"no\",\"no\",\"no\",\"1\",\"no\",\"Classic\"\n\"345\",\"88000\",\"4500\",\"3\",\"1\",\"4\",\"yes\",\"no\",\"no\",\"no\",\"yes\",\"0\",\"no\",\"Eclectic\"\n\"406\",\"86000\",\"6900\",\"3\",\"2\",\"1\",\"yes\",\"yes\",\"yes\",\"no\",\"no\",\"0\",\"yes\",\"Eclectic\"\n\"528\",\"106000\",\"6325\",\"3\",\"1\",\"4\",\"yes\",\"no\",\"no\",\"no\",\"yes\",\"1\",\"no\",\"bungalow\"\n\"446\",\"104900\",\"11440\",\"4\",\"1\",\"2\",\"yes\",\"no\",\"yes\",\"no\",\"no\",\"1\",\"yes\",\"bungalow\"\n\"343\",\"80000\",\"10500\",\"2\",\"1\",\"1\",\"yes\",\"no\",\"no\",\"no\",\"no\",\"1\",\"no\",\"Eclectic\"\n\"200\",\"52000\",\"3570\",\"3\",\"1\",\"2\",\"yes\",\"no\",\"yes\",\"no\",\"no\",\"0\",\"no\",\"Eclectic\"\n\"57\",\"25245\",\"2400\",\"3\",\"1\",\"1\",\"no\",\"no\",\"no\",\"no\",\"no\",\"0\",\"no\",\"Classic\"\n\"118\",\"94500\",\"4000\",\"3\",\"2\",\"2\",\"yes\",\"no\",\"yes\",\"no\",\"yes\",\"1\",\"no\",\"Eclectic\"\n\"383\",\"140000\",\"13200\",\"3\",\"1\",\"2\",\"yes\",\"no\",\"yes\",\"no\",\"yes\",\"2\",\"yes\",\"bungalow\"\n\"240\",\"30000\",\"3000\",\"4\",\"1\",\"2\",\"yes\",\"no\",\"no\",\"no\",\"no\",\"0\",\"no\",\"Classic\"\n\"158\",\"60000\",\"2747\",\"4\",\"2\",\"2\",\"no\",\"no\",\"no\",\"no\",\"no\",\"0\",\"no\",\"Eclectic\"\n\"423\",\"61100\",\"3400\",\"3\",\"1\",\"2\",\"yes\",\"no\",\"yes\",\"no\",\"no\",\"2\",\"yes\",\"Eclectic\"\n\"55\",\"38000\",\"3630\",\"3\",\"3\",\"2\",\"no\",\"yes\",\"no\",\"no\",\"no\",\"0\",\"no\",\"Classic\"\n\"503\",\"70000\",\"6720\",\"3\",\"1\",\"1\",\"yes\",\"no\",\"no\",\"no\",\"no\",\"0\",\"no\",\"Eclectic\"\n\"95\",\"123500\",\"8050\",\"3\",\"1\",\"1\",\"yes\",\"yes\",\"yes\",\"no\",\"yes\",\"1\",\"no\",\"bungalow\"\n\"360\",\"107000\",\"6600\",\"3\",\"1\",\"4\",\"yes\",\"no\",\"no\",\"no\",\"yes\",\"3\",\"yes\",\"bungalow\"\n\"217\",\"138300\",\"6000\",\"4\",\"3\",\"2\",\"yes\",\"yes\",\"yes\",\"yes\",\"no\",\"2\",\"no\",\"bungalow\"\n\"278\",\"65500\",\"4000\",\"3\",\"1\",\"2\",\"yes\",\"no\",\"no\",\"no\",\"no\",\"1\",\"no\",\"Eclectic\"\n\"543\",\"94000\",\"6000\",\"3\",\"2\",\"4\",\"yes\",\"no\",\"no\",\"no\",\"yes\",\"0\",\"no\",\"Eclectic\"\n\"505\",\"71500\",\"8150\",\"3\",\"2\",\"1\",\"yes\",\"yes\",\"yes\",\"no\",\"no\",\"0\",\"no\",\"Eclectic\"\n\"120\",\"116000\",\"6840\",\"5\",\"1\",\"2\",\"yes\",\"yes\",\"yes\",\"no\",\"yes\",\"1\",\"no\",\"bungalow\"\n\"80\",\"63900\",\"6360\",\"2\",\"1\",\"1\",\"yes\",\"no\",\"yes\",\"no\",\"yes\",\"1\",\"no\",\"Eclectic\"\n\"223\",\"70100\",\"4200\",\"3\",\"1\",\"2\",\"yes\",\"no\",\"no\",\"no\",\"no\",\"1\",\"no\",\"Eclectic\"\n\"40\",\"54500\",\"3150\",\"2\",\"2\",\"1\",\"no\",\"no\",\"yes\",\"no\",\"no\",\"0\",\"no\",\"Eclectic\"",
      "text/html": [
       "<div class = \"td-resultset-table-div\" style = \"max-height: 100%; overflow-y: auto\">\n",
       "      <table class=\"tdhistory346181\"><style>\n",
       "      table.tdhistory346181 { display: block !important; min-height: 588px !important; overflow: auto !important; height: 588px !important; width: 100% !important; border: 1px solid rgb(207, 207, 207) !important; border-collapse: collapse !important; ; color: var(--jp-ui-font-color1) !important; }\n",
       "      th.tdhistory346181 { border: 1px solid rgb(198,198,198) !important; border-collapse: collapse !important; ; padding: 2px 5px !important; ; font-size: 13px !important; ; text-align: center !important; white-space: normal !important; color: var(--jp-ui-font-color1) !important; }\n",
       "      th.tdhistory346181:last-child { text-align: left !important; }\n",
       "      tbody.tdhistory346181 tr:nth-child(even) { background: rgba(243, 243, 243, 0.75) !important; }\n",
       "      tbody.tdhistory346181 tr:nth-child(odd) { background: var(--jp-ui-inverse-font-color1) !important; }\n",
       "      td.tdhistory346181 { border: 1px solid rgb(207, 207, 207) !important; border-collapse: collapse !important; ; padding: 2px 5px !important; ; font-size: 13px !important; ; text-align: left !important;          white-space: nowrap !important; overflow:hidden !important; text-overflow:ellipsis !important;; }\n",
       "    </style><thead><tr style= \"background: rgba(243, 243, 243, 0.75)\"><th class=\"tdhistory346181\"></th><th class=\"tdhistory346181\">sn</th><th class=\"tdhistory346181\">price</th><th class=\"tdhistory346181\">lotsize</th><th class=\"tdhistory346181\">bedrooms</th><th class=\"tdhistory346181\">bathrms</th><th class=\"tdhistory346181\">stories</th><th class=\"tdhistory346181\">driveway</th><th class=\"tdhistory346181\">recroom</th><th class=\"tdhistory346181\">fullbase</th><th class=\"tdhistory346181\">gashw</th><th class=\"tdhistory346181\">airco</th><th class=\"tdhistory346181\">garagepl</th><th class=\"tdhistory346181\">prefarea</th><th class=\"tdhistory346181\">homestyle</th></tr></thead><tbody class=\"tdhistory346181 resultset-body\"><tr><th class=\"tdhistory346181\" style= \"background: rgba(243, 243, 243, 0.75)\">1</th><td class=\"tdhistory346181\">488</td><td class=\"tdhistory346181\">44100</td><td class=\"tdhistory346181\">8100</td><td class=\"tdhistory346181\">2</td><td class=\"tdhistory346181\">1</td><td class=\"tdhistory346181\">1</td><td class=\"tdhistory346181\">yes</td><td class=\"tdhistory346181\">no</td><td class=\"tdhistory346181\">no</td><td class=\"tdhistory346181\">no</td><td class=\"tdhistory346181\">no</td><td class=\"tdhistory346181\">1</td><td class=\"tdhistory346181\">no</td><td class=\"tdhistory346181\">Classic</td></tr><tr><th class=\"tdhistory346181\" style= \"background: rgba(243, 243, 243, 0.75)\">2</th><td class=\"tdhistory346181\">345</td><td class=\"tdhistory346181\">88000</td><td class=\"tdhistory346181\">4500</td><td class=\"tdhistory346181\">3</td><td class=\"tdhistory346181\">1</td><td class=\"tdhistory346181\">4</td><td class=\"tdhistory346181\">yes</td><td class=\"tdhistory346181\">no</td><td class=\"tdhistory346181\">no</td><td class=\"tdhistory346181\">no</td><td class=\"tdhistory346181\">yes</td><td class=\"tdhistory346181\">0</td><td class=\"tdhistory346181\">no</td><td class=\"tdhistory346181\">Eclectic</td></tr><tr><th class=\"tdhistory346181\" style= \"background: rgba(243, 243, 243, 0.75)\">3</th><td class=\"tdhistory346181\">406</td><td class=\"tdhistory346181\">86000</td><td class=\"tdhistory346181\">6900</td><td class=\"tdhistory346181\">3</td><td class=\"tdhistory346181\">2</td><td class=\"tdhistory346181\">1</td><td class=\"tdhistory346181\">yes</td><td class=\"tdhistory346181\">yes</td><td class=\"tdhistory346181\">yes</td><td class=\"tdhistory346181\">no</td><td class=\"tdhistory346181\">no</td><td class=\"tdhistory346181\">0</td><td class=\"tdhistory346181\">yes</td><td class=\"tdhistory346181\">Eclectic</td></tr><tr><th class=\"tdhistory346181\" style= \"background: rgba(243, 243, 243, 0.75)\">4</th><td class=\"tdhistory346181\">528</td><td class=\"tdhistory346181\">106000</td><td class=\"tdhistory346181\">6325</td><td class=\"tdhistory346181\">3</td><td class=\"tdhistory346181\">1</td><td class=\"tdhistory346181\">4</td><td class=\"tdhistory346181\">yes</td><td class=\"tdhistory346181\">no</td><td class=\"tdhistory346181\">no</td><td class=\"tdhistory346181\">no</td><td class=\"tdhistory346181\">yes</td><td class=\"tdhistory346181\">1</td><td class=\"tdhistory346181\">no</td><td class=\"tdhistory346181\">bungalow</td></tr><tr><th class=\"tdhistory346181\" style= \"background: rgba(243, 243, 243, 0.75)\">5</th><td class=\"tdhistory346181\">446</td><td class=\"tdhistory346181\">104900</td><td class=\"tdhistory346181\">11440</td><td class=\"tdhistory346181\">4</td><td class=\"tdhistory346181\">1</td><td class=\"tdhistory346181\">2</td><td class=\"tdhistory346181\">yes</td><td class=\"tdhistory346181\">no</td><td class=\"tdhistory346181\">yes</td><td class=\"tdhistory346181\">no</td><td class=\"tdhistory346181\">no</td><td class=\"tdhistory346181\">1</td><td class=\"tdhistory346181\">yes</td><td class=\"tdhistory346181\">bungalow</td></tr><tr><th class=\"tdhistory346181\" style= \"background: rgba(243, 243, 243, 0.75)\">6</th><td class=\"tdhistory346181\">343</td><td class=\"tdhistory346181\">80000</td><td class=\"tdhistory346181\">10500</td><td class=\"tdhistory346181\">2</td><td class=\"tdhistory346181\">1</td><td class=\"tdhistory346181\">1</td><td class=\"tdhistory346181\">yes</td><td class=\"tdhistory346181\">no</td><td class=\"tdhistory346181\">no</td><td class=\"tdhistory346181\">no</td><td class=\"tdhistory346181\">no</td><td class=\"tdhistory346181\">1</td><td class=\"tdhistory346181\">no</td><td class=\"tdhistory346181\">Eclectic</td></tr><tr><th class=\"tdhistory346181\" style= \"background: rgba(243, 243, 243, 0.75)\">7</th><td class=\"tdhistory346181\">200</td><td class=\"tdhistory346181\">52000</td><td class=\"tdhistory346181\">3570</td><td class=\"tdhistory346181\">3</td><td class=\"tdhistory346181\">1</td><td class=\"tdhistory346181\">2</td><td class=\"tdhistory346181\">yes</td><td class=\"tdhistory346181\">no</td><td class=\"tdhistory346181\">yes</td><td class=\"tdhistory346181\">no</td><td class=\"tdhistory346181\">no</td><td class=\"tdhistory346181\">0</td><td class=\"tdhistory346181\">no</td><td class=\"tdhistory346181\">Eclectic</td></tr><tr><th class=\"tdhistory346181\" style= \"background: rgba(243, 243, 243, 0.75)\">8</th><td class=\"tdhistory346181\">57</td><td class=\"tdhistory346181\">25245</td><td class=\"tdhistory346181\">2400</td><td class=\"tdhistory346181\">3</td><td class=\"tdhistory346181\">1</td><td class=\"tdhistory346181\">1</td><td class=\"tdhistory346181\">no</td><td class=\"tdhistory346181\">no</td><td class=\"tdhistory346181\">no</td><td class=\"tdhistory346181\">no</td><td class=\"tdhistory346181\">no</td><td class=\"tdhistory346181\">0</td><td class=\"tdhistory346181\">no</td><td class=\"tdhistory346181\">Classic</td></tr><tr><th class=\"tdhistory346181\" style= \"background: rgba(243, 243, 243, 0.75)\">9</th><td class=\"tdhistory346181\">118</td><td class=\"tdhistory346181\">94500</td><td class=\"tdhistory346181\">4000</td><td class=\"tdhistory346181\">3</td><td class=\"tdhistory346181\">2</td><td class=\"tdhistory346181\">2</td><td class=\"tdhistory346181\">yes</td><td class=\"tdhistory346181\">no</td><td class=\"tdhistory346181\">yes</td><td class=\"tdhistory346181\">no</td><td class=\"tdhistory346181\">yes</td><td class=\"tdhistory346181\">1</td><td class=\"tdhistory346181\">no</td><td class=\"tdhistory346181\">Eclectic</td></tr><tr><th class=\"tdhistory346181\" style= \"background: rgba(243, 243, 243, 0.75)\">10</th><td class=\"tdhistory346181\">383</td><td class=\"tdhistory346181\">140000</td><td class=\"tdhistory346181\">13200</td><td class=\"tdhistory346181\">3</td><td class=\"tdhistory346181\">1</td><td class=\"tdhistory346181\">2</td><td class=\"tdhistory346181\">yes</td><td class=\"tdhistory346181\">no</td><td class=\"tdhistory346181\">yes</td><td class=\"tdhistory346181\">no</td><td class=\"tdhistory346181\">yes</td><td class=\"tdhistory346181\">2</td><td class=\"tdhistory346181\">yes</td><td class=\"tdhistory346181\">bungalow</td></tr><tr><th class=\"tdhistory346181\" style= \"background: rgba(243, 243, 243, 0.75)\">11</th><td class=\"tdhistory346181\">240</td><td class=\"tdhistory346181\">30000</td><td class=\"tdhistory346181\">3000</td><td class=\"tdhistory346181\">4</td><td class=\"tdhistory346181\">1</td><td class=\"tdhistory346181\">2</td><td class=\"tdhistory346181\">yes</td><td class=\"tdhistory346181\">no</td><td class=\"tdhistory346181\">no</td><td class=\"tdhistory346181\">no</td><td class=\"tdhistory346181\">no</td><td class=\"tdhistory346181\">0</td><td class=\"tdhistory346181\">no</td><td class=\"tdhistory346181\">Classic</td></tr><tr><th class=\"tdhistory346181\" style= \"background: rgba(243, 243, 243, 0.75)\">12</th><td class=\"tdhistory346181\">158</td><td class=\"tdhistory346181\">60000</td><td class=\"tdhistory346181\">2747</td><td class=\"tdhistory346181\">4</td><td class=\"tdhistory346181\">2</td><td class=\"tdhistory346181\">2</td><td class=\"tdhistory346181\">no</td><td class=\"tdhistory346181\">no</td><td class=\"tdhistory346181\">no</td><td class=\"tdhistory346181\">no</td><td class=\"tdhistory346181\">no</td><td class=\"tdhistory346181\">0</td><td class=\"tdhistory346181\">no</td><td class=\"tdhistory346181\">Eclectic</td></tr><tr><th class=\"tdhistory346181\" style= \"background: rgba(243, 243, 243, 0.75)\">13</th><td class=\"tdhistory346181\">423</td><td class=\"tdhistory346181\">61100</td><td class=\"tdhistory346181\">3400</td><td class=\"tdhistory346181\">3</td><td class=\"tdhistory346181\">1</td><td class=\"tdhistory346181\">2</td><td class=\"tdhistory346181\">yes</td><td class=\"tdhistory346181\">no</td><td class=\"tdhistory346181\">yes</td><td class=\"tdhistory346181\">no</td><td class=\"tdhistory346181\">no</td><td class=\"tdhistory346181\">2</td><td class=\"tdhistory346181\">yes</td><td class=\"tdhistory346181\">Eclectic</td></tr><tr><th class=\"tdhistory346181\" style= \"background: rgba(243, 243, 243, 0.75)\">14</th><td class=\"tdhistory346181\">55</td><td class=\"tdhistory346181\">38000</td><td class=\"tdhistory346181\">3630</td><td class=\"tdhistory346181\">3</td><td class=\"tdhistory346181\">3</td><td class=\"tdhistory346181\">2</td><td class=\"tdhistory346181\">no</td><td class=\"tdhistory346181\">yes</td><td class=\"tdhistory346181\">no</td><td class=\"tdhistory346181\">no</td><td class=\"tdhistory346181\">no</td><td class=\"tdhistory346181\">0</td><td class=\"tdhistory346181\">no</td><td class=\"tdhistory346181\">Classic</td></tr><tr><th class=\"tdhistory346181\" style= \"background: rgba(243, 243, 243, 0.75)\">15</th><td class=\"tdhistory346181\">503</td><td class=\"tdhistory346181\">70000</td><td class=\"tdhistory346181\">6720</td><td class=\"tdhistory346181\">3</td><td class=\"tdhistory346181\">1</td><td class=\"tdhistory346181\">1</td><td class=\"tdhistory346181\">yes</td><td class=\"tdhistory346181\">no</td><td class=\"tdhistory346181\">no</td><td class=\"tdhistory346181\">no</td><td class=\"tdhistory346181\">no</td><td class=\"tdhistory346181\">0</td><td class=\"tdhistory346181\">no</td><td class=\"tdhistory346181\">Eclectic</td></tr><tr><th class=\"tdhistory346181\" style= \"background: rgba(243, 243, 243, 0.75)\">16</th><td class=\"tdhistory346181\">95</td><td class=\"tdhistory346181\">123500</td><td class=\"tdhistory346181\">8050</td><td class=\"tdhistory346181\">3</td><td class=\"tdhistory346181\">1</td><td class=\"tdhistory346181\">1</td><td class=\"tdhistory346181\">yes</td><td class=\"tdhistory346181\">yes</td><td class=\"tdhistory346181\">yes</td><td class=\"tdhistory346181\">no</td><td class=\"tdhistory346181\">yes</td><td class=\"tdhistory346181\">1</td><td class=\"tdhistory346181\">no</td><td class=\"tdhistory346181\">bungalow</td></tr><tr><th class=\"tdhistory346181\" style= \"background: rgba(243, 243, 243, 0.75)\">17</th><td class=\"tdhistory346181\">360</td><td class=\"tdhistory346181\">107000</td><td class=\"tdhistory346181\">6600</td><td class=\"tdhistory346181\">3</td><td class=\"tdhistory346181\">1</td><td class=\"tdhistory346181\">4</td><td class=\"tdhistory346181\">yes</td><td class=\"tdhistory346181\">no</td><td class=\"tdhistory346181\">no</td><td class=\"tdhistory346181\">no</td><td class=\"tdhistory346181\">yes</td><td class=\"tdhistory346181\">3</td><td class=\"tdhistory346181\">yes</td><td class=\"tdhistory346181\">bungalow</td></tr><tr><th class=\"tdhistory346181\" style= \"background: rgba(243, 243, 243, 0.75)\">18</th><td class=\"tdhistory346181\">217</td><td class=\"tdhistory346181\">138300</td><td class=\"tdhistory346181\">6000</td><td class=\"tdhistory346181\">4</td><td class=\"tdhistory346181\">3</td><td class=\"tdhistory346181\">2</td><td class=\"tdhistory346181\">yes</td><td class=\"tdhistory346181\">yes</td><td class=\"tdhistory346181\">yes</td><td class=\"tdhistory346181\">yes</td><td class=\"tdhistory346181\">no</td><td class=\"tdhistory346181\">2</td><td class=\"tdhistory346181\">no</td><td class=\"tdhistory346181\">bungalow</td></tr><tr><th class=\"tdhistory346181\" style= \"background: rgba(243, 243, 243, 0.75)\">19</th><td class=\"tdhistory346181\">278</td><td class=\"tdhistory346181\">65500</td><td class=\"tdhistory346181\">4000</td><td class=\"tdhistory346181\">3</td><td class=\"tdhistory346181\">1</td><td class=\"tdhistory346181\">2</td><td class=\"tdhistory346181\">yes</td><td class=\"tdhistory346181\">no</td><td class=\"tdhistory346181\">no</td><td class=\"tdhistory346181\">no</td><td class=\"tdhistory346181\">no</td><td class=\"tdhistory346181\">1</td><td class=\"tdhistory346181\">no</td><td class=\"tdhistory346181\">Eclectic</td></tr><tr><th class=\"tdhistory346181\" style= \"background: rgba(243, 243, 243, 0.75)\">20</th><td class=\"tdhistory346181\">543</td><td class=\"tdhistory346181\">94000</td><td class=\"tdhistory346181\">6000</td><td class=\"tdhistory346181\">3</td><td class=\"tdhistory346181\">2</td><td class=\"tdhistory346181\">4</td><td class=\"tdhistory346181\">yes</td><td class=\"tdhistory346181\">no</td><td class=\"tdhistory346181\">no</td><td class=\"tdhistory346181\">no</td><td class=\"tdhistory346181\">yes</td><td class=\"tdhistory346181\">0</td><td class=\"tdhistory346181\">no</td><td class=\"tdhistory346181\">Eclectic</td></tr><tr><th class=\"tdhistory346181\" style= \"background: rgba(243, 243, 243, 0.75)\">21</th><td class=\"tdhistory346181\">505</td><td class=\"tdhistory346181\">71500</td><td class=\"tdhistory346181\">8150</td><td class=\"tdhistory346181\">3</td><td class=\"tdhistory346181\">2</td><td class=\"tdhistory346181\">1</td><td class=\"tdhistory346181\">yes</td><td class=\"tdhistory346181\">yes</td><td class=\"tdhistory346181\">yes</td><td class=\"tdhistory346181\">no</td><td class=\"tdhistory346181\">no</td><td class=\"tdhistory346181\">0</td><td class=\"tdhistory346181\">no</td><td class=\"tdhistory346181\">Eclectic</td></tr><tr><th class=\"tdhistory346181\" style= \"background: rgba(243, 243, 243, 0.75)\">22</th><td class=\"tdhistory346181\">120</td><td class=\"tdhistory346181\">116000</td><td class=\"tdhistory346181\">6840</td><td class=\"tdhistory346181\">5</td><td class=\"tdhistory346181\">1</td><td class=\"tdhistory346181\">2</td><td class=\"tdhistory346181\">yes</td><td class=\"tdhistory346181\">yes</td><td class=\"tdhistory346181\">yes</td><td class=\"tdhistory346181\">no</td><td class=\"tdhistory346181\">yes</td><td class=\"tdhistory346181\">1</td><td class=\"tdhistory346181\">no</td><td class=\"tdhistory346181\">bungalow</td></tr><tr><th class=\"tdhistory346181\" style= \"background: rgba(243, 243, 243, 0.75)\">23</th><td class=\"tdhistory346181\">80</td><td class=\"tdhistory346181\">63900</td><td class=\"tdhistory346181\">6360</td><td class=\"tdhistory346181\">2</td><td class=\"tdhistory346181\">1</td><td class=\"tdhistory346181\">1</td><td class=\"tdhistory346181\">yes</td><td class=\"tdhistory346181\">no</td><td class=\"tdhistory346181\">yes</td><td class=\"tdhistory346181\">no</td><td class=\"tdhistory346181\">yes</td><td class=\"tdhistory346181\">1</td><td class=\"tdhistory346181\">no</td><td class=\"tdhistory346181\">Eclectic</td></tr><tr><th class=\"tdhistory346181\" style= \"background: rgba(243, 243, 243, 0.75)\">24</th><td class=\"tdhistory346181\">223</td><td class=\"tdhistory346181\">70100</td><td class=\"tdhistory346181\">4200</td><td class=\"tdhistory346181\">3</td><td class=\"tdhistory346181\">1</td><td class=\"tdhistory346181\">2</td><td class=\"tdhistory346181\">yes</td><td class=\"tdhistory346181\">no</td><td class=\"tdhistory346181\">no</td><td class=\"tdhistory346181\">no</td><td class=\"tdhistory346181\">no</td><td class=\"tdhistory346181\">1</td><td class=\"tdhistory346181\">no</td><td class=\"tdhistory346181\">Eclectic</td></tr><tr><th class=\"tdhistory346181\" style= \"background: rgba(243, 243, 243, 0.75)\">25</th><td class=\"tdhistory346181\">40</td><td class=\"tdhistory346181\">54500</td><td class=\"tdhistory346181\">3150</td><td class=\"tdhistory346181\">2</td><td class=\"tdhistory346181\">2</td><td class=\"tdhistory346181\">1</td><td class=\"tdhistory346181\">no</td><td class=\"tdhistory346181\">no</td><td class=\"tdhistory346181\">yes</td><td class=\"tdhistory346181\">no</td><td class=\"tdhistory346181\">no</td><td class=\"tdhistory346181\">0</td><td class=\"tdhistory346181\">no</td><td class=\"tdhistory346181\">Eclectic</td></tr></tbody></table></div>"
      ]
     },
     "execution_count": 1,
     "metadata": {
      "application/vnd.teradata.resultset": "{\"resultSetID\":\"/Users/guest/jupyterlabworkspaces/jlab22-workspace/Teradata/Resultsets/2020.08.17_15.34.47.937_PDT\",\"historyID\":112,\"chunkID\":\"00001\",\"sessionid\":\"\",\"portnum\":\"\",\"dockermode\":\"standalone\",\"totalRowCount\":25,\"chunkCount\":0,\"rowLimit\":0,\"columnMetadata\":[{\"columnName\":\"sn\",\"columnTypeName\":\"INTEGER\"},{\"columnNumber\":1,\"columnName\":\"price\",\"columnTypeName\":\"FLOAT\"},{\"columnNumber\":2,\"columnName\":\"lotsize\",\"columnTypeName\":\"FLOAT\"},{\"columnNumber\":3,\"columnName\":\"bedrooms\",\"columnTypeName\":\"INTEGER\"},{\"columnNumber\":4,\"columnName\":\"bathrms\",\"columnTypeName\":\"INTEGER\"},{\"columnNumber\":5,\"columnName\":\"stories\",\"columnTypeName\":\"INTEGER\"},{\"columnNumber\":6,\"columnName\":\"driveway\",\"columnTypeName\":\"VARCHAR\",\"length\":10,\"scale\":10},{\"columnNumber\":7,\"columnName\":\"recroom\",\"columnTypeName\":\"VARCHAR\",\"length\":10,\"scale\":10},{\"columnNumber\":8,\"columnName\":\"fullbase\",\"columnTypeName\":\"VARCHAR\",\"length\":10,\"scale\":10},{\"columnNumber\":9,\"columnName\":\"gashw\",\"columnTypeName\":\"VARCHAR\",\"length\":10,\"scale\":10},{\"columnNumber\":10,\"columnName\":\"airco\",\"columnTypeName\":\"VARCHAR\",\"length\":10,\"scale\":10},{\"columnNumber\":11,\"columnName\":\"garagepl\",\"columnTypeName\":\"INTEGER\"},{\"columnNumber\":12,\"columnName\":\"prefarea\",\"columnTypeName\":\"VARCHAR\",\"length\":10,\"scale\":10},{\"columnNumber\":13,\"columnName\":\"homestyle\",\"columnTypeName\":\"VARCHAR\",\"length\":20,\"scale\":20}]}"
     },
     "output_type": "execute_result"
    }
   ],
   "source": [
    "%%connect teradata-vantage\n",
    "select top 25 * from stodemo.housing_train; "
   ]
  },
  {
   "cell_type": "markdown",
   "metadata": {},
   "source": [
    "#### The %%connect cell magic only specifies the connection to use for the SQL in the same cell; it will not change the active connection"
   ]
  },
  {
   "cell_type": "code",
   "execution_count": 88,
   "metadata": {},
   "outputs": [
    {
     "name": "stdout",
     "output_type": "stream",
     "text": [
      "*Connected:   NAME=peach, USER=dbc, HOST=peach1\n",
      "Connected:    NAME=teradata-vantage, USER=dbc, HOST=vantage1\n"
     ]
    }
   ],
   "source": [
    "%lsconnect"
   ]
  },
  {
   "cell_type": "markdown",
   "metadata": {},
   "source": [
    "***\n",
    "## History"
   ]
  },
  {
   "cell_type": "markdown",
   "metadata": {},
   "source": [
    "### List the history of commands executed with the %history command"
   ]
  },
  {
   "cell_type": "code",
   "execution_count": 3,
   "metadata": {},
   "outputs": [
    {
     "data": {
      "text/markdown": [
       "#### %history\n",
       "Display a table or the details of previously executed commands.\n",
       "\t\tIf a single history item is specified, the details for that item will be displayed.\n",
       "\n",
       "%history [all [,connection=string_in_connection[, command=string_in_command[,status=success|failed|canceled]]]] |</br>\n",
       "\t\t [id=HistoryID] | </br>\n",
       "\t\t [&lt;Limit&gt;[,&lt;StartID&gt;][,connection=string_in_connection[, command=string_in_command[,status=success|failed|canceled]]]]] |</br>\n",
       "\t\t [start=startId[, limit=limit[,connection=string_in_connection[, command=string_in_command[,status=success|failed|canceled]]]]]]\n",
       "\n",
       "* **all** display all history items.\n",
       "* **&lt;HistoryID&gt;** the id of the history item to display (will display history details rather than a table).\n",
       "* **&lt;Limit&gt;** is the number of history items to display. The default limit is 20.\n",
       "* **&lt;StartID&gt;** is the starting position to list. The default is to display the **&lt;Limit&gt;** most recent items.\n",
       "* **&lt;connection&gt;** is a string in connection to filter history items.\n",
       "* **&lt;command&gt;** is a string in command to filter history items.\n",
       "* **&lt;status&gt;** is status of command to filter history items. Valid values are success, failed and canceled "
      ]
     },
     "execution_count": 3,
     "metadata": {
      "application/vnd.teradata.resultset": "helpdata"
     },
     "output_type": "execute_result"
    }
   ],
   "source": [
    "%help history"
   ]
  },
  {
   "cell_type": "markdown",
   "metadata": {},
   "source": [
    "### By default the most recent 20 items will be displayed"
   ]
  },
  {
   "cell_type": "code",
   "execution_count": 1,
   "metadata": {},
   "outputs": [
    {
     "data": {
      "application/vnd.teradata.resultset": "[{\"Command\":\"select * from Demo.Areas;\",\"Connection Name\":\"peach\",\"Elapsed Time\":\"00:00:00.326\",\"Execute Time / \\u0026lt;ResultsetID\\u0026gt;\":\"\\u003c2019.06.21_17.04.50.147_PDT\\u003e\",\"History ID\":\"54\",\"Row Count\":\"89\",\"Status\":\"Success\"},{\"Command\":\"select * from Demo.Areas;\",\"Connection Name\":\"peach\",\"Elapsed Time\":\"00:00:00.130\",\"Execute Time / \\u0026lt;ResultsetID\\u0026gt;\":\"\\u003c2019.06.21_17.00.05.829_PDT\\u003e\",\"History ID\":\"53\",\"Row Count\":\"89\",\"Status\":\"Success\"},{\"Command\":\"select * from Demo.Areas;\\nselect * from Demo.Areas;\",\"Connection Name\":\"peach\",\"Elapsed Time\":\"00:00:00.238\",\"Execute Time / \\u0026lt;ResultsetID\\u0026gt;\":\"\\u003c2019.06.21_16.53.27.140_PDT\\u003e\",\"History ID\":\"52\",\"Row Count\":\"178\",\"Status\":\"Success\"},{\"Command\":\"select top 25 * from demo.areas;\",\"Connection Name\":\"peach\",\"Elapsed Time\":\"00:00:00.114\",\"Execute Time / \\u0026lt;ResultsetID\\u0026gt;\":\"\\u003c2019.06.20_16.53.07.959_PDT\\u003e\",\"History ID\":\"51\",\"Row Count\":\"25\",\"Status\":\"Success\"},{\"Command\":\"select top 25 * from demo.areas;\",\"Connection Name\":\"peach\",\"Elapsed Time\":\"00:00:00.114\",\"Execute Time / \\u0026lt;ResultsetID\\u0026gt;\":\"\\u003c2019.06.20_16.33.33.057_PDT\\u003e\",\"History ID\":\"50\",\"Row Count\":\"25\",\"Status\":\"Success\"},{\"Command\":\"select * from Demo.Areas\",\"Connection Name\":\"peach\",\"Elapsed Time\":\"00:00:00.120\",\"Execute Time / \\u0026lt;ResultsetID\\u0026gt;\":\"\\u003c2019.06.20_16.10.27.477_PDT\\u003e\",\"History ID\":\"49\",\"Row Count\":\"89\",\"Status\":\"Success\"},{\"Command\":\"select time\",\"Connection Name\":\"peach\",\"Elapsed Time\":\"00:00:00.031\",\"Execute Time / \\u0026lt;ResultsetID\\u0026gt;\":\"\\u003c2019.06.20_16.10.26.900_PDT\\u003e\",\"History ID\":\"48\",\"Row Count\":\"1\",\"Status\":\"Success\"},{\"Command\":\"database user1\",\"Connection Name\":\"peach\",\"Elapsed Time\":\"00:00:00.074\",\"Execute Time / \\u0026lt;ResultsetID\\u0026gt;\":\" 2019-06-20_16:10:26.279_PDT \",\"History ID\":\"47\",\"Row Count\":\"0\",\"Status\":\"Success\"},{\"Command\":\"select * from Demo.Areas\",\"Connection Name\":\"peach\",\"Elapsed Time\":\"00:00:00.325\",\"Execute Time / \\u0026lt;ResultsetID\\u0026gt;\":\"\\u003c2019.06.20_16.05.20.373_PDT\\u003e\",\"History ID\":\"46\",\"Row Count\":\"89\",\"Status\":\"Success\"},{\"Command\":\"select time\",\"Connection Name\":\"peach\",\"Elapsed Time\":\"00:00:00.041\",\"Execute Time / \\u0026lt;ResultsetID\\u0026gt;\":\"\\u003c2019.06.20_16.05.19.582_PDT\\u003e\",\"History ID\":\"45\",\"Row Count\":\"1\",\"Status\":\"Success\"},{\"Command\":\"database user1\",\"Connection Name\":\"peach\",\"Elapsed Time\":\"00:00:00.071\",\"Execute Time / \\u0026lt;ResultsetID\\u0026gt;\":\" 2019-06-20_16:05:19.022_PDT \",\"History ID\":\"44\",\"Row Count\":\"0\",\"Status\":\"Success\"},{\"Command\":\"select * from Demo.Areas\",\"Connection Name\":\"peach\",\"Elapsed Time\":\"00:00:00.143\",\"Execute Time / \\u0026lt;ResultsetID\\u0026gt;\":\"\\u003c2019.06.19_17.51.05.478_PDT\\u003e\",\"History ID\":\"43\",\"Row Count\":\"89\",\"Status\":\"Success\"},{\"Command\":\"select * from Demo.Areas\",\"Connection Name\":\"peach\",\"Elapsed Time\":\"00:00:00.193\",\"Execute Time / \\u0026lt;ResultsetID\\u0026gt;\":\"\\u003c2019.06.19_17.01.03.611_PDT\\u003e\",\"History ID\":\"42\",\"Row Count\":\"89\",\"Status\":\"Success\"},{\"Command\":\"select time\",\"Connection Name\":\"peach\",\"Elapsed Time\":\"00:00:00.040\",\"Execute Time / \\u0026lt;ResultsetID\\u0026gt;\":\"\\u003c2019.06.19_17.00.55.213_PDT\\u003e\",\"History ID\":\"41\",\"Row Count\":\"1\",\"Status\":\"Success\"},{\"Command\":\"database user1\",\"Connection Name\":\"peach\",\"Elapsed Time\":\"00:00:00.078\",\"Execute Time / \\u0026lt;ResultsetID\\u0026gt;\":\" 2019-06-19_17:00:50.606_PDT \",\"History ID\":\"40\",\"Row Count\":\"0\",\"Status\":\"Success\"},{\"Command\":\"select * from Demo.Account f\\n  inner join Demo.Sales s on s.Sales_id = f.Sales_id\\n  where f.sales \\u003e 10 and f.sales \\u003c 500\",\"Connection Name\":\"peach\",\"Elapsed Time\":\"00:00:01.515\",\"Execute Time / \\u0026lt;ResultsetID\\u0026gt;\":\"\\u003c2019.06.12_17.46.01.706_UTC\\u003e\",\"History ID\":\"39\",\"Row Count\":\"28,371\",\"Status\":\"Success\"},{\"Command\":\"select * from Demo.Account\",\"Connection Name\":\"peach\",\"Elapsed Time\":\"00:00:02.103\",\"Execute Time / \\u0026lt;ResultsetID\\u0026gt;\":\"\\u003c2019.06.12_17.44.30.290_UTC\\u003e\",\"History ID\":\"38\",\"Row Count\":\"50,000\",\"Status\":\"Success\"},{\"Command\":\"select * from Demo.Account f\\n  inner join Demo.Sales s on s.Sales_id = f.Sales_id\\n  where f.sales \\u003e 10 and f.sales \\u003c 500\",\"Connection Name\":\"peach\",\"Elapsed Time\":\"00:00:01.631\",\"Execute Time / \\u0026lt;ResultsetID\\u0026gt;\":\"\\u003c2019.06.12_17.17.51.904_UTC\\u003e\",\"History ID\":\"37\",\"Row Count\":\"28,371\",\"Status\":\"Success\"},{\"Command\":\"select * from Demo.Account\",\"Connection Name\":\"peach\",\"Elapsed Time\":\"00:00:03.242\",\"Execute Time / \\u0026lt;ResultsetID\\u0026gt;\":\"\\u003c2019.06.12_17.16.54.145_UTC\\u003e\",\"History ID\":\"36\",\"Row Count\":\"50,000\",\"Status\":\"Success\"},{\"Command\":\"select * from Demo.Areas\",\"Connection Name\":\"peach\",\"Elapsed Time\":\"00:00:00.160\",\"Execute Time / \\u0026lt;ResultsetID\\u0026gt;\":\"\\u003c2019.06.12_17.16.17.218_UTC\\u003e\",\"History ID\":\"35\",\"Row Count\":\"89\",\"Status\":\"Success\"}]",
      "text/html": [
       "<div class = \"td-resultset-table-div\" style = \"max-height: 457px; overflow-y: auto\">\n",
       "  <table class=\"tdresultset\"><style>\n",
       "      .resultset-table { display: block !important; overflow: auto !important; min-height: 457px !important; height: 457px !important; width: 100% !important; }\n",
       "      table.tdhistory { display: block !important; min-height: 457px !important; overflow: auto !important; border: 1px solid rgb(207, 207, 207) !important; border-collapse: collapse !important; ; color: var(--jp-ui-font-color1) !important; }\n",
       "      th.tdhistory { border: 1px solid rgb(198,198,198) !important; border-collapse: collapse !important; ; padding: 2px 5px !important; ; font-size: 13px !important; ; text-align: center !important; white-space: normal !important; color: var(--jp-ui-font-color1) !important; }\n",
       "      th.tdhistory:last-child { text-align: left !important; }\n",
       "      tbody.tdhistory tr:nth-child(even) { background: rgba(243, 243, 243, 0.75) !important; }\n",
       "      tbody.tdhistory tr:nth-child(odd) { background: var(--jp-ui-inverse-font-color1) !important; }\n",
       "      td.tdhistory { border: 1px solid rgb(207, 207, 207) !important; border-collapse: collapse !important; ; padding: 2px 5px !important; ; font-size: 13px !important; ; text-align: left !important;          white-space: nowrap !important; overflow:hidden !important; text-overflow:ellipsis !important;; }\n",
       "    </style><thead><tr style= \"background: #bababa;\"><th class=\"tdhistory\">History ID</th><th class=\"tdhistory\">Execute Time / &lt;ResultsetID&gt;</th><th class=\"tdhistory\">Connection Name</th><th class=\"tdhistory\">Row Count</th><th class=\"tdhistory\">Elapsed Time</th><th class=\"tdhistory\">Status</th><th class=\"tdhistory\">Command</th></tr></thead><tbody class=\"tdhistory resultset-body\"><tr><td class=\"tdhistory\">54</td><td class=\"tdhistory\"><2019.06.21_17.04.50.147_PDT></td><td class=\"tdhistory\">peach</td><td class=\"tdhistory\">89</td><td class=\"tdhistory\">00:00:00.326</td><td class=\"tdhistory\">Success</td><td class=\"tdhistory\">select * from Demo.Areas;</td></tr><tr><td class=\"tdhistory\">53</td><td class=\"tdhistory\"><2019.06.21_17.00.05.829_PDT></td><td class=\"tdhistory\">peach</td><td class=\"tdhistory\">89</td><td class=\"tdhistory\">00:00:00.130</td><td class=\"tdhistory\">Success</td><td class=\"tdhistory\">select * from Demo.Areas;</td></tr><tr><td class=\"tdhistory\">52</td><td class=\"tdhistory\"><2019.06.21_16.53.27.140_PDT></td><td class=\"tdhistory\">peach</td><td class=\"tdhistory\">178</td><td class=\"tdhistory\">00:00:00.238</td><td class=\"tdhistory\">Success</td><td class=\"tdhistory\">select * from Demo.Areas;\n",
       "select * from Demo.Areas;</td></tr><tr><td class=\"tdhistory\">51</td><td class=\"tdhistory\"><2019.06.20_16.53.07.959_PDT></td><td class=\"tdhistory\">peach</td><td class=\"tdhistory\">25</td><td class=\"tdhistory\">00:00:00.114</td><td class=\"tdhistory\">Success</td><td class=\"tdhistory\">select top 25 * from demo.areas;</td></tr><tr><td class=\"tdhistory\">50</td><td class=\"tdhistory\"><2019.06.20_16.33.33.057_PDT></td><td class=\"tdhistory\">peach</td><td class=\"tdhistory\">25</td><td class=\"tdhistory\">00:00:00.114</td><td class=\"tdhistory\">Success</td><td class=\"tdhistory\">select top 25 * from demo.areas;</td></tr><tr><td class=\"tdhistory\">49</td><td class=\"tdhistory\"><2019.06.20_16.10.27.477_PDT></td><td class=\"tdhistory\">peach</td><td class=\"tdhistory\">89</td><td class=\"tdhistory\">00:00:00.120</td><td class=\"tdhistory\">Success</td><td class=\"tdhistory\">select * from Demo.Areas</td></tr><tr><td class=\"tdhistory\">48</td><td class=\"tdhistory\"><2019.06.20_16.10.26.900_PDT></td><td class=\"tdhistory\">peach</td><td class=\"tdhistory\">1</td><td class=\"tdhistory\">00:00:00.031</td><td class=\"tdhistory\">Success</td><td class=\"tdhistory\">select time</td></tr><tr><td class=\"tdhistory\">47</td><td class=\"tdhistory\"> 2019-06-20_16:10:26.279_PDT </td><td class=\"tdhistory\">peach</td><td class=\"tdhistory\">0</td><td class=\"tdhistory\">00:00:00.074</td><td class=\"tdhistory\">Success</td><td class=\"tdhistory\">database user1</td></tr><tr><td class=\"tdhistory\">46</td><td class=\"tdhistory\"><2019.06.20_16.05.20.373_PDT></td><td class=\"tdhistory\">peach</td><td class=\"tdhistory\">89</td><td class=\"tdhistory\">00:00:00.325</td><td class=\"tdhistory\">Success</td><td class=\"tdhistory\">select * from Demo.Areas</td></tr><tr><td class=\"tdhistory\">45</td><td class=\"tdhistory\"><2019.06.20_16.05.19.582_PDT></td><td class=\"tdhistory\">peach</td><td class=\"tdhistory\">1</td><td class=\"tdhistory\">00:00:00.041</td><td class=\"tdhistory\">Success</td><td class=\"tdhistory\">select time</td></tr><tr><td class=\"tdhistory\">44</td><td class=\"tdhistory\"> 2019-06-20_16:05:19.022_PDT </td><td class=\"tdhistory\">peach</td><td class=\"tdhistory\">0</td><td class=\"tdhistory\">00:00:00.071</td><td class=\"tdhistory\">Success</td><td class=\"tdhistory\">database user1</td></tr><tr><td class=\"tdhistory\">43</td><td class=\"tdhistory\"><2019.06.19_17.51.05.478_PDT></td><td class=\"tdhistory\">peach</td><td class=\"tdhistory\">89</td><td class=\"tdhistory\">00:00:00.143</td><td class=\"tdhistory\">Success</td><td class=\"tdhistory\">select * from Demo.Areas</td></tr><tr><td class=\"tdhistory\">42</td><td class=\"tdhistory\"><2019.06.19_17.01.03.611_PDT></td><td class=\"tdhistory\">peach</td><td class=\"tdhistory\">89</td><td class=\"tdhistory\">00:00:00.193</td><td class=\"tdhistory\">Success</td><td class=\"tdhistory\">select * from Demo.Areas</td></tr><tr><td class=\"tdhistory\">41</td><td class=\"tdhistory\"><2019.06.19_17.00.55.213_PDT></td><td class=\"tdhistory\">peach</td><td class=\"tdhistory\">1</td><td class=\"tdhistory\">00:00:00.040</td><td class=\"tdhistory\">Success</td><td class=\"tdhistory\">select time</td></tr><tr><td class=\"tdhistory\">40</td><td class=\"tdhistory\"> 2019-06-19_17:00:50.606_PDT </td><td class=\"tdhistory\">peach</td><td class=\"tdhistory\">0</td><td class=\"tdhistory\">00:00:00.078</td><td class=\"tdhistory\">Success</td><td class=\"tdhistory\">database user1</td></tr><tr><td class=\"tdhistory\">39</td><td class=\"tdhistory\"><2019.06.12_17.46.01.706_UTC></td><td class=\"tdhistory\">peach</td><td class=\"tdhistory\">28,371</td><td class=\"tdhistory\">00:00:01.515</td><td class=\"tdhistory\">Success</td><td class=\"tdhistory\">select * from Demo.Account f\n",
       "  inner join Demo.Sales s on s.Sales_id = f.Sales_id\n",
       "  where f.sales > 10 and f.sales < 500</td></tr><tr><td class=\"tdhistory\">38</td><td class=\"tdhistory\"><2019.06.12_17.44.30.290_UTC></td><td class=\"tdhistory\">peach</td><td class=\"tdhistory\">50,000</td><td class=\"tdhistory\">00:00:02.103</td><td class=\"tdhistory\">Success</td><td class=\"tdhistory\">select * from Demo.Account</td></tr><tr><td class=\"tdhistory\">37</td><td class=\"tdhistory\"><2019.06.12_17.17.51.904_UTC></td><td class=\"tdhistory\">peach</td><td class=\"tdhistory\">28,371</td><td class=\"tdhistory\">00:00:01.631</td><td class=\"tdhistory\">Success</td><td class=\"tdhistory\">select * from Demo.Account f\n",
       "  inner join Demo.Sales s on s.Sales_id = f.Sales_id\n",
       "  where f.sales > 10 and f.sales < 500</td></tr><tr><td class=\"tdhistory\">36</td><td class=\"tdhistory\"><2019.06.12_17.16.54.145_UTC></td><td class=\"tdhistory\">peach</td><td class=\"tdhistory\">50,000</td><td class=\"tdhistory\">00:00:03.242</td><td class=\"tdhistory\">Success</td><td class=\"tdhistory\">select * from Demo.Account</td></tr><tr><td class=\"tdhistory\">35</td><td class=\"tdhistory\"><2019.06.12_17.16.17.218_UTC></td><td class=\"tdhistory\">peach</td><td class=\"tdhistory\">89</td><td class=\"tdhistory\">00:00:00.160</td><td class=\"tdhistory\">Success</td><td class=\"tdhistory\">select * from Demo.Areas</td></tr></tbody></table></div>"
      ]
     },
     "execution_count": 1,
     "metadata": {
      "application/vnd.teradata.resultset": "{\"columnMetadata\":[{\"columnName\":\"History ID\",\"columnNumber\":\"0\",\"columnTypeName\":\"string\",\"length\":\"32\"},{\"columnName\":\"Execute Time / \\u0026lt;ResultsetID\\u0026gt;\",\"columnNumber\":\"1\",\"columnTypeName\":\"string\",\"length\":\"32\"},{\"columnName\":\"Connection Name\",\"columnNumber\":\"2\",\"columnTypeName\":\"string\",\"length\":\"100\"},{\"columnName\":\"Row Count\",\"columnNumber\":\"3\",\"columnTypeName\":\"string\",\"length\":\"10\"},{\"columnName\":\"Elapsed Time\",\"columnNumber\":\"4\",\"columnTypeName\":\"string\",\"length\":\"20\"},{\"columnName\":\"Status\",\"columnNumber\":\"5\",\"columnTypeName\":\"string\",\"length\":\"10\"},{\"columnName\":\"Command\",\"columnNumber\":\"6\",\"columnTypeName\":\"string\",\"length\":\"100000\"}],\"historyRequest\":\"true\",\"totalRowCount\":20}"
     },
     "output_type": "execute_result"
    }
   ],
   "source": [
    "%history"
   ]
  },
  {
   "cell_type": "markdown",
   "metadata": {},
   "source": [
    "- **History ID** column is the sequential id of each history item\n",
    "- **Execute Time/ResultSetID** column is the id of the result set produced by the SQL in this history item<br>\n",
    "  If the SQL produced a result set, the result set id will be enclosed in <><br>\n",
    "  If no result set was produced (error, or SQL that does not return results) the result set id is not enclosed in <> and represents just a timestamp\n",
    "- **Connection Name** column is the name of the connection this SQL was executed on\n",
    "- **Row Count** column is the number of rows returned or loaded\n",
    "- **Elapsed Time** column is the elapsed time for the command\n",
    "- **Status** column is the status: Success, Fail, Canceled\n",
    "- **Command** column is the magic command or SQL that was executed"
   ]
  },
  {
   "cell_type": "markdown",
   "metadata": {},
   "source": [
    "#### History table right-click context menu\n",
    "<ul>\n",
    "    <li>Provides <b>Copy Cells to Clipboard</b> option (or CTRL+C) of selected cell data</li>\n",
    "    <ul><li>Copies selected cell(s) data to clipboard, as tab separated fields</li></ul>\n",
    "    <li>Provides <b>Show Cell as Text </b>option (or Double click) </li>\n",
    "    <ul><li>Opens popup dialog with text displayed, including newlines, with its own Copy to Clipboard button.</li></ul>\n",
    "</ul>"
   ]
  },
  {
   "cell_type": "markdown",
   "metadata": {},
   "source": [
    "#### The **Limit** can be specified to change the number of items displayed."
   ]
  },
  {
   "cell_type": "code",
   "execution_count": 2,
   "metadata": {},
   "outputs": [
    {
     "data": {
      "application/vnd.teradata.resultset": "[{\"Command\":\"select * from Demo.Areas;\",\"Connection Name\":\"peach\",\"Elapsed Time\":\"00:00:00.326\",\"Execute Time / \\u0026lt;ResultsetID\\u0026gt;\":\"\\u003c2019.06.21_17.04.50.147_PDT\\u003e\",\"History ID\":\"54\",\"Row Count\":\"89\",\"Status\":\"Success\"},{\"Command\":\"select * from Demo.Areas;\",\"Connection Name\":\"peach\",\"Elapsed Time\":\"00:00:00.130\",\"Execute Time / \\u0026lt;ResultsetID\\u0026gt;\":\"\\u003c2019.06.21_17.00.05.829_PDT\\u003e\",\"History ID\":\"53\",\"Row Count\":\"89\",\"Status\":\"Success\"},{\"Command\":\"select * from Demo.Areas;\\nselect * from Demo.Areas;\",\"Connection Name\":\"peach\",\"Elapsed Time\":\"00:00:00.238\",\"Execute Time / \\u0026lt;ResultsetID\\u0026gt;\":\"\\u003c2019.06.21_16.53.27.140_PDT\\u003e\",\"History ID\":\"52\",\"Row Count\":\"178\",\"Status\":\"Success\"},{\"Command\":\"select top 25 * from demo.areas;\",\"Connection Name\":\"peach\",\"Elapsed Time\":\"00:00:00.114\",\"Execute Time / \\u0026lt;ResultsetID\\u0026gt;\":\"\\u003c2019.06.20_16.53.07.959_PDT\\u003e\",\"History ID\":\"51\",\"Row Count\":\"25\",\"Status\":\"Success\"},{\"Command\":\"select top 25 * from demo.areas;\",\"Connection Name\":\"peach\",\"Elapsed Time\":\"00:00:00.114\",\"Execute Time / \\u0026lt;ResultsetID\\u0026gt;\":\"\\u003c2019.06.20_16.33.33.057_PDT\\u003e\",\"History ID\":\"50\",\"Row Count\":\"25\",\"Status\":\"Success\"}]",
      "text/html": [
       "<div class = \"td-resultset-table-div\" style = \"max-height: 157px; overflow-y: auto\">\n",
       "  <table class=\"tdresultset\"><style>\n",
       "      .resultset-table { display: block !important; overflow: auto !important; min-height: 157px !important; height: 157px !important; width: 100% !important; }\n",
       "      table.tdhistory { display: block !important; min-height: 157px !important; overflow: auto !important; border: 1px solid rgb(207, 207, 207) !important; border-collapse: collapse !important; ; color: var(--jp-ui-font-color1) !important; }\n",
       "      th.tdhistory { border: 1px solid rgb(198,198,198) !important; border-collapse: collapse !important; ; padding: 2px 5px !important; ; font-size: 13px !important; ; text-align: center !important; white-space: normal !important; color: var(--jp-ui-font-color1) !important; }\n",
       "      th.tdhistory:last-child { text-align: left !important; }\n",
       "      tbody.tdhistory tr:nth-child(even) { background: rgba(243, 243, 243, 0.75) !important; }\n",
       "      tbody.tdhistory tr:nth-child(odd) { background: var(--jp-ui-inverse-font-color1) !important; }\n",
       "      td.tdhistory { border: 1px solid rgb(207, 207, 207) !important; border-collapse: collapse !important; ; padding: 2px 5px !important; ; font-size: 13px !important; ; text-align: left !important;          white-space: nowrap !important; overflow:hidden !important; text-overflow:ellipsis !important;; }\n",
       "    </style><thead><tr style= \"background: #bababa;\"><th class=\"tdhistory\">History ID</th><th class=\"tdhistory\">Execute Time / &lt;ResultsetID&gt;</th><th class=\"tdhistory\">Connection Name</th><th class=\"tdhistory\">Row Count</th><th class=\"tdhistory\">Elapsed Time</th><th class=\"tdhistory\">Status</th><th class=\"tdhistory\">Command</th></tr></thead><tbody class=\"tdhistory resultset-body\"><tr><td class=\"tdhistory\">54</td><td class=\"tdhistory\"><2019.06.21_17.04.50.147_PDT></td><td class=\"tdhistory\">peach</td><td class=\"tdhistory\">89</td><td class=\"tdhistory\">00:00:00.326</td><td class=\"tdhistory\">Success</td><td class=\"tdhistory\">select * from Demo.Areas;</td></tr><tr><td class=\"tdhistory\">53</td><td class=\"tdhistory\"><2019.06.21_17.00.05.829_PDT></td><td class=\"tdhistory\">peach</td><td class=\"tdhistory\">89</td><td class=\"tdhistory\">00:00:00.130</td><td class=\"tdhistory\">Success</td><td class=\"tdhistory\">select * from Demo.Areas;</td></tr><tr><td class=\"tdhistory\">52</td><td class=\"tdhistory\"><2019.06.21_16.53.27.140_PDT></td><td class=\"tdhistory\">peach</td><td class=\"tdhistory\">178</td><td class=\"tdhistory\">00:00:00.238</td><td class=\"tdhistory\">Success</td><td class=\"tdhistory\">select * from Demo.Areas;\n",
       "select * from Demo.Areas;</td></tr><tr><td class=\"tdhistory\">51</td><td class=\"tdhistory\"><2019.06.20_16.53.07.959_PDT></td><td class=\"tdhistory\">peach</td><td class=\"tdhistory\">25</td><td class=\"tdhistory\">00:00:00.114</td><td class=\"tdhistory\">Success</td><td class=\"tdhistory\">select top 25 * from demo.areas;</td></tr><tr><td class=\"tdhistory\">50</td><td class=\"tdhistory\"><2019.06.20_16.33.33.057_PDT></td><td class=\"tdhistory\">peach</td><td class=\"tdhistory\">25</td><td class=\"tdhistory\">00:00:00.114</td><td class=\"tdhistory\">Success</td><td class=\"tdhistory\">select top 25 * from demo.areas;</td></tr></tbody></table></div>"
      ]
     },
     "execution_count": 2,
     "metadata": {
      "application/vnd.teradata.resultset": "{\"columnMetadata\":[{\"columnName\":\"History ID\",\"columnNumber\":\"0\",\"columnTypeName\":\"string\",\"length\":\"32\"},{\"columnName\":\"Execute Time / \\u0026lt;ResultsetID\\u0026gt;\",\"columnNumber\":\"1\",\"columnTypeName\":\"string\",\"length\":\"32\"},{\"columnName\":\"Connection Name\",\"columnNumber\":\"2\",\"columnTypeName\":\"string\",\"length\":\"100\"},{\"columnName\":\"Row Count\",\"columnNumber\":\"3\",\"columnTypeName\":\"string\",\"length\":\"10\"},{\"columnName\":\"Elapsed Time\",\"columnNumber\":\"4\",\"columnTypeName\":\"string\",\"length\":\"20\"},{\"columnName\":\"Status\",\"columnNumber\":\"5\",\"columnTypeName\":\"string\",\"length\":\"10\"},{\"columnName\":\"Command\",\"columnNumber\":\"6\",\"columnTypeName\":\"string\",\"length\":\"100000\"}],\"historyRequest\":\"true\",\"totalRowCount\":5}"
     },
     "output_type": "execute_result"
    }
   ],
   "source": [
    "%history 5"
   ]
  },
  {
   "cell_type": "markdown",
   "metadata": {},
   "source": [
    "#### The **StartID** can be specified to change the history id to display from."
   ]
  },
  {
   "cell_type": "code",
   "execution_count": 6,
   "metadata": {},
   "outputs": [
    {
     "data": {
      "application/vnd.teradata.resultset": "[{\"Command\":\"select time\",\"Connection Name\":\"peach\",\"Elapsed Time\":\"00:00:00.040\",\"Execute Time / \\u0026lt;ResultsetID\\u0026gt;\":\"\\u003c2019.06.19_17.00.55.213_PDT\\u003e\",\"History ID\":\"41\",\"Row Count\":\"1\",\"Status\":\"Success\"},{\"Command\":\"database user1\",\"Connection Name\":\"peach\",\"Elapsed Time\":\"00:00:00.078\",\"Execute Time / \\u0026lt;ResultsetID\\u0026gt;\":\" 2019-06-19_17:00:50.606_PDT \",\"History ID\":\"40\",\"Row Count\":\"0\",\"Status\":\"Success\"},{\"Command\":\"select * from Demo.Account f\\n  inner join Demo.Sales s on s.Sales_id = f.Sales_id\\n  where f.sales \\u003e 10 and f.sales \\u003c 500\",\"Connection Name\":\"peach\",\"Elapsed Time\":\"00:00:01.515\",\"Execute Time / \\u0026lt;ResultsetID\\u0026gt;\":\"\\u003c2019.06.12_17.46.01.706_UTC\\u003e\",\"History ID\":\"39\",\"Row Count\":\"28,371\",\"Status\":\"Success\"},{\"Command\":\"select * from Demo.Account\",\"Connection Name\":\"peach\",\"Elapsed Time\":\"00:00:02.103\",\"Execute Time / \\u0026lt;ResultsetID\\u0026gt;\":\"\\u003c2019.06.12_17.44.30.290_UTC\\u003e\",\"History ID\":\"38\",\"Row Count\":\"50,000\",\"Status\":\"Success\"},{\"Command\":\"select * from Demo.Account f\\n  inner join Demo.Sales s on s.Sales_id = f.Sales_id\\n  where f.sales \\u003e 10 and f.sales \\u003c 500\",\"Connection Name\":\"peach\",\"Elapsed Time\":\"00:00:01.631\",\"Execute Time / \\u0026lt;ResultsetID\\u0026gt;\":\"\\u003c2019.06.12_17.17.51.904_UTC\\u003e\",\"History ID\":\"37\",\"Row Count\":\"28,371\",\"Status\":\"Success\"},{\"Command\":\"select * from Demo.Account\",\"Connection Name\":\"peach\",\"Elapsed Time\":\"00:00:03.242\",\"Execute Time / \\u0026lt;ResultsetID\\u0026gt;\":\"\\u003c2019.06.12_17.16.54.145_UTC\\u003e\",\"History ID\":\"36\",\"Row Count\":\"50,000\",\"Status\":\"Success\"},{\"Command\":\"select * from Demo.Areas\",\"Connection Name\":\"peach\",\"Elapsed Time\":\"00:00:00.160\",\"Execute Time / \\u0026lt;ResultsetID\\u0026gt;\":\"\\u003c2019.06.12_17.16.17.218_UTC\\u003e\",\"History ID\":\"35\",\"Row Count\":\"89\",\"Status\":\"Success\"}]",
      "text/html": [
       "<div class = \"td-resultset-table-div\" style = \"max-height: 197px; overflow-y: auto\">\n",
       "  <table class=\"tdresultset\"><style>\n",
       "      .resultset-table { display: block !important; overflow: auto !important; min-height: 197px !important; height: 197px !important; width: 100% !important; }\n",
       "      table.tdhistory { display: block !important; min-height: 197px !important; overflow: auto !important; border: 1px solid rgb(207, 207, 207) !important; border-collapse: collapse !important; ; color: var(--jp-ui-font-color1) !important; }\n",
       "      th.tdhistory { border: 1px solid rgb(198,198,198) !important; border-collapse: collapse !important; ; padding: 2px 5px !important; ; font-size: 13px !important; ; text-align: center !important; white-space: normal !important; color: var(--jp-ui-font-color1) !important; }\n",
       "      th.tdhistory:last-child { text-align: left !important; }\n",
       "      tbody.tdhistory tr:nth-child(even) { background: rgba(243, 243, 243, 0.75) !important; }\n",
       "      tbody.tdhistory tr:nth-child(odd) { background: var(--jp-ui-inverse-font-color1) !important; }\n",
       "      td.tdhistory { border: 1px solid rgb(207, 207, 207) !important; border-collapse: collapse !important; ; padding: 2px 5px !important; ; font-size: 13px !important; ; text-align: left !important;          white-space: nowrap !important; overflow:hidden !important; text-overflow:ellipsis !important;; }\n",
       "    </style><thead><tr style= \"background: #bababa;\"><th class=\"tdhistory\">History ID</th><th class=\"tdhistory\">Execute Time / &lt;ResultsetID&gt;</th><th class=\"tdhistory\">Connection Name</th><th class=\"tdhistory\">Row Count</th><th class=\"tdhistory\">Elapsed Time</th><th class=\"tdhistory\">Status</th><th class=\"tdhistory\">Command</th></tr></thead><tbody class=\"tdhistory resultset-body\"><tr><td class=\"tdhistory\">41</td><td class=\"tdhistory\"><2019.06.19_17.00.55.213_PDT></td><td class=\"tdhistory\">peach</td><td class=\"tdhistory\">1</td><td class=\"tdhistory\">00:00:00.040</td><td class=\"tdhistory\">Success</td><td class=\"tdhistory\">select time</td></tr><tr><td class=\"tdhistory\">40</td><td class=\"tdhistory\"> 2019-06-19_17:00:50.606_PDT </td><td class=\"tdhistory\">peach</td><td class=\"tdhistory\">0</td><td class=\"tdhistory\">00:00:00.078</td><td class=\"tdhistory\">Success</td><td class=\"tdhistory\">database user1</td></tr><tr><td class=\"tdhistory\">39</td><td class=\"tdhistory\"><2019.06.12_17.46.01.706_UTC></td><td class=\"tdhistory\">peach</td><td class=\"tdhistory\">28,371</td><td class=\"tdhistory\">00:00:01.515</td><td class=\"tdhistory\">Success</td><td class=\"tdhistory\">select * from Demo.Account f\n",
       "  inner join Demo.Sales s on s.Sales_id = f.Sales_id\n",
       "  where f.sales > 10 and f.sales < 500</td></tr><tr><td class=\"tdhistory\">38</td><td class=\"tdhistory\"><2019.06.12_17.44.30.290_UTC></td><td class=\"tdhistory\">peach</td><td class=\"tdhistory\">50,000</td><td class=\"tdhistory\">00:00:02.103</td><td class=\"tdhistory\">Success</td><td class=\"tdhistory\">select * from Demo.Account</td></tr><tr><td class=\"tdhistory\">37</td><td class=\"tdhistory\"><2019.06.12_17.17.51.904_UTC></td><td class=\"tdhistory\">peach</td><td class=\"tdhistory\">28,371</td><td class=\"tdhistory\">00:00:01.631</td><td class=\"tdhistory\">Success</td><td class=\"tdhistory\">select * from Demo.Account f\n",
       "  inner join Demo.Sales s on s.Sales_id = f.Sales_id\n",
       "  where f.sales > 10 and f.sales < 500</td></tr><tr><td class=\"tdhistory\">36</td><td class=\"tdhistory\"><2019.06.12_17.16.54.145_UTC></td><td class=\"tdhistory\">peach</td><td class=\"tdhistory\">50,000</td><td class=\"tdhistory\">00:00:03.242</td><td class=\"tdhistory\">Success</td><td class=\"tdhistory\">select * from Demo.Account</td></tr><tr><td class=\"tdhistory\">35</td><td class=\"tdhistory\"><2019.06.12_17.16.17.218_UTC></td><td class=\"tdhistory\">peach</td><td class=\"tdhistory\">89</td><td class=\"tdhistory\">00:00:00.160</td><td class=\"tdhistory\">Success</td><td class=\"tdhistory\">select * from Demo.Areas</td></tr></tbody></table></div>"
      ]
     },
     "execution_count": 6,
     "metadata": {
      "application/vnd.teradata.resultset": "{\"columnMetadata\":[{\"columnName\":\"History ID\",\"columnNumber\":\"0\",\"columnTypeName\":\"string\",\"length\":\"32\"},{\"columnName\":\"Execute Time / \\u0026lt;ResultsetID\\u0026gt;\",\"columnNumber\":\"1\",\"columnTypeName\":\"string\",\"length\":\"32\"},{\"columnName\":\"Connection Name\",\"columnNumber\":\"2\",\"columnTypeName\":\"string\",\"length\":\"100\"},{\"columnName\":\"Row Count\",\"columnNumber\":\"3\",\"columnTypeName\":\"string\",\"length\":\"10\"},{\"columnName\":\"Elapsed Time\",\"columnNumber\":\"4\",\"columnTypeName\":\"string\",\"length\":\"20\"},{\"columnName\":\"Status\",\"columnNumber\":\"5\",\"columnTypeName\":\"string\",\"length\":\"10\"},{\"columnName\":\"Command\",\"columnNumber\":\"6\",\"columnTypeName\":\"string\",\"length\":\"100000\"}],\"historyRequest\":\"true\",\"totalRowCount\":7}"
     },
     "output_type": "execute_result"
    }
   ],
   "source": [
    "%history 7,35"
   ]
  },
  {
   "cell_type": "markdown",
   "metadata": {},
   "source": [
    "#### Detailed History Item"
   ]
  },
  {
   "cell_type": "code",
   "execution_count": 15,
   "metadata": {},
   "outputs": [
    {
     "name": "stdout",
     "output_type": "stream",
     "text": [
      "History ID:       75\n",
      "Result Set Path:  /Users/guest/jupyterlabworkspaces/jlab22-workspace/Teradata/Resultsets/2020.08.10_15.36.22.814_PDT\n",
      "Start Time:       2020-08-10_15:36:22.739_PDT\n",
      "Connection Name:  peach\n",
      "Row Count:        3\n",
      "Elapsed Time:     00:00:00.083\n",
      "Database Time:    00:00:00.070\n",
      "Fetch Time:       00:00:00.005\n",
      "\n",
      "Result:\n",
      "Success: Executed as a single statement\n",
      "3 rows / 0 updates: Elapsed time 00:00:00.083\n",
      "\n",
      "Command:\n",
      "select * from dbc.dbcinfo\n"
     ]
    }
   ],
   "source": [
    "%history id=75"
   ]
  },
  {
   "cell_type": "markdown",
   "metadata": {},
   "source": [
    "#### Display all history items"
   ]
  },
  {
   "cell_type": "code",
   "execution_count": null,
   "metadata": {},
   "outputs": [],
   "source": [
    "%history all"
   ]
  },
  {
   "cell_type": "markdown",
   "metadata": {},
   "source": [
    "#### Filter history items by status, connection, command - can be combined"
   ]
  },
  {
   "cell_type": "code",
   "execution_count": null,
   "metadata": {},
   "outputs": [],
   "source": [
    "%history status=succes,command=select"
   ]
  },
  {
   "cell_type": "markdown",
   "metadata": {},
   "source": [
    "### Remove History Item"
   ]
  },
  {
   "cell_type": "code",
   "execution_count": 45,
   "metadata": {},
   "outputs": [
    {
     "data": {
      "text/markdown": [
       "#### %rmhistory\n",
       "Remove one or more history items\n",
       "\n",
       "%rmhistory \\<HistoryID\\> | [\\<StartID\\>-\\<EndID\\>]]\n",
       "\n",
       "Remove a single history item **\\<HistoryID\\>** or a range history items **\\<StartID\\>-\\<EndID\\>**\n",
       "\n",
       "* **\\<HistoryID\\>** is the single history item to remove\n",
       "* **\\<StartID\\>** is the low end (inclusive) of the range of history items to remove\n",
       "* **\\<EndID\\>** is the high end (inclusive) of the range of history items to remove\n",
       "* The **%rmhistory** command will prompt for verification before removing history items"
      ]
     },
     "execution_count": 45,
     "metadata": {
      "application/vnd.teradata.resultset": "helpdata"
     },
     "output_type": "execute_result"
    }
   ],
   "source": [
    "%help rmhistory"
   ]
  },
  {
   "cell_type": "code",
   "execution_count": 7,
   "metadata": {},
   "outputs": [
    {
     "name": "stdin",
     "output_type": "stream",
     "text": [
      "Are you sure you want to remove history item with id 40? yes/no yes\n"
     ]
    },
    {
     "name": "stdout",
     "output_type": "stream",
     "text": [
      "Successfully removed 1 history item\n"
     ]
    }
   ],
   "source": [
    "%rmhistory 40"
   ]
  },
  {
   "cell_type": "markdown",
   "metadata": {},
   "source": [
    "#### Rerun the history command and notice that History ID 40 was removed"
   ]
  },
  {
   "cell_type": "code",
   "execution_count": 8,
   "metadata": {},
   "outputs": [
    {
     "data": {
      "application/vnd.teradata.resultset": "[{\"Command\":\"select * from Demo.Areas\",\"Connection Name\":\"peach\",\"Elapsed Time\":\"00:00:00.193\",\"Execute Time / \\u0026lt;ResultsetID\\u0026gt;\":\"\\u003c2019.06.19_17.01.03.611_PDT\\u003e\",\"History ID\":\"42\",\"Row Count\":\"89\",\"Status\":\"Success\"},{\"Command\":\"select time\",\"Connection Name\":\"peach\",\"Elapsed Time\":\"00:00:00.040\",\"Execute Time / \\u0026lt;ResultsetID\\u0026gt;\":\"\\u003c2019.06.19_17.00.55.213_PDT\\u003e\",\"History ID\":\"41\",\"Row Count\":\"1\",\"Status\":\"Success\"},{\"Command\":\"select * from Demo.Account f\\n  inner join Demo.Sales s on s.Sales_id = f.Sales_id\\n  where f.sales \\u003e 10 and f.sales \\u003c 500\",\"Connection Name\":\"peach\",\"Elapsed Time\":\"00:00:01.515\",\"Execute Time / \\u0026lt;ResultsetID\\u0026gt;\":\"\\u003c2019.06.12_17.46.01.706_UTC\\u003e\",\"History ID\":\"39\",\"Row Count\":\"28,371\",\"Status\":\"Success\"},{\"Command\":\"select * from Demo.Account\",\"Connection Name\":\"peach\",\"Elapsed Time\":\"00:00:02.103\",\"Execute Time / \\u0026lt;ResultsetID\\u0026gt;\":\"\\u003c2019.06.12_17.44.30.290_UTC\\u003e\",\"History ID\":\"38\",\"Row Count\":\"50,000\",\"Status\":\"Success\"},{\"Command\":\"select * from Demo.Account f\\n  inner join Demo.Sales s on s.Sales_id = f.Sales_id\\n  where f.sales \\u003e 10 and f.sales \\u003c 500\",\"Connection Name\":\"peach\",\"Elapsed Time\":\"00:00:01.631\",\"Execute Time / \\u0026lt;ResultsetID\\u0026gt;\":\"\\u003c2019.06.12_17.17.51.904_UTC\\u003e\",\"History ID\":\"37\",\"Row Count\":\"28,371\",\"Status\":\"Success\"},{\"Command\":\"select * from Demo.Account\",\"Connection Name\":\"peach\",\"Elapsed Time\":\"00:00:03.242\",\"Execute Time / \\u0026lt;ResultsetID\\u0026gt;\":\"\\u003c2019.06.12_17.16.54.145_UTC\\u003e\",\"History ID\":\"36\",\"Row Count\":\"50,000\",\"Status\":\"Success\"},{\"Command\":\"select * from Demo.Areas\",\"Connection Name\":\"peach\",\"Elapsed Time\":\"00:00:00.160\",\"Execute Time / \\u0026lt;ResultsetID\\u0026gt;\":\"\\u003c2019.06.12_17.16.17.218_UTC\\u003e\",\"History ID\":\"35\",\"Row Count\":\"89\",\"Status\":\"Success\"}]",
      "text/html": [
       "<div class = \"td-resultset-table-div\" style = \"max-height: 197px; overflow-y: auto\">\n",
       "  <table class=\"tdresultset\"><style>\n",
       "      .resultset-table { display: block !important; overflow: auto !important; min-height: 197px !important; height: 197px !important; width: 100% !important; }\n",
       "      table.tdhistory { display: block !important; min-height: 197px !important; overflow: auto !important; border: 1px solid rgb(207, 207, 207) !important; border-collapse: collapse !important; ; color: var(--jp-ui-font-color1) !important; }\n",
       "      th.tdhistory { border: 1px solid rgb(198,198,198) !important; border-collapse: collapse !important; ; padding: 2px 5px !important; ; font-size: 13px !important; ; text-align: center !important; white-space: normal !important; color: var(--jp-ui-font-color1) !important; }\n",
       "      th.tdhistory:last-child { text-align: left !important; }\n",
       "      tbody.tdhistory tr:nth-child(even) { background: rgba(243, 243, 243, 0.75) !important; }\n",
       "      tbody.tdhistory tr:nth-child(odd) { background: var(--jp-ui-inverse-font-color1) !important; }\n",
       "      td.tdhistory { border: 1px solid rgb(207, 207, 207) !important; border-collapse: collapse !important; ; padding: 2px 5px !important; ; font-size: 13px !important; ; text-align: left !important;          white-space: nowrap !important; overflow:hidden !important; text-overflow:ellipsis !important;; }\n",
       "    </style><thead><tr style= \"background: #bababa;\"><th class=\"tdhistory\">History ID</th><th class=\"tdhistory\">Execute Time / &lt;ResultsetID&gt;</th><th class=\"tdhistory\">Connection Name</th><th class=\"tdhistory\">Row Count</th><th class=\"tdhistory\">Elapsed Time</th><th class=\"tdhistory\">Status</th><th class=\"tdhistory\">Command</th></tr></thead><tbody class=\"tdhistory resultset-body\"><tr><td class=\"tdhistory\">42</td><td class=\"tdhistory\"><2019.06.19_17.01.03.611_PDT></td><td class=\"tdhistory\">peach</td><td class=\"tdhistory\">89</td><td class=\"tdhistory\">00:00:00.193</td><td class=\"tdhistory\">Success</td><td class=\"tdhistory\">select * from Demo.Areas</td></tr><tr><td class=\"tdhistory\">41</td><td class=\"tdhistory\"><2019.06.19_17.00.55.213_PDT></td><td class=\"tdhistory\">peach</td><td class=\"tdhistory\">1</td><td class=\"tdhistory\">00:00:00.040</td><td class=\"tdhistory\">Success</td><td class=\"tdhistory\">select time</td></tr><tr><td class=\"tdhistory\">39</td><td class=\"tdhistory\"><2019.06.12_17.46.01.706_UTC></td><td class=\"tdhistory\">peach</td><td class=\"tdhistory\">28,371</td><td class=\"tdhistory\">00:00:01.515</td><td class=\"tdhistory\">Success</td><td class=\"tdhistory\">select * from Demo.Account f\n",
       "  inner join Demo.Sales s on s.Sales_id = f.Sales_id\n",
       "  where f.sales > 10 and f.sales < 500</td></tr><tr><td class=\"tdhistory\">38</td><td class=\"tdhistory\"><2019.06.12_17.44.30.290_UTC></td><td class=\"tdhistory\">peach</td><td class=\"tdhistory\">50,000</td><td class=\"tdhistory\">00:00:02.103</td><td class=\"tdhistory\">Success</td><td class=\"tdhistory\">select * from Demo.Account</td></tr><tr><td class=\"tdhistory\">37</td><td class=\"tdhistory\"><2019.06.12_17.17.51.904_UTC></td><td class=\"tdhistory\">peach</td><td class=\"tdhistory\">28,371</td><td class=\"tdhistory\">00:00:01.631</td><td class=\"tdhistory\">Success</td><td class=\"tdhistory\">select * from Demo.Account f\n",
       "  inner join Demo.Sales s on s.Sales_id = f.Sales_id\n",
       "  where f.sales > 10 and f.sales < 500</td></tr><tr><td class=\"tdhistory\">36</td><td class=\"tdhistory\"><2019.06.12_17.16.54.145_UTC></td><td class=\"tdhistory\">peach</td><td class=\"tdhistory\">50,000</td><td class=\"tdhistory\">00:00:03.242</td><td class=\"tdhistory\">Success</td><td class=\"tdhistory\">select * from Demo.Account</td></tr><tr><td class=\"tdhistory\">35</td><td class=\"tdhistory\"><2019.06.12_17.16.17.218_UTC></td><td class=\"tdhistory\">peach</td><td class=\"tdhistory\">89</td><td class=\"tdhistory\">00:00:00.160</td><td class=\"tdhistory\">Success</td><td class=\"tdhistory\">select * from Demo.Areas</td></tr></tbody></table></div>"
      ]
     },
     "execution_count": 8,
     "metadata": {
      "application/vnd.teradata.resultset": "{\"columnMetadata\":[{\"columnName\":\"History ID\",\"columnNumber\":\"0\",\"columnTypeName\":\"string\",\"length\":\"32\"},{\"columnName\":\"Execute Time / \\u0026lt;ResultsetID\\u0026gt;\",\"columnNumber\":\"1\",\"columnTypeName\":\"string\",\"length\":\"32\"},{\"columnName\":\"Connection Name\",\"columnNumber\":\"2\",\"columnTypeName\":\"string\",\"length\":\"100\"},{\"columnName\":\"Row Count\",\"columnNumber\":\"3\",\"columnTypeName\":\"string\",\"length\":\"10\"},{\"columnName\":\"Elapsed Time\",\"columnNumber\":\"4\",\"columnTypeName\":\"string\",\"length\":\"20\"},{\"columnName\":\"Status\",\"columnNumber\":\"5\",\"columnTypeName\":\"string\",\"length\":\"10\"},{\"columnName\":\"Command\",\"columnNumber\":\"6\",\"columnTypeName\":\"string\",\"length\":\"100000\"}],\"historyRequest\":\"true\",\"totalRowCount\":7}"
     },
     "output_type": "execute_result"
    }
   ],
   "source": [
    "%history 7,35"
   ]
  },
  {
   "cell_type": "markdown",
   "metadata": {},
   "source": [
    "***\n",
    "## Visualization"
   ]
  },
  {
   "cell_type": "markdown",
   "metadata": {},
   "source": [
    "### The %chart command is used to produce a graphical visualization of SQL query result sets\n",
    "#### The %chart command produces and displays a __[Vega-lite](https://vega.github.io/vega-lite/)__ specification using the specified parameters and a result set as input"
   ]
  },
  {
   "cell_type": "code",
   "execution_count": 3,
   "metadata": {},
   "outputs": [
    {
     "data": {
      "text/markdown": [
       "#### %chart\n",
       "Display a Vega-Lite visualization of a query result set or an existing Vega or VegaLite chart.\n",
       "\n",
       "%chart x=&lt;XColumnName&gt;, y=&lt;YColumnName&gt;,</br>\n",
       "[title=&lt;ChartTitle&gt;,] [id=&lt;ResultSetID&gt;|&lt;HistoryID&gt;,] [part=&lt;PartNum&gt;]</br>\n",
       "[labelx=&lt;XLabel&gt;,] [labely=&lt;YLabel&gt;,]</br>\n",
       "[gridx=&lt;ttrue|false&gt;,] [gridy=&lt;true|false&gt;,]</br>\n",
       "[typex=&lt;q|n|o|t&gt;,] [typey=&lt;q|n|o|t&gt;,]</br>\n",
       "[aggregatex=&lt;count|sum|mean|median|min|max|stdev&gt;,] [aggregatey=&lt;count|sum|mean|median|min|max|stdev&gt;,]</br>\n",
       "[binx=&lt;true|false&gt;,] [biny=&lt;true|false&gt;,]</br>\n",
       "[sortx=&lt;ascending|descending&gt;,] [sorty=&lt;ascending|descending&gt;,]</br>\n",
       "[timeunitx=&lt;year|quarter|month|day|week|dayofyear|hours&gt;,] [timeunity=&lt;year|quarter|month|day|week|dayofyear|hours&gt;,]</br>\n",
       "[mark=&lt;arc|area|bar|circle|line|point|rect|rule|square|text|tick&gt;,]</br>\n",
       "[color=&lt;CSSColorSpec&gt;,] [height=&lt;ChartHeight&gt;,] [width=&lt;ChartWidth&gt;]</br>\n",
       "[groupingcol=&lt;ColumnNameOfGroupingField&gt;,] [typegroupingcol=&lt;q|n|o|t&gt;,]</br>\n",
       "[sample=&lt;SizeOfRandomSample&gt;,]</br>\n",
       "[spec=&lt;ChartSpec&gt;, [data=&lt;ChartData&gt;]]\n",
       "\n",
       "* **groupingcol** is the name of the column used for grouping for multi series chart or stacked chart.\n",
       "* **typex** and **typey** and **typegroupingcol** values: q=quantitative n=nominal o=ordinal t=temporal\n",
       "  * (defaults based on column type: numeric types -> quantitative, time times -> temporal, other types -> nominal)\n",
       "* **&lt;ResultSetID&gt;** is the timestamp/directory name of the result set.\n",
       "* **&lt;HistoryID&gt;** is the id of the history item (see **%history** command).\n",
       "* If the **id** is not specified, the most recently accessed result set is displayed.\n",
       "* **aggregatex** and **aggregatey** values: count, sum, mean, variance, stdev, median, min, max. For a full list, see vega.github.io/vega-lite/docs/aggregate.html#ops\n",
       "* **binx** and **biny** set to \"true\" to discretize numeric values into a set of bins.\n",
       "* **timeunitx** and **timeunity** discretize times. for a full list of supported values, see vega.github.io/vega-lite/docs/timeunit.html\n",
       "* **sample** filters data to a random sample of specified size.\n",
       "* The **spec** parameter is used to display an existing chart spec.\n",
       "* If **spec** is used, only **data**, **id**, and **part** parameters are supported."
      ]
     },
     "execution_count": 3,
     "metadata": {
      "application/vnd.teradata.resultset": "helpdata"
     },
     "output_type": "execute_result"
    }
   ],
   "source": [
    "%help chart"
   ]
  },
  {
   "cell_type": "markdown",
   "metadata": {},
   "source": [
    "- <b>x</b> and **y** - represent the x and y axes of the graph. These values must be specified.\n",
    "- **title** - the title displayed above the chart (optional)\n",
    "- **id** - the history id or result set id to use as input (most recently accessed if not specified)\n",
    "- **labelx** - the label of the x axis (default is the x column name)\n",
    "- **labely** - the label of the y axis (default is the y column name)\n",
    "- **gridx** - whether to show grid lines for the x axis (default is true)\n",
    "- **gridy** - whether to show grid lines for the y axis (default is true)\n",
    "- **mark** - the type of chart to show (bar, line, area, point, rect, square, text, tick) (default is bar)\n",
    "- **typex** and **typey** - the data type of the x and y axes __[(see the vega-lite specification)](https://vega.github.io/vega-lite/docs/type.html)__\n",
    "    - q=quantitative - represents quatity values - generally numeric values\n",
    "    - n=nominal - categorical data values based only on their names or categories. E.g., gender, nationality, music genre.\n",
    "    - o=ordinal - represents ranked order (1st, 2nd, …) by which the data can be sorted. There is no notion of relative degree of difference between values\n",
    "    - t=temporal - time and date/time values\n",
    "    - default types are assigned based on the column data types\n",
    "        - numeric types -> quantitative\n",
    "        - time times -> temporal\n",
    "        - other types -> nominal\n"
   ]
  },
  {
   "cell_type": "markdown",
   "metadata": {},
   "source": [
    "### Execute a query, this is just an example"
   ]
  },
  {
   "cell_type": "code",
   "execution_count": null,
   "metadata": {},
   "outputs": [],
   "source": [
    "select top 25 * from alice.kmeanssample;"
   ]
  },
  {
   "cell_type": "markdown",
   "metadata": {},
   "source": [
    "#### By default %chart uses the most recently accessed result set as input.\n",
    "#### In this case the result set in the cell above will be used.\n",
    "Note that all fields in this table are defined as text fields, so **typey=q** is required to cause a column to be interpreted as quantitative (numeric).<br>"
   ]
  },
  {
   "cell_type": "code",
   "execution_count": 41,
   "metadata": {},
   "outputs": [
    {
     "data": {
      "application/vnd.vegalite.v2+json": {
       "$schema": "https://vega.github.io/schema/vega-lite/v2.json",
       "data": {
        "values": [
         {
          "id": "1",
          "point1": "16.21",
          "point2": "9.07",
          "point3": "6.19",
          "point4": "20.93",
          "point5": "8.74"
         },
         {
          "id": "2",
          "point1": "18.09",
          "point2": "14.05",
          "point3": "10.86",
          "point4": "6.56",
          "point5": "11.35"
         },
         {
          "id": "7",
          "point1": "-7.17",
          "point2": "-7.89",
          "point3": "-9.07",
          "point4": "-8.26",
          "point5": "-11.86"
         },
         {
          "id": "12",
          "point1": "2.72",
          "point2": "2.08",
          "point3": "0.12",
          "point4": "-1.48",
          "point5": "1.58"
         },
         {
          "id": "13",
          "point1": "-3.7",
          "point2": "-0.1",
          "point3": "-1.91",
          "point4": "0.21",
          "point5": "1.12"
         },
         {
          "id": "11",
          "point1": "0.96",
          "point2": "1.18",
          "point3": "-0.35",
          "point4": "1.25",
          "point5": "-0.31"
         },
         {
          "id": "9",
          "point1": "-4.71",
          "point2": "-10",
          "point3": "-5.21",
          "point4": "-6.31",
          "point5": "-2.45"
         },
         {
          "id": "10",
          "point1": "2.13",
          "point2": "2.99",
          "point3": "-13.33",
          "point4": "-11.49",
          "point5": "-9.35"
         },
         {
          "id": "15",
          "point1": "2.74",
          "point2": "-0.05",
          "point3": "-1.87",
          "point4": "2.58",
          "point5": "-1.96"
         },
         {
          "id": "14",
          "point1": "-1.09",
          "point2": "-3.09",
          "point3": "1.58",
          "point4": "-0.77",
          "point5": "1.47"
         },
         {
          "id": "6",
          "point1": "-7.86",
          "point2": "-8.08",
          "point3": "-4.47",
          "point4": "-15.09",
          "point5": "-7.11"
         },
         {
          "id": "4",
          "point1": "13.85",
          "point2": "6.94",
          "point3": "17.68",
          "point4": "14.2",
          "point5": "20.96"
         },
         {
          "id": "8",
          "point1": "-7.87",
          "point2": "-6.286",
          "point3": "-4.21",
          "point4": "-10.03",
          "point5": "-14.25"
         },
         {
          "id": "3",
          "point1": "15.56",
          "point2": "16.61",
          "point3": "12.3",
          "point4": "17.11",
          "point5": "20.54"
         },
         {
          "id": "5",
          "point1": "20.19",
          "point2": "13.77",
          "point3": "-0.85",
          "point4": "16.94",
          "point5": "2.16"
         }
        ]
       },
       "encoding": {
        "x": {
         "axis": {
          "grid": true,
          "title": "id"
         },
         "field": "id",
         "type": "quantitative"
        },
        "y": {
         "axis": {
          "grid": true,
          "title": "point1"
         },
         "field": "point1",
         "type": "quantitative"
        }
       },
       "mark": "bar",
       "title": "<no value>"
      },
      "image/png": "[encoded data removed]"
     },
     "execution_count": 41,
     "metadata": {
      "application/vnd.teradata.resultset": ""
     },
     "output_type": "execute_result"
    }
   ],
   "source": [
    "%chart x=id, y=point1, typey=q"
   ]
  },
  {
   "cell_type": "markdown",
   "metadata": {},
   "source": [
    "#### *** For more charting examples, refer to the ChartingDemo Notebook "
   ]
  },
  {
   "cell_type": "markdown",
   "metadata": {},
   "source": [
    "***\n",
    "### Display previous result set with the %table command\n",
    "#### Like the %chart command, the %table command can be used to show a previous result set based on **history id** or **result set id**"
   ]
  },
  {
   "cell_type": "code",
   "execution_count": 12,
   "metadata": {},
   "outputs": [
    {
     "data": {
      "application/vnd.teradata.resultset": "[{\"Command\":\"select * from Demo.Areas\",\"Connection Name\":\"peach\",\"Elapsed Time\":\"00:00:00.193\",\"Execute Time / \\u0026lt;ResultsetID\\u0026gt;\":\"\\u003c2019.06.19_17.01.03.611_PDT\\u003e\",\"History ID\":\"42\",\"Row Count\":\"89\",\"Status\":\"Success\"},{\"Command\":\"select time\",\"Connection Name\":\"peach\",\"Elapsed Time\":\"00:00:00.040\",\"Execute Time / \\u0026lt;ResultsetID\\u0026gt;\":\"\\u003c2019.06.19_17.00.55.213_PDT\\u003e\",\"History ID\":\"41\",\"Row Count\":\"1\",\"Status\":\"Success\"},{\"Command\":\"select * from Demo.Account f\\n  inner join Demo.Sales s on s.Sales_id = f.Sales_id\\n  where f.sales \\u003e 10 and f.sales \\u003c 500\",\"Connection Name\":\"peach\",\"Elapsed Time\":\"00:00:01.515\",\"Execute Time / \\u0026lt;ResultsetID\\u0026gt;\":\"\\u003c2019.06.12_17.46.01.706_UTC\\u003e\",\"History ID\":\"39\",\"Row Count\":\"28,371\",\"Status\":\"Success\"},{\"Command\":\"select * from Demo.Account\",\"Connection Name\":\"peach\",\"Elapsed Time\":\"00:00:02.103\",\"Execute Time / \\u0026lt;ResultsetID\\u0026gt;\":\"\\u003c2019.06.12_17.44.30.290_UTC\\u003e\",\"History ID\":\"38\",\"Row Count\":\"50,000\",\"Status\":\"Success\"},{\"Command\":\"select * from Demo.Account f\\n  inner join Demo.Sales s on s.Sales_id = f.Sales_id\\n  where f.sales \\u003e 10 and f.sales \\u003c 500\",\"Connection Name\":\"peach\",\"Elapsed Time\":\"00:00:01.631\",\"Execute Time / \\u0026lt;ResultsetID\\u0026gt;\":\"\\u003c2019.06.12_17.17.51.904_UTC\\u003e\",\"History ID\":\"37\",\"Row Count\":\"28,371\",\"Status\":\"Success\"},{\"Command\":\"select * from Demo.Account\",\"Connection Name\":\"peach\",\"Elapsed Time\":\"00:00:03.242\",\"Execute Time / \\u0026lt;ResultsetID\\u0026gt;\":\"\\u003c2019.06.12_17.16.54.145_UTC\\u003e\",\"History ID\":\"36\",\"Row Count\":\"50,000\",\"Status\":\"Success\"},{\"Command\":\"select * from Demo.Areas\",\"Connection Name\":\"peach\",\"Elapsed Time\":\"00:00:00.160\",\"Execute Time / \\u0026lt;ResultsetID\\u0026gt;\":\"\\u003c2019.06.12_17.16.17.218_UTC\\u003e\",\"History ID\":\"35\",\"Row Count\":\"89\",\"Status\":\"Success\"}]",
      "text/html": [
       "<div class = \"td-resultset-table-div\" style = \"max-height: 197px; overflow-y: auto\">\n",
       "  <table class=\"tdresultset\"><style>\n",
       "      .resultset-table { display: block !important; overflow: auto !important; min-height: 197px !important; height: 197px !important; width: 100% !important; }\n",
       "      table.tdhistory { display: block !important; min-height: 197px !important; overflow: auto !important; border: 1px solid rgb(207, 207, 207) !important; border-collapse: collapse !important; ; color: var(--jp-ui-font-color1) !important; }\n",
       "      th.tdhistory { border: 1px solid rgb(198,198,198) !important; border-collapse: collapse !important; ; padding: 2px 5px !important; ; font-size: 13px !important; ; text-align: center !important; white-space: normal !important; color: var(--jp-ui-font-color1) !important; }\n",
       "      th.tdhistory:last-child { text-align: left !important; }\n",
       "      tbody.tdhistory tr:nth-child(even) { background: rgba(243, 243, 243, 0.75) !important; }\n",
       "      tbody.tdhistory tr:nth-child(odd) { background: var(--jp-ui-inverse-font-color1) !important; }\n",
       "      td.tdhistory { border: 1px solid rgb(207, 207, 207) !important; border-collapse: collapse !important; ; padding: 2px 5px !important; ; font-size: 13px !important; ; text-align: left !important;          white-space: nowrap !important; overflow:hidden !important; text-overflow:ellipsis !important;; }\n",
       "    </style><thead><tr style= \"background: #bababa;\"><th class=\"tdhistory\">History ID</th><th class=\"tdhistory\">Execute Time / &lt;ResultsetID&gt;</th><th class=\"tdhistory\">Connection Name</th><th class=\"tdhistory\">Row Count</th><th class=\"tdhistory\">Elapsed Time</th><th class=\"tdhistory\">Status</th><th class=\"tdhistory\">Command</th></tr></thead><tbody class=\"tdhistory resultset-body\"><tr><td class=\"tdhistory\">42</td><td class=\"tdhistory\"><2019.06.19_17.01.03.611_PDT></td><td class=\"tdhistory\">peach</td><td class=\"tdhistory\">89</td><td class=\"tdhistory\">00:00:00.193</td><td class=\"tdhistory\">Success</td><td class=\"tdhistory\">select * from Demo.Areas</td></tr><tr><td class=\"tdhistory\">41</td><td class=\"tdhistory\"><2019.06.19_17.00.55.213_PDT></td><td class=\"tdhistory\">peach</td><td class=\"tdhistory\">1</td><td class=\"tdhistory\">00:00:00.040</td><td class=\"tdhistory\">Success</td><td class=\"tdhistory\">select time</td></tr><tr><td class=\"tdhistory\">39</td><td class=\"tdhistory\"><2019.06.12_17.46.01.706_UTC></td><td class=\"tdhistory\">peach</td><td class=\"tdhistory\">28,371</td><td class=\"tdhistory\">00:00:01.515</td><td class=\"tdhistory\">Success</td><td class=\"tdhistory\">select * from Demo.Account f\n",
       "  inner join Demo.Sales s on s.Sales_id = f.Sales_id\n",
       "  where f.sales > 10 and f.sales < 500</td></tr><tr><td class=\"tdhistory\">38</td><td class=\"tdhistory\"><2019.06.12_17.44.30.290_UTC></td><td class=\"tdhistory\">peach</td><td class=\"tdhistory\">50,000</td><td class=\"tdhistory\">00:00:02.103</td><td class=\"tdhistory\">Success</td><td class=\"tdhistory\">select * from Demo.Account</td></tr><tr><td class=\"tdhistory\">37</td><td class=\"tdhistory\"><2019.06.12_17.17.51.904_UTC></td><td class=\"tdhistory\">peach</td><td class=\"tdhistory\">28,371</td><td class=\"tdhistory\">00:00:01.631</td><td class=\"tdhistory\">Success</td><td class=\"tdhistory\">select * from Demo.Account f\n",
       "  inner join Demo.Sales s on s.Sales_id = f.Sales_id\n",
       "  where f.sales > 10 and f.sales < 500</td></tr><tr><td class=\"tdhistory\">36</td><td class=\"tdhistory\"><2019.06.12_17.16.54.145_UTC></td><td class=\"tdhistory\">peach</td><td class=\"tdhistory\">50,000</td><td class=\"tdhistory\">00:00:03.242</td><td class=\"tdhistory\">Success</td><td class=\"tdhistory\">select * from Demo.Account</td></tr><tr><td class=\"tdhistory\">35</td><td class=\"tdhistory\"><2019.06.12_17.16.17.218_UTC></td><td class=\"tdhistory\">peach</td><td class=\"tdhistory\">89</td><td class=\"tdhistory\">00:00:00.160</td><td class=\"tdhistory\">Success</td><td class=\"tdhistory\">select * from Demo.Areas</td></tr></tbody></table></div>"
      ]
     },
     "execution_count": 12,
     "metadata": {
      "application/vnd.teradata.resultset": "{\"columnMetadata\":[{\"columnName\":\"History ID\",\"columnNumber\":\"0\",\"columnTypeName\":\"string\",\"length\":\"32\"},{\"columnName\":\"Execute Time / \\u0026lt;ResultsetID\\u0026gt;\",\"columnNumber\":\"1\",\"columnTypeName\":\"string\",\"length\":\"32\"},{\"columnName\":\"Connection Name\",\"columnNumber\":\"2\",\"columnTypeName\":\"string\",\"length\":\"100\"},{\"columnName\":\"Row Count\",\"columnNumber\":\"3\",\"columnTypeName\":\"string\",\"length\":\"10\"},{\"columnName\":\"Elapsed Time\",\"columnNumber\":\"4\",\"columnTypeName\":\"string\",\"length\":\"20\"},{\"columnName\":\"Status\",\"columnNumber\":\"5\",\"columnTypeName\":\"string\",\"length\":\"10\"},{\"columnName\":\"Command\",\"columnNumber\":\"6\",\"columnTypeName\":\"string\",\"length\":\"100000\"}],\"historyRequest\":\"true\",\"totalRowCount\":7}"
     },
     "output_type": "execute_result"
    }
   ],
   "source": [
    "%history 7,35"
   ]
  },
  {
   "cell_type": "code",
   "execution_count": 1,
   "metadata": {},
   "outputs": [
    {
     "data": {
      "application/vnd.teradata.resultset": "\"Sales_Center_id\",\"Sales_Center_Name\"\n\"1111\",\"Phoenix\"\n\"2222\",\"Bend\"\n\"3333\",\"Omaha\"\n\"4444\",\"Louisville\"\n\"5555\",\"Bismark\"\n\"6666\",\"Memphis\"\n\"7777\",\"Monroe\"\n\"8888\",\"San Diego\"\n\"9999\",\"Redding\"\n\"1112\",\"South Bend\"\n\"1113\",\"Jacksonville\"\n\"1114\",\"Fort Wayne\"\n\"1115\",\"Billings\"\n\"1116\",\"Portland\"\n\"1117\",\"Ashland\"\n\"1118\",\"Wacco\"\n\"1119\",\"Flint\"\n\"2000\",\"Arlington\"\n\"2111\",\"Bakersfield\"\n\"3111\",\"Orange\"",
      "text/html": [
       "<div class = \"td-resultset-table-div\" style = \"max-height: 100%; overflow-y: auto\">\n",
       "      <table class=\"tdhistory190906\"><style>\n",
       "      table.tdhistory190906 { display: block !important; min-height: 504px !important; overflow: auto !important; height: 504px !important; width: 100% !important; border: 1px solid rgb(207, 207, 207) !important; border-collapse: collapse !important; ; color: var(--jp-ui-font-color1) !important; }\n",
       "      th.tdhistory190906 { border: 1px solid rgb(198,198,198) !important; border-collapse: collapse !important; ; padding: 2px 5px !important; ; font-size: 13px !important; ; text-align: center !important; white-space: normal !important; color: var(--jp-ui-font-color1) !important; }\n",
       "      th.tdhistory190906:last-child { text-align: left !important; }\n",
       "      tbody.tdhistory190906 tr:nth-child(even) { background: rgba(243, 243, 243, 0.75) !important; }\n",
       "      tbody.tdhistory190906 tr:nth-child(odd) { background: var(--jp-ui-inverse-font-color1) !important; }\n",
       "      td.tdhistory190906 { border: 1px solid rgb(207, 207, 207) !important; border-collapse: collapse !important; ; padding: 2px 5px !important; ; font-size: 13px !important; ; text-align: left !important;          white-space: nowrap !important; overflow:hidden !important; text-overflow:ellipsis !important;; }\n",
       "    </style><thead><tr style= \"background: rgba(243, 243, 243, 0.75)\"><th class=\"tdhistory190906\"></th><th class=\"tdhistory190906\">Sales_Center_id</th><th class=\"tdhistory190906\">Sales_Center_Name</th></tr></thead><tbody class=\"tdhistory190906 resultset-body\"><tr><th class=\"tdhistory190906\" style= \"background: rgba(243, 243, 243, 0.75)\">1</th><td class=\"tdhistory190906\">1111</td><td class=\"tdhistory190906\">Phoenix</td></tr><tr><th class=\"tdhistory190906\" style= \"background: rgba(243, 243, 243, 0.75)\">2</th><td class=\"tdhistory190906\">2222</td><td class=\"tdhistory190906\">Bend</td></tr><tr><th class=\"tdhistory190906\" style= \"background: rgba(243, 243, 243, 0.75)\">3</th><td class=\"tdhistory190906\">3333</td><td class=\"tdhistory190906\">Omaha</td></tr><tr><th class=\"tdhistory190906\" style= \"background: rgba(243, 243, 243, 0.75)\">4</th><td class=\"tdhistory190906\">4444</td><td class=\"tdhistory190906\">Louisville</td></tr><tr><th class=\"tdhistory190906\" style= \"background: rgba(243, 243, 243, 0.75)\">5</th><td class=\"tdhistory190906\">5555</td><td class=\"tdhistory190906\">Bismark</td></tr><tr><th class=\"tdhistory190906\" style= \"background: rgba(243, 243, 243, 0.75)\">6</th><td class=\"tdhistory190906\">6666</td><td class=\"tdhistory190906\">Memphis</td></tr><tr><th class=\"tdhistory190906\" style= \"background: rgba(243, 243, 243, 0.75)\">7</th><td class=\"tdhistory190906\">7777</td><td class=\"tdhistory190906\">Monroe</td></tr><tr><th class=\"tdhistory190906\" style= \"background: rgba(243, 243, 243, 0.75)\">8</th><td class=\"tdhistory190906\">8888</td><td class=\"tdhistory190906\">San Diego</td></tr><tr><th class=\"tdhistory190906\" style= \"background: rgba(243, 243, 243, 0.75)\">9</th><td class=\"tdhistory190906\">9999</td><td class=\"tdhistory190906\">Redding</td></tr><tr><th class=\"tdhistory190906\" style= \"background: rgba(243, 243, 243, 0.75)\">10</th><td class=\"tdhistory190906\">1112</td><td class=\"tdhistory190906\">South Bend</td></tr><tr><th class=\"tdhistory190906\" style= \"background: rgba(243, 243, 243, 0.75)\">11</th><td class=\"tdhistory190906\">1113</td><td class=\"tdhistory190906\">Jacksonville</td></tr><tr><th class=\"tdhistory190906\" style= \"background: rgba(243, 243, 243, 0.75)\">12</th><td class=\"tdhistory190906\">1114</td><td class=\"tdhistory190906\">Fort Wayne</td></tr><tr><th class=\"tdhistory190906\" style= \"background: rgba(243, 243, 243, 0.75)\">13</th><td class=\"tdhistory190906\">1115</td><td class=\"tdhistory190906\">Billings</td></tr><tr><th class=\"tdhistory190906\" style= \"background: rgba(243, 243, 243, 0.75)\">14</th><td class=\"tdhistory190906\">1116</td><td class=\"tdhistory190906\">Portland</td></tr><tr><th class=\"tdhistory190906\" style= \"background: rgba(243, 243, 243, 0.75)\">15</th><td class=\"tdhistory190906\">1117</td><td class=\"tdhistory190906\">Ashland</td></tr><tr><th class=\"tdhistory190906\" style= \"background: rgba(243, 243, 243, 0.75)\">16</th><td class=\"tdhistory190906\">1118</td><td class=\"tdhistory190906\">Wacco</td></tr><tr><th class=\"tdhistory190906\" style= \"background: rgba(243, 243, 243, 0.75)\">17</th><td class=\"tdhistory190906\">1119</td><td class=\"tdhistory190906\">Flint</td></tr><tr><th class=\"tdhistory190906\" style= \"background: rgba(243, 243, 243, 0.75)\">18</th><td class=\"tdhistory190906\">2000</td><td class=\"tdhistory190906\">Arlington</td></tr><tr><th class=\"tdhistory190906\" style= \"background: rgba(243, 243, 243, 0.75)\">19</th><td class=\"tdhistory190906\">2111</td><td class=\"tdhistory190906\">Bakersfield</td></tr><tr><th class=\"tdhistory190906\" style= \"background: rgba(243, 243, 243, 0.75)\">20</th><td class=\"tdhistory190906\">3111</td><td class=\"tdhistory190906\">Orange</td></tr></tbody></table></div>"
      ]
     },
     "execution_count": 1,
     "metadata": {
      "application/vnd.teradata.resultset": "{\"resultSetID\":\"/Users/guest/jupyterlabworkspaces/jlab22-workspace/Teradata/Resultsets/2020.08.10_11.31.17.044_PDT\",\"historyID\":71,\"chunkID\":\"00001\",\"sessionid\":\"\",\"portnum\":\"\",\"dockermode\":\"standalone\",\"totalRowCount\":20,\"chunkCount\":2,\"rowLimit\":0,\"columnMetadata\":[{\"columnName\":\"Sales_Center_id\",\"columnTypeName\":\"INTEGER\"},{\"columnNumber\":1,\"columnName\":\"Sales_Center_Name\",\"columnTypeName\":\"VARCHAR\",\"length\":255,\"scale\":255}]}"
     },
     "output_type": "execute_result"
    }
   ],
   "source": [
    "%table 71"
   ]
  },
  {
   "cell_type": "markdown",
   "metadata": {},
   "source": [
    "***\n",
    "### Sharing Result Sets\n",
    "#### Teradata result sets can easily be used in another type of notebook (e.g. Python or R)\n",
    "Result sets are stored under the Teradata/ResultSets directory that is created in the JupterLab working directory (the directory in which 'juptyer lab' command is executed).\n",
    "Under the Teradata/ResultSets directory is a set of directories named with a timestamp (e.g. 2019.04.17_13.37.30.129_PDT). Each of these directories contains a single result set. Within a result set directory are two files. The file named metadata.json is the result set metadata. It defines the data types of each column in the result set as well as some general information. The other file is the results.csv file. This file contains the result set data as comma separated fields. You can open the results.csv file using JupyterLab's built-in CSV viewer.<br><br>\n",
    "\n",
    "\n",
    "#### The easiest way to use a Teradata result set is to click the \"Copy Result Set Path\" button at the top of each result set table.\n",
    "\n",
    "The \"Copy Result Set Path\" button will copy the displayed result set path to the clipboard. This value can then be pasted into a cell of another notebook to load the result set into that notebook.<br><br>To load a result set from a table into a Python Pandas dataframe,\n",
    "\n",
    "1. run a SQL query or use the %table command\n",
    "1. click the \"Copy Result Set Path\" button above the displayed table\n",
    "1. paste the result set path into a Python notebook using the command **pd.read_csv(\"<ResultSetPath>\")**<br>\n",
    "   for example:<br><br>\n",
    "`\n",
    "import pandas as pd\n",
    "df = pd.read_csv(\"/root/JupyterLabHome/TeradataResultsets/2018.04.25_13.37.30.129_PDT/results.csv\")\n",
    "df\n",
    "`"
   ]
  },
  {
   "cell_type": "markdown",
   "metadata": {},
   "source": [
    "***\n",
    "# Teradata SQL Syntax coloring\n",
    "<ul>\n",
    "<li>Includes Keywords, Functions, UnreservedKeywords, BuiltInFunctions</li>\n",
    "</ul>"
   ]
  },
  {
   "cell_type": "code",
   "execution_count": null,
   "metadata": {},
   "outputs": [],
   "source": [
    "alter and date timestamp tinyblob begin teradata\n",
    "--dbc\n",
    "/*\n",
    "dbc\n",
    "*/\n",
    "\n",
    "SELECT * FROm attribtion (\n",
    "    \n",
    " ON యూనికోడ  AS INPUT  PARTITION BY 用户�?? OrDER BY time_stamp\n",
    " ON conversion_event_table AS convOFersion DIMENSION \n",
    " ON optional_event_table AS optional DIMENSION \n",
    " ON आदर�?श  AS model1 DIMENSION\n",
    " ON model2_table_fun2 AS model2 DIMENSION\n",
    " USING \n",
    " EVENT_COLUMN_NAOOME('ঘটনা')\n",
    " TIMESTAMP_COLUMN_NAME('time_stamp') \n",
    " WINDOW('rows:10&seconds:20') \n",
    ")ORDER By 用户�??, time_stamp;\n",
    "\n",
    "select ARRAY_EQ ACCORDING && || + - / * $ % ^ & & "
   ]
  },
  {
   "cell_type": "markdown",
   "metadata": {},
   "source": [
    "***\n",
    "# Teradata Syntax Checking\n",
    "<ul>\n",
    "<li>Provides Syntax Checking to validate sql.  Type shift+Tab to run syntax checking on cell contents.</li>\n",
    "</ul>"
   ]
  },
  {
   "cell_type": "markdown",
   "metadata": {},
   "source": [
    "***\n",
    "# Content Assist\n",
    "<ul>\n",
    "<li>Provide Data Dictionary objects and Parser results</li>\n",
    "<li>Colored types are provided for easy distinction</li>\n",
    "<li>Type Tab key within cell to launch content assist</li>\n",
    "</ul>"
   ]
  },
  {
   "cell_type": "markdown",
   "metadata": {},
   "source": [
    "***\n",
    "## Displaying Python and R Version Information\n",
    "The <b>%pyinfo</b> and <b>%rinfo</b> commands will display information about the version of Python and R and the addtional modules that are installed on the actively connected <b>Teradata Vantage</b> system. If the module parameter is specified for either of the commands, the list of modules will show only the installed modules whose names start with the parameter value. The commands will only be successful if the actively connected <b>Teradata Vantage</b> system has R or Python installed."
   ]
  },
  {
   "cell_type": "code",
   "execution_count": 42,
   "metadata": {},
   "outputs": [
    {
     "name": "stdin",
     "output_type": "stream",
     "text": [
      "Password: ···\n"
     ]
    },
    {
     "name": "stdout",
     "output_type": "stream",
     "text": [
      "Success: 'teradata-vantage' connection established and activated for user 'dbc'\n"
     ]
    }
   ],
   "source": [
    "%connect teradata-vantage"
   ]
  },
  {
   "cell_type": "code",
   "execution_count": null,
   "metadata": {},
   "outputs": [],
   "source": [
    "%rinfo"
   ]
  },
  {
   "cell_type": "code",
   "execution_count": null,
   "metadata": {},
   "outputs": [],
   "source": [
    "%pyinfo"
   ]
  },
  {
   "cell_type": "markdown",
   "metadata": {},
   "source": [
    "***\n",
    "## Snippets\n",
    "**SQL Snippets** provide a template/example for basic SQL commands. \n",
    "<p>The snippet is invoked by executing a cell with the SQL keyword, such as ALTER, CREATE, DELETE, or UPDATE, directly followed by a question mark'?'. For example, ALTER?<SHIFT+RETURN>. You can then copy and paste the SQL snippet into the input cell of your Teradata SQL notebook.<p>Run the <b>%help snippets</b> command to see the list of SQL command snippets."
   ]
  },
  {
   "cell_type": "code",
   "execution_count": null,
   "metadata": {},
   "outputs": [],
   "source": [
    "%help snippets"
   ]
  },
  {
   "cell_type": "markdown",
   "metadata": {},
   "source": [
    "#### Get the snippets for 'CREATE' SQL commands"
   ]
  },
  {
   "cell_type": "code",
   "execution_count": 10,
   "metadata": {},
   "outputs": [
    {
     "name": "stdout",
     "output_type": "stream",
     "text": [
      "CREATE MACRO (INSERT):\n",
      "   CREATE MACRO {macroName} (\n",
      "        {parameterName1} {parameterType1},\n",
      "        {parameterName2} {parameterType2}) AS\n",
      "        (INSERT INTO {tableName}({columnName1}, {columnName2})\n",
      "             VALUES(:{parameterName1}, :{parameterName2});\n",
      "             /* The following select verifies the insert */\n",
      "             SELECT *\n",
      "                  FROM {tableName}\n",
      "                  WHERE {columnName1}=:{parameterName1};\n",
      "        );\n",
      "\n",
      "CREATE MACRO (SELECT):\n",
      "   CREATE MACRO {macroName} AS (\n",
      "        SELECT {columnName} (TITLE '{columnTitle}1'),\n",
      "             {columnName2} (TITLE '{columnTitle2}'),\n",
      "             {columnName3} (TITLE '{columnTitle3}')\n",
      "             FROM {tableName}\n",
      "             ORDER BY {orderBy};\n",
      "   );\n",
      "\n",
      "EXECUTE MACRO:\n",
      "   EXEC {mymacro} ({parameter1}, {parameter2}, {parameter3});\n",
      "\n"
     ]
    }
   ],
   "source": [
    "MACRO?"
   ]
  },
  {
   "cell_type": "markdown",
   "metadata": {},
   "source": [
    "***\n",
    "<h4> Not done yet? Refer to the GettingStartedDemo notebook for a live example using the Teradata SQL notebook.</h4>"
   ]
  },
  {
   "cell_type": "markdown",
   "metadata": {},
   "source": [
    "Copyright 2022 Teradata. All rights reserved."
   ]
  }
 ],
 "metadata": {
  "kernelspec": {
   "display_name": "Teradata SQL",
   "language": "Teradata SQL",
   "name": "teradatasql"
  },
  "language_info": {
   "codemirror_mode": "Teradata SQL",
   "file_extension": ".tdrs",
   "mimetype": "application/vnd.teradata.resultset",
   "name": "Teradata SQL",
   "nbconvert_exporter": "",
   "pygments_lexer": "",
   "version": "16.20"
  },
  "toc-autonumbering": false
 },
 "nbformat": 4,
 "nbformat_minor": 4
}
