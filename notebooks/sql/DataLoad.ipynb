{
 "cells": [
  {
   "cell_type": "markdown",
   "metadata": {},
   "source": [
    "<h3>Data Loading</h3>\n",
    "<p>The Data Load feature supports loading a CSV file into an existing table in your database.  The data must be in the proper format to insert into the columns of your table.  Specifically, data types must match and any data constraints must be met.  No pre-processing of the data file is performed.  The maximum number of rows loaded is 100,000 if batch mode is selected.  The maximum number of rows is 500,000 if fast mode is selected.  Fast load will automatically be used for files with more than 100,000 rows in order to improve loading performance.  It can also be selected explicitly by the user. \n",
    "<br>   \n",
    "<b>Note: The following limitations apply when fast load is used:</b>\n",
    "    <li>The table must be empty</li>\n",
    "    <li>The table cannot be a volatile table or global temporary table</li>\n",
    "    <li>There must be sufficient room in the database to load the data</li>\n",
    "<br>\n",
    "    The status of your dataload is stored in the Teradata SQL History.  You can view the history by running the %history magic command.  If an error occurs while attempting to load your data, the entire load operation will be rolled back. \n",
    "<p>You can cancel the dataload once it has started by pressing the interrupt button on the notebook toolbar.\n",
    "    \n",
    "<p><b>***NOTE: To execute the SQL or magic command in the cell, press SHIFT+ENTER or the run button in the toolbar.</b>\n"
   ]
  },
  {
   "cell_type": "markdown",
   "metadata": {},
   "source": [
    "#### Enter '%help dataload' to find out more about the %dataload magic"
   ]
  },
  {
   "cell_type": "code",
   "execution_count": 1,
   "metadata": {
    "vscode": {
     "languageId": "teradata sql"
    }
   },
   "outputs": [
    {
     "data": {
      "text/markdown": [
       "#### %dataload\n",
       "Load a CSV file into a database table.\n",
       "\n",
       "%dataload table=&lt;TableName&gt;, filepath=&lt;Path to CSV file&gt; [,database=&lt;DatabaseName&gt;][, batchsize=&lt;Rows per Batch&gt;] [, autocommit=&lt;True&gt;] [, mode=&lt;batch|fast&gt;] [, skiprows=&lt;rows to skip at the start of file&gt;]\n",
       "\n",
       "* **database** is optional. if not specified, the default database of the current session is used.\n",
       "* The **filepath** is relative to the JupyterLab workspace (where JupyterLab was launched).\n",
       "* You can specify an absolute file path by starting the path with the OS specific directory notation.\n",
       "* **batchsize** specifies the number of rows per batch.\n",
       "  * Valid values are between 1 and 16383 for batch load. The default value is 5000 for batch load and 100000 for fast load.\n",
       "* **autocommit** indicates whether to commit each batch load.\n",
       "  * The default value is false (only commit when all batches have run). When autocommit is set to false and an error occurs, a rollback is performed.\n",
       "  * When autocommit is set to true and an error occurs, any rows loaded will NOT be rolled back.\n",
       "  * Set autocommit to true when a Database error is returned indicating the load has exceeded the maximum number of rowhash locks allowed.\n",
       "  * autocommit is always turned off for fast load.\n",
       "* **mode** specifies whether to use batch load or fast load. Fast load supports quick loading of large amounts of data.\n",
       "  * It is recommended to use fast load only for large files with at least 100,000 rows.\n",
       "  * The default mode is batch load for files with less than 100,000 rows. Fast load is used for large files with at least 100,000 rows.\n",
       "  * The destination table must be empty to use fast load.\n",
       "  * FastLoad cannot load into a volatile table or global temporary table.\n",
       "  * Please make sure there is enough space in database before loading data. If you encounter \"No more room in database\" error using fast load, please make more space, drop and recreate the table, and then retry fast load.\n",
       "  * For more information on fast load, please refer to github.com/Teradata/python-driver#fastload\n",
       "* **skiprows** specifies number of rows to skip at start of the CSV file.\n",
       "* The maximum number of rows that the **%dataload** magic will load is currently set to 100,000 rows for batch load and 500,000 for fast load.  Loading will stop when the maximum is reached.\n",
       "* The data must be in the proper format to insert into the columns of your table. Specifically, data types must match and any data constraints must be met. \n",
       "No pre-processing of the data file is performed.\n",
       "* If an error occurs while attempting to load your data and autocommit is false, the entire load operation will be rolled back. \n",
       "* The status of your dataload is stored in the Teradata SQL History."
      ]
     },
     "execution_count": 1,
     "metadata": {
      "application/vnd.teradata.resultset": "helpdata"
     },
     "output_type": "execute_result"
    }
   ],
   "source": [
    "%help dataload"
   ]
  },
  {
   "cell_type": "markdown",
   "metadata": {},
   "source": [
    "#### Add a connection and connect to your Vantage system\n",
    "Replace the systemName, user, host, and db values for your system."
   ]
  },
  {
   "cell_type": "code",
   "execution_count": null,
   "metadata": {
    "vscode": {
     "languageId": "teradata sql"
    }
   },
   "outputs": [],
   "source": [
    "%var systemName=<Vantage-system>, user=<user name>, host=<host name or IP>, db=<database>"
   ]
  },
  {
   "cell_type": "code",
   "execution_count": null,
   "metadata": {
    "vscode": {
     "languageId": "teradata sql"
    }
   },
   "outputs": [],
   "source": [
    "%addconnect name=${systemName}, user=${user}, host=${host}"
   ]
  },
  {
   "cell_type": "code",
   "execution_count": null,
   "metadata": {
    "vscode": {
     "languageId": "teradata sql"
    }
   },
   "outputs": [],
   "source": [
    "%connect ${systemName}"
   ]
  },
  {
   "cell_type": "markdown",
   "metadata": {},
   "source": [
    "#### Set your Vantage Database"
   ]
  },
  {
   "cell_type": "code",
   "execution_count": null,
   "metadata": {
    "vscode": {
     "languageId": "teradata sql"
    }
   },
   "outputs": [],
   "source": [
    "DATABASE ${db}"
   ]
  },
  {
   "cell_type": "markdown",
   "metadata": {},
   "source": [
    "#### Create an empty table in your database"
   ]
  },
  {
   "cell_type": "code",
   "execution_count": null,
   "metadata": {
    "vscode": {
     "languageId": "teradata sql"
    }
   },
   "outputs": [],
   "source": [
    "CREATE MULTISET TABLE airports ,NO FALLBACK ,\n",
    "     NO BEFORE JOURNAL,\n",
    "     NO AFTER JOURNAL,\n",
    "     CHECKSUM = DEFAULT,\n",
    "     DEFAULT MERGEBLOCKRATIO\n",
    "     (\n",
    "      City VARCHAR(50) CHARACTER SET LATIN CASESPECIFIC,\n",
    "      Name VARCHAR(50) CHARACTER SET LATIN CASESPECIFIC,\n",
    "      Code VARCHAR(3) CHARACTER SET LATIN CASESPECIFIC)\n",
    "PRIMARY INDEX ( City );"
   ]
  },
  {
   "cell_type": "markdown",
   "metadata": {},
   "source": [
    "<h4>Run %dataload magic</h4>\n",
    "<p>Run the %dataload magic, specifying the <b>DATABASE</b>, <b>TABLE</b>, and <b>FILEPATH</b> parameter values. The <b>FILEPATH</b> indicates the path to your CSV file. The path is relative to your JupyterLab workspace. You can also provide an absolute path to your CSV file in the <b>FILEPATH</b> value.\n",
    "<p> Below shows loading the local airports.csv file (located in the notebooks/sql/data directory) into the airports table within your database."
   ]
  },
  {
   "cell_type": "code",
   "execution_count": null,
   "metadata": {
    "vscode": {
     "languageId": "teradata sql"
    }
   },
   "outputs": [],
   "source": [
    "%dataload DATABASE=${db}, TABLE=airports, FILEPATH=notebooks/sql/data/airports.csv"
   ]
  },
  {
   "cell_type": "markdown",
   "metadata": {},
   "source": [
    "<h4>Verify data was loaded by running SELECT query</h4>"
   ]
  },
  {
   "cell_type": "code",
   "execution_count": null,
   "metadata": {
    "vscode": {
     "languageId": "teradata sql"
    }
   },
   "outputs": [],
   "source": [
    "SELECT * FROM airports;"
   ]
  },
  {
   "cell_type": "markdown",
   "metadata": {},
   "source": [
    "<h4>Data Load Status</h4>\n",
    "<p>The status of the dataload is stored in the history. Run the %history magic to display the latest status."
   ]
  },
  {
   "cell_type": "code",
   "execution_count": null,
   "metadata": {
    "vscode": {
     "languageId": "teradata sql"
    }
   },
   "outputs": [],
   "source": [
    "%history"
   ]
  },
  {
   "cell_type": "markdown",
   "metadata": {},
   "source": [
    "#### Clean up table"
   ]
  },
  {
   "cell_type": "code",
   "execution_count": null,
   "metadata": {
    "vscode": {
     "languageId": "teradata sql"
    }
   },
   "outputs": [],
   "source": [
    "DROP TABLE airports;"
   ]
  },
  {
   "cell_type": "markdown",
   "metadata": {},
   "source": [
    "Copyright 2021-2025 Teradata. All rights reserved."
   ]
  }
 ],
 "metadata": {
  "kernelspec": {
   "display_name": "Teradata SQL",
   "language": "Teradata SQL",
   "name": "teradatasql"
  },
  "language_info": {
   "codemirror_mode": "Teradata SQL",
   "file_extension": ".tdrs",
   "mimetype": "application/vnd.teradata.resultset",
   "name": "Teradata SQL",
   "nbconvert_exporter": "",
   "pygments_lexer": "",
   "version": "16.20"
  }
 },
 "nbformat": 4,
 "nbformat_minor": 4
}
